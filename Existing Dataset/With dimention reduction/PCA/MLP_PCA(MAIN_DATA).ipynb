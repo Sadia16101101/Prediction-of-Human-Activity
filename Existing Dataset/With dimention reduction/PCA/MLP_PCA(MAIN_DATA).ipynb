{
  "nbformat": 4,
  "nbformat_minor": 0,
  "metadata": {
    "colab": {
      "name": " MLP-PCA(MAIN DATA).ipynb",
      "provenance": [],
      "collapsed_sections": []
    },
    "kernelspec": {
      "name": "python3",
      "display_name": "Python 3"
    }
  },
  "cells": [
    {
      "cell_type": "code",
      "metadata": {
        "id": "yL9_GD3105V3",
        "colab_type": "code",
        "outputId": "9e9bba04-95cc-4bd2-8f15-a240e138fd69",
        "colab": {
          "base_uri": "https://localhost:8080/",
          "height": 241
        }
      },
      "source": [
        "!pip install scikit-plot"
      ],
      "execution_count": 0,
      "outputs": [
        {
          "output_type": "stream",
          "text": [
            "Requirement already satisfied: scikit-plot in /usr/local/lib/python3.6/dist-packages (0.3.7)\n",
            "Requirement already satisfied: matplotlib>=1.4.0 in /usr/local/lib/python3.6/dist-packages (from scikit-plot) (3.1.1)\n",
            "Requirement already satisfied: scipy>=0.9 in /usr/local/lib/python3.6/dist-packages (from scikit-plot) (1.3.2)\n",
            "Requirement already satisfied: joblib>=0.10 in /usr/local/lib/python3.6/dist-packages (from scikit-plot) (0.14.0)\n",
            "Requirement already satisfied: scikit-learn>=0.18 in /usr/local/lib/python3.6/dist-packages (from scikit-plot) (0.21.3)\n",
            "Requirement already satisfied: numpy>=1.11 in /usr/local/lib/python3.6/dist-packages (from matplotlib>=1.4.0->scikit-plot) (1.17.4)\n",
            "Requirement already satisfied: kiwisolver>=1.0.1 in /usr/local/lib/python3.6/dist-packages (from matplotlib>=1.4.0->scikit-plot) (1.1.0)\n",
            "Requirement already satisfied: python-dateutil>=2.1 in /usr/local/lib/python3.6/dist-packages (from matplotlib>=1.4.0->scikit-plot) (2.6.1)\n",
            "Requirement already satisfied: cycler>=0.10 in /usr/local/lib/python3.6/dist-packages (from matplotlib>=1.4.0->scikit-plot) (0.10.0)\n",
            "Requirement already satisfied: pyparsing!=2.0.4,!=2.1.2,!=2.1.6,>=2.0.1 in /usr/local/lib/python3.6/dist-packages (from matplotlib>=1.4.0->scikit-plot) (2.4.5)\n",
            "Requirement already satisfied: setuptools in /usr/local/lib/python3.6/dist-packages (from kiwisolver>=1.0.1->matplotlib>=1.4.0->scikit-plot) (41.4.0)\n",
            "Requirement already satisfied: six>=1.5 in /usr/local/lib/python3.6/dist-packages (from python-dateutil>=2.1->matplotlib>=1.4.0->scikit-plot) (1.12.0)\n"
          ],
          "name": "stdout"
        }
      ]
    },
    {
      "cell_type": "code",
      "metadata": {
        "id": "91n-pWVs0_3I",
        "colab_type": "code",
        "colab": {}
      },
      "source": [
        "#!/usr/bin/env python\n",
        "# coding: utf-8"
      ],
      "execution_count": 0,
      "outputs": []
    },
    {
      "cell_type": "code",
      "metadata": {
        "id": "KDRRXal81DZI",
        "colab_type": "code",
        "outputId": "d3dfd841-adfc-4d4a-8a52-750d3d32becd",
        "colab": {
          "base_uri": "https://localhost:8080/",
          "height": 97
        }
      },
      "source": [
        "import numpy as np\n",
        "import pandas as pd\n",
        "import matplotlib.pyplot as plt\n",
        "import tensorflow as tf\n",
        "from keras.models import Sequential\n",
        "from keras.layers import Dense\n",
        "from keras.utils import np_utils"
      ],
      "execution_count": 0,
      "outputs": [
        {
          "output_type": "display_data",
          "data": {
            "text/html": [
              "<p style=\"color: red;\">\n",
              "The default version of TensorFlow in Colab will soon switch to TensorFlow 2.x.<br>\n",
              "We recommend you <a href=\"https://www.tensorflow.org/guide/migrate\" target=\"_blank\">upgrade</a> now \n",
              "or ensure your notebook will continue to use TensorFlow 1.x via the <code>%tensorflow_version 1.x</code> magic:\n",
              "<a href=\"https://colab.research.google.com/notebooks/tensorflow_version.ipynb\" target=\"_blank\">more info</a>.</p>\n"
            ],
            "text/plain": [
              "<IPython.core.display.HTML object>"
            ]
          },
          "metadata": {
            "tags": []
          }
        },
        {
          "output_type": "stream",
          "text": [
            "Using TensorFlow backend.\n"
          ],
          "name": "stderr"
        }
      ]
    },
    {
      "cell_type": "code",
      "metadata": {
        "id": "1jDPT85H1L-I",
        "colab_type": "code",
        "outputId": "6461501b-007e-4478-c01d-cd397688d130",
        "colab": {
          "resources": {
            "http://localhost:8080/nbextensions/google.colab/files.js": {
              "data": "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",
              "ok": true,
              "headers": [
                [
                  "content-type",
                  "application/javascript"
                ]
              ],
              "status": 200,
              "status_text": ""
            }
          },
          "base_uri": "https://localhost:8080/",
          "height": 74
        }
      },
      "source": [
        "from google.colab import files\n",
        "uploaded = files.upload()"
      ],
      "execution_count": 0,
      "outputs": [
        {
          "output_type": "display_data",
          "data": {
            "text/html": [
              "\n",
              "     <input type=\"file\" id=\"files-32d34175-6127-42fd-a497-17c9b3f2fcdf\" name=\"files[]\" multiple disabled />\n",
              "     <output id=\"result-32d34175-6127-42fd-a497-17c9b3f2fcdf\">\n",
              "      Upload widget is only available when the cell has been executed in the\n",
              "      current browser session. Please rerun this cell to enable.\n",
              "      </output>\n",
              "      <script src=\"/nbextensions/google.colab/files.js\"></script> "
            ],
            "text/plain": [
              "<IPython.core.display.HTML object>"
            ]
          },
          "metadata": {
            "tags": []
          }
        },
        {
          "output_type": "stream",
          "text": [
            "Saving train.csv to train.csv\n"
          ],
          "name": "stdout"
        }
      ]
    },
    {
      "cell_type": "code",
      "metadata": {
        "id": "NTk4PPO764oB",
        "colab_type": "code",
        "colab": {}
      },
      "source": [
        "#from sklearn.preprocessing import OneHotEncoder\n",
        "#ohe = OneHotEncoder(sparse=False)\n",
        "#y_train_ohe = ohe.fit_transform(y_train)\n",
        "# Encoding training dataset"
      ],
      "execution_count": 0,
      "outputs": []
    },
    {
      "cell_type": "code",
      "metadata": {
        "id": "nBatqCFHv0Jm",
        "colab_type": "code",
        "colab": {}
      },
      "source": [
        "df= pd.read_csv(\"train.csv\")"
      ],
      "execution_count": 0,
      "outputs": []
    },
    {
      "cell_type": "code",
      "metadata": {
        "id": "xm0Ys82Jv1-N",
        "colab_type": "code",
        "colab": {}
      },
      "source": [
        "dx = pd.DataFrame(df.drop(['Activity','subject'],axis=1))\n",
        "dy_label = df.Activity.values.astype(object)"
      ],
      "execution_count": 0,
      "outputs": []
    },
    {
      "cell_type": "code",
      "metadata": {
        "id": "h9hRSHKeFG_I",
        "colab_type": "code",
        "colab": {}
      },
      "source": [
        ""
      ],
      "execution_count": 0,
      "outputs": []
    },
    {
      "cell_type": "code",
      "metadata": {
        "id": "F-NB10ABv67F",
        "colab_type": "code",
        "colab": {}
      },
      "source": [
        "from sklearn import linear_model\n",
        "# Transforming non numerical labels into numerical labels\n",
        "from sklearn import preprocessing\n",
        "encoder = preprocessing.LabelEncoder()"
      ],
      "execution_count": 0,
      "outputs": []
    },
    {
      "cell_type": "code",
      "metadata": {
        "id": "b81BlPgnv_he",
        "colab_type": "code",
        "colab": {}
      },
      "source": [
        "# encoding train labels \n",
        "encoder.fit(dy_label)\n",
        "dy = encoder.transform(dy_label)"
      ],
      "execution_count": 0,
      "outputs": []
    },
    {
      "cell_type": "code",
      "metadata": {
        "id": "g4umUfVkFME0",
        "colab_type": "code",
        "outputId": "cf3dbf06-f28d-48ea-8a3d-8cd4f129de29",
        "colab": {
          "base_uri": "https://localhost:8080/",
          "height": 34
        }
      },
      "source": [
        "dy.shape"
      ],
      "execution_count": 0,
      "outputs": [
        {
          "output_type": "execute_result",
          "data": {
            "text/plain": [
              "(7352,)"
            ]
          },
          "metadata": {
            "tags": []
          },
          "execution_count": 67
        }
      ]
    },
    {
      "cell_type": "code",
      "metadata": {
        "id": "5REOePZdFNM0",
        "colab_type": "code",
        "colab": {}
      },
      "source": [
        ""
      ],
      "execution_count": 0,
      "outputs": []
    },
    {
      "cell_type": "code",
      "metadata": {
        "id": "wenTLlayyWnh",
        "colab_type": "code",
        "colab": {}
      },
      "source": [
        "#PCA APPLY\n",
        "from sklearn.decomposition import PCA,TruncatedSVD\n",
        "pca= PCA(n_components=150, whiten= 'True')\n",
        "x= pca.fit(dx).transform(dx)\n"
      ],
      "execution_count": 0,
      "outputs": []
    },
    {
      "cell_type": "code",
      "metadata": {
        "id": "07zh9eeSFQ90",
        "colab_type": "code",
        "outputId": "11f25167-db03-4b26-fe57-fa52a3b62f52",
        "colab": {
          "base_uri": "https://localhost:8080/",
          "height": 34
        }
      },
      "source": [
        "x.shape"
      ],
      "execution_count": 0,
      "outputs": [
        {
          "output_type": "execute_result",
          "data": {
            "text/plain": [
              "(7352, 150)"
            ]
          },
          "metadata": {
            "tags": []
          },
          "execution_count": 70
        }
      ]
    },
    {
      "cell_type": "code",
      "metadata": {
        "id": "1hnD2BYDFSgk",
        "colab_type": "code",
        "outputId": "431bb809-29eb-46ed-cbc1-be30fbdb93c2",
        "colab": {
          "base_uri": "https://localhost:8080/",
          "height": 34
        }
      },
      "source": [
        "dy.shape"
      ],
      "execution_count": 0,
      "outputs": [
        {
          "output_type": "execute_result",
          "data": {
            "text/plain": [
              "(7352,)"
            ]
          },
          "metadata": {
            "tags": []
          },
          "execution_count": 72
        }
      ]
    },
    {
      "cell_type": "code",
      "metadata": {
        "id": "BCqFGXIwFUmk",
        "colab_type": "code",
        "colab": {}
      },
      "source": [
        ""
      ],
      "execution_count": 0,
      "outputs": []
    },
    {
      "cell_type": "code",
      "metadata": {
        "id": "Jc9zSl1kwC1F",
        "colab_type": "code",
        "colab": {}
      },
      "source": [
        "from sklearn.model_selection import train_test_split\n",
        "X_train, X_test, Y_train, Y_test = train_test_split(x,dy,test_size=0.2, random_state=4)"
      ],
      "execution_count": 0,
      "outputs": []
    },
    {
      "cell_type": "code",
      "metadata": {
        "id": "uDCIg_A4FnNE",
        "colab_type": "code",
        "outputId": "653f2c9b-06de-4a48-ede5-5c91951cd330",
        "colab": {
          "base_uri": "https://localhost:8080/",
          "height": 34
        }
      },
      "source": [
        "X_train.shape"
      ],
      "execution_count": 0,
      "outputs": [
        {
          "output_type": "execute_result",
          "data": {
            "text/plain": [
              "(5881, 150)"
            ]
          },
          "metadata": {
            "tags": []
          },
          "execution_count": 74
        }
      ]
    },
    {
      "cell_type": "code",
      "metadata": {
        "id": "umCJZY9HFpqE",
        "colab_type": "code",
        "outputId": "ce81e765-f024-4d8a-f924-c8d35147c266",
        "colab": {
          "base_uri": "https://localhost:8080/",
          "height": 34
        }
      },
      "source": [
        "Y_train.shape"
      ],
      "execution_count": 0,
      "outputs": [
        {
          "output_type": "execute_result",
          "data": {
            "text/plain": [
              "(5881, 6)"
            ]
          },
          "metadata": {
            "tags": []
          },
          "execution_count": 83
        }
      ]
    },
    {
      "cell_type": "code",
      "metadata": {
        "id": "mEUOSED1FtuG",
        "colab_type": "code",
        "colab": {}
      },
      "source": [
        ""
      ],
      "execution_count": 0,
      "outputs": []
    },
    {
      "cell_type": "code",
      "metadata": {
        "id": "Du3hWAx2Frxk",
        "colab_type": "code",
        "colab": {}
      },
      "source": [
        ""
      ],
      "execution_count": 0,
      "outputs": []
    },
    {
      "cell_type": "code",
      "metadata": {
        "id": "KYEdEDkBFpvI",
        "colab_type": "code",
        "colab": {}
      },
      "source": [
        ""
      ],
      "execution_count": 0,
      "outputs": []
    },
    {
      "cell_type": "code",
      "metadata": {
        "id": "AwXKZylCFpyX",
        "colab_type": "code",
        "colab": {}
      },
      "source": [
        ""
      ],
      "execution_count": 0,
      "outputs": []
    },
    {
      "cell_type": "code",
      "metadata": {
        "id": "Z3wfvaFswZAs",
        "colab_type": "code",
        "colab": {}
      },
      "source": [
        ""
      ],
      "execution_count": 0,
      "outputs": []
    },
    {
      "cell_type": "code",
      "metadata": {
        "id": "qS0DSGzoweuM",
        "colab_type": "code",
        "colab": {}
      },
      "source": [
        "classifier = Sequential() # Initialising the ANN\n",
        "\n",
        "classifier.add(Dense(units = 512, activation = 'relu', input_dim = 150))\n",
        "classifier.add(Dense(units = 512, activation = 'relu'))\n",
        "classifier.add(Dense(units = 512, activation = 'relu'))\n",
        "classifier.add(Dense(units = 512, activation = 'relu'))\n",
        "classifier.add(Dense(units = 6, activation = 'softmax'))\n"
      ],
      "execution_count": 0,
      "outputs": []
    },
    {
      "cell_type": "code",
      "metadata": {
        "id": "cTp_ldYFwjIt",
        "colab_type": "code",
        "colab": {}
      },
      "source": [
        "classifier.compile(optimizer = 'adam', loss = 'categorical_crossentropy', metrics = ['accuracy'])\n"
      ],
      "execution_count": 0,
      "outputs": []
    },
    {
      "cell_type": "code",
      "metadata": {
        "id": "QL2cucwCx-4w",
        "colab_type": "code",
        "colab": {}
      },
      "source": [
        "from keras.utils import to_categorical\n",
        "Y_test = to_categorical(Y_test)\n",
        "\n",
        "Y_train = to_categorical(Y_train)"
      ],
      "execution_count": 0,
      "outputs": []
    },
    {
      "cell_type": "code",
      "metadata": {
        "id": "dYbwI5TMDBVW",
        "colab_type": "code",
        "outputId": "2c38ae77-cfbc-461f-e2b7-35abbecda572",
        "colab": {
          "base_uri": "https://localhost:8080/",
          "height": 34
        }
      },
      "source": [
        "X_train.shape"
      ],
      "execution_count": 0,
      "outputs": [
        {
          "output_type": "execute_result",
          "data": {
            "text/plain": [
              "(5881, 150)"
            ]
          },
          "metadata": {
            "tags": []
          },
          "execution_count": 80
        }
      ]
    },
    {
      "cell_type": "code",
      "metadata": {
        "id": "DofxCM79DCqj",
        "colab_type": "code",
        "outputId": "cd6c2ef7-1181-4485-f30d-dc820bc6ed76",
        "colab": {
          "base_uri": "https://localhost:8080/",
          "height": 34
        }
      },
      "source": [
        "X_test.shape"
      ],
      "execution_count": 0,
      "outputs": [
        {
          "output_type": "execute_result",
          "data": {
            "text/plain": [
              "(1471, 150)"
            ]
          },
          "metadata": {
            "tags": []
          },
          "execution_count": 81
        }
      ]
    },
    {
      "cell_type": "code",
      "metadata": {
        "id": "wnR58biuDHIz",
        "colab_type": "code",
        "outputId": "61663034-37e3-42fd-8992-77d6b53aefc5",
        "colab": {
          "base_uri": "https://localhost:8080/",
          "height": 34
        }
      },
      "source": [
        "Y_train.shape"
      ],
      "execution_count": 0,
      "outputs": [
        {
          "output_type": "execute_result",
          "data": {
            "text/plain": [
              "(5881, 6)"
            ]
          },
          "metadata": {
            "tags": []
          },
          "execution_count": 82
        }
      ]
    },
    {
      "cell_type": "code",
      "metadata": {
        "id": "PYzEzkdLDMsT",
        "colab_type": "code",
        "outputId": "7219fff2-f971-4145-d015-816697e1618e",
        "colab": {
          "base_uri": "https://localhost:8080/",
          "height": 34
        }
      },
      "source": [
        "Y_test.shape"
      ],
      "execution_count": 0,
      "outputs": [
        {
          "output_type": "execute_result",
          "data": {
            "text/plain": [
              "(1471, 6)"
            ]
          },
          "metadata": {
            "tags": []
          },
          "execution_count": 53
        }
      ]
    },
    {
      "cell_type": "code",
      "metadata": {
        "id": "-krbLuRaDPlD",
        "colab_type": "code",
        "colab": {}
      },
      "source": [
        ""
      ],
      "execution_count": 0,
      "outputs": []
    },
    {
      "cell_type": "code",
      "metadata": {
        "id": "0XsyzM0vDLOz",
        "colab_type": "code",
        "colab": {}
      },
      "source": [
        ""
      ],
      "execution_count": 0,
      "outputs": []
    },
    {
      "cell_type": "code",
      "metadata": {
        "id": "nNIZwKAODJYj",
        "colab_type": "code",
        "colab": {}
      },
      "source": [
        ""
      ],
      "execution_count": 0,
      "outputs": []
    },
    {
      "cell_type": "code",
      "metadata": {
        "id": "phLVoMkOwpEN",
        "colab_type": "code",
        "outputId": "501d4a9d-afde-49d1-ffd0-13297738bd53",
        "colab": {
          "base_uri": "https://localhost:8080/",
          "height": 1000
        }
      },
      "source": [
        "hist=classifier.fit(X_train, Y_train, batch_size=350, epochs = 100, validation_data=(X_test,Y_test))"
      ],
      "execution_count": 0,
      "outputs": [
        {
          "output_type": "stream",
          "text": [
            "Train on 5881 samples, validate on 1471 samples\n",
            "Epoch 1/100\n",
            "5881/5881 [==============================] - 1s 184us/step - loss: 2.4954e-06 - acc: 1.0000 - val_loss: 0.0853 - val_acc: 0.9878\n",
            "Epoch 2/100\n",
            "5881/5881 [==============================] - 1s 165us/step - loss: 2.4419e-06 - acc: 1.0000 - val_loss: 0.0855 - val_acc: 0.9878\n",
            "Epoch 3/100\n",
            "5881/5881 [==============================] - 1s 169us/step - loss: 2.3925e-06 - acc: 1.0000 - val_loss: 0.0856 - val_acc: 0.9878\n",
            "Epoch 4/100\n",
            "5881/5881 [==============================] - 1s 161us/step - loss: 2.3428e-06 - acc: 1.0000 - val_loss: 0.0857 - val_acc: 0.9878\n",
            "Epoch 5/100\n",
            "5881/5881 [==============================] - 1s 165us/step - loss: 2.2949e-06 - acc: 1.0000 - val_loss: 0.0857 - val_acc: 0.9878\n",
            "Epoch 6/100\n",
            "5881/5881 [==============================] - 1s 166us/step - loss: 2.2485e-06 - acc: 1.0000 - val_loss: 0.0859 - val_acc: 0.9878\n",
            "Epoch 7/100\n",
            "5881/5881 [==============================] - 1s 170us/step - loss: 2.2024e-06 - acc: 1.0000 - val_loss: 0.0860 - val_acc: 0.9878\n",
            "Epoch 8/100\n",
            "5881/5881 [==============================] - 1s 164us/step - loss: 2.1607e-06 - acc: 1.0000 - val_loss: 0.0861 - val_acc: 0.9878\n",
            "Epoch 9/100\n",
            "5881/5881 [==============================] - 1s 169us/step - loss: 2.1163e-06 - acc: 1.0000 - val_loss: 0.0862 - val_acc: 0.9878\n",
            "Epoch 10/100\n",
            "5881/5881 [==============================] - 1s 163us/step - loss: 2.0753e-06 - acc: 1.0000 - val_loss: 0.0863 - val_acc: 0.9878\n",
            "Epoch 11/100\n",
            "5881/5881 [==============================] - 1s 161us/step - loss: 2.0340e-06 - acc: 1.0000 - val_loss: 0.0864 - val_acc: 0.9878\n",
            "Epoch 12/100\n",
            "5881/5881 [==============================] - 1s 163us/step - loss: 1.9951e-06 - acc: 1.0000 - val_loss: 0.0865 - val_acc: 0.9878\n",
            "Epoch 13/100\n",
            "5881/5881 [==============================] - 1s 177us/step - loss: 1.9572e-06 - acc: 1.0000 - val_loss: 0.0866 - val_acc: 0.9878\n",
            "Epoch 14/100\n",
            "5881/5881 [==============================] - 1s 165us/step - loss: 1.9198e-06 - acc: 1.0000 - val_loss: 0.0866 - val_acc: 0.9878\n",
            "Epoch 15/100\n",
            "5881/5881 [==============================] - 1s 162us/step - loss: 1.8827e-06 - acc: 1.0000 - val_loss: 0.0868 - val_acc: 0.9878\n",
            "Epoch 16/100\n",
            "5881/5881 [==============================] - 1s 163us/step - loss: 1.8483e-06 - acc: 1.0000 - val_loss: 0.0869 - val_acc: 0.9878\n",
            "Epoch 17/100\n",
            "5881/5881 [==============================] - 1s 166us/step - loss: 1.8131e-06 - acc: 1.0000 - val_loss: 0.0870 - val_acc: 0.9878\n",
            "Epoch 18/100\n",
            "5881/5881 [==============================] - 1s 163us/step - loss: 1.7797e-06 - acc: 1.0000 - val_loss: 0.0871 - val_acc: 0.9878\n",
            "Epoch 19/100\n",
            "5881/5881 [==============================] - 1s 164us/step - loss: 1.7473e-06 - acc: 1.0000 - val_loss: 0.0871 - val_acc: 0.9878\n",
            "Epoch 20/100\n",
            "5881/5881 [==============================] - 1s 163us/step - loss: 1.7150e-06 - acc: 1.0000 - val_loss: 0.0872 - val_acc: 0.9878\n",
            "Epoch 21/100\n",
            "5881/5881 [==============================] - 1s 166us/step - loss: 1.6846e-06 - acc: 1.0000 - val_loss: 0.0874 - val_acc: 0.9878\n",
            "Epoch 22/100\n",
            "5881/5881 [==============================] - 1s 168us/step - loss: 1.6541e-06 - acc: 1.0000 - val_loss: 0.0875 - val_acc: 0.9878\n",
            "Epoch 23/100\n",
            "5881/5881 [==============================] - 1s 163us/step - loss: 1.6256e-06 - acc: 1.0000 - val_loss: 0.0875 - val_acc: 0.9878\n",
            "Epoch 24/100\n",
            "5881/5881 [==============================] - 1s 169us/step - loss: 1.5955e-06 - acc: 1.0000 - val_loss: 0.0876 - val_acc: 0.9878\n",
            "Epoch 25/100\n",
            "5881/5881 [==============================] - 1s 163us/step - loss: 1.5678e-06 - acc: 1.0000 - val_loss: 0.0878 - val_acc: 0.9878\n",
            "Epoch 26/100\n",
            "5881/5881 [==============================] - 1s 163us/step - loss: 1.5405e-06 - acc: 1.0000 - val_loss: 0.0879 - val_acc: 0.9878\n",
            "Epoch 27/100\n",
            "5881/5881 [==============================] - 1s 162us/step - loss: 1.5133e-06 - acc: 1.0000 - val_loss: 0.0879 - val_acc: 0.9878\n",
            "Epoch 28/100\n",
            "5881/5881 [==============================] - 1s 160us/step - loss: 1.4872e-06 - acc: 1.0000 - val_loss: 0.0880 - val_acc: 0.9878\n",
            "Epoch 29/100\n",
            "5881/5881 [==============================] - 1s 164us/step - loss: 1.4616e-06 - acc: 1.0000 - val_loss: 0.0881 - val_acc: 0.9878\n",
            "Epoch 30/100\n",
            "5881/5881 [==============================] - 1s 161us/step - loss: 1.4375e-06 - acc: 1.0000 - val_loss: 0.0882 - val_acc: 0.9878\n",
            "Epoch 31/100\n",
            "5881/5881 [==============================] - 1s 158us/step - loss: 1.4120e-06 - acc: 1.0000 - val_loss: 0.0883 - val_acc: 0.9878\n",
            "Epoch 32/100\n",
            "5881/5881 [==============================] - 1s 164us/step - loss: 1.3886e-06 - acc: 1.0000 - val_loss: 0.0883 - val_acc: 0.9878\n",
            "Epoch 33/100\n",
            "5881/5881 [==============================] - 1s 161us/step - loss: 1.3654e-06 - acc: 1.0000 - val_loss: 0.0884 - val_acc: 0.9878\n",
            "Epoch 34/100\n",
            "5881/5881 [==============================] - 1s 158us/step - loss: 1.3436e-06 - acc: 1.0000 - val_loss: 0.0885 - val_acc: 0.9878\n",
            "Epoch 35/100\n",
            "5881/5881 [==============================] - 1s 165us/step - loss: 1.3208e-06 - acc: 1.0000 - val_loss: 0.0886 - val_acc: 0.9878\n",
            "Epoch 36/100\n",
            "5881/5881 [==============================] - 1s 162us/step - loss: 1.2987e-06 - acc: 1.0000 - val_loss: 0.0886 - val_acc: 0.9878\n",
            "Epoch 37/100\n",
            "5881/5881 [==============================] - 1s 155us/step - loss: 1.2774e-06 - acc: 1.0000 - val_loss: 0.0887 - val_acc: 0.9878\n",
            "Epoch 38/100\n",
            "5881/5881 [==============================] - 1s 146us/step - loss: 1.2571e-06 - acc: 1.0000 - val_loss: 0.0887 - val_acc: 0.9878\n",
            "Epoch 39/100\n",
            "5881/5881 [==============================] - 1s 159us/step - loss: 1.2370e-06 - acc: 1.0000 - val_loss: 0.0888 - val_acc: 0.9878\n",
            "Epoch 40/100\n",
            "5881/5881 [==============================] - 1s 160us/step - loss: 1.2174e-06 - acc: 1.0000 - val_loss: 0.0889 - val_acc: 0.9878\n",
            "Epoch 41/100\n",
            "5881/5881 [==============================] - 1s 165us/step - loss: 1.1978e-06 - acc: 1.0000 - val_loss: 0.0889 - val_acc: 0.9878\n",
            "Epoch 42/100\n",
            "5881/5881 [==============================] - 1s 166us/step - loss: 1.1790e-06 - acc: 1.0000 - val_loss: 0.0890 - val_acc: 0.9878\n",
            "Epoch 43/100\n",
            "5881/5881 [==============================] - 1s 164us/step - loss: 1.1603e-06 - acc: 1.0000 - val_loss: 0.0890 - val_acc: 0.9878\n",
            "Epoch 44/100\n",
            "5881/5881 [==============================] - 1s 167us/step - loss: 1.1422e-06 - acc: 1.0000 - val_loss: 0.0891 - val_acc: 0.9878\n",
            "Epoch 45/100\n",
            "5881/5881 [==============================] - 1s 163us/step - loss: 1.1253e-06 - acc: 1.0000 - val_loss: 0.0892 - val_acc: 0.9878\n",
            "Epoch 46/100\n",
            "5881/5881 [==============================] - 1s 168us/step - loss: 1.1073e-06 - acc: 1.0000 - val_loss: 0.0892 - val_acc: 0.9878\n",
            "Epoch 47/100\n",
            "5881/5881 [==============================] - 1s 159us/step - loss: 1.0904e-06 - acc: 1.0000 - val_loss: 0.0893 - val_acc: 0.9878\n",
            "Epoch 48/100\n",
            "5881/5881 [==============================] - 1s 163us/step - loss: 1.0737e-06 - acc: 1.0000 - val_loss: 0.0893 - val_acc: 0.9878\n",
            "Epoch 49/100\n",
            "5881/5881 [==============================] - 1s 166us/step - loss: 1.0574e-06 - acc: 1.0000 - val_loss: 0.0894 - val_acc: 0.9878\n",
            "Epoch 50/100\n",
            "5881/5881 [==============================] - 1s 163us/step - loss: 1.0415e-06 - acc: 1.0000 - val_loss: 0.0894 - val_acc: 0.9878\n",
            "Epoch 51/100\n",
            "5881/5881 [==============================] - 1s 169us/step - loss: 1.0265e-06 - acc: 1.0000 - val_loss: 0.0895 - val_acc: 0.9878\n",
            "Epoch 52/100\n",
            "5881/5881 [==============================] - 1s 166us/step - loss: 1.0110e-06 - acc: 1.0000 - val_loss: 0.0896 - val_acc: 0.9878\n",
            "Epoch 53/100\n",
            "5881/5881 [==============================] - 1s 163us/step - loss: 9.9624e-07 - acc: 1.0000 - val_loss: 0.0897 - val_acc: 0.9878\n",
            "Epoch 54/100\n",
            "5881/5881 [==============================] - 1s 163us/step - loss: 9.8207e-07 - acc: 1.0000 - val_loss: 0.0896 - val_acc: 0.9878\n",
            "Epoch 55/100\n",
            "5881/5881 [==============================] - 1s 163us/step - loss: 9.6722e-07 - acc: 1.0000 - val_loss: 0.0898 - val_acc: 0.9878\n",
            "Epoch 56/100\n",
            "5881/5881 [==============================] - 1s 175us/step - loss: 9.5295e-07 - acc: 1.0000 - val_loss: 0.0898 - val_acc: 0.9878\n",
            "Epoch 57/100\n",
            "5881/5881 [==============================] - 1s 164us/step - loss: 9.3911e-07 - acc: 1.0000 - val_loss: 0.0898 - val_acc: 0.9878\n",
            "Epoch 58/100\n",
            "5881/5881 [==============================] - 1s 166us/step - loss: 9.2623e-07 - acc: 1.0000 - val_loss: 0.0899 - val_acc: 0.9878\n",
            "Epoch 59/100\n",
            "5881/5881 [==============================] - 1s 163us/step - loss: 9.1317e-07 - acc: 1.0000 - val_loss: 0.0900 - val_acc: 0.9878\n",
            "Epoch 60/100\n",
            "5881/5881 [==============================] - 1s 148us/step - loss: 8.9989e-07 - acc: 1.0000 - val_loss: 0.0900 - val_acc: 0.9878\n",
            "Epoch 61/100\n",
            "5881/5881 [==============================] - 1s 140us/step - loss: 8.8711e-07 - acc: 1.0000 - val_loss: 0.0901 - val_acc: 0.9878\n",
            "Epoch 62/100\n",
            "5881/5881 [==============================] - 1s 142us/step - loss: 8.7437e-07 - acc: 1.0000 - val_loss: 0.0901 - val_acc: 0.9878\n",
            "Epoch 63/100\n",
            "5881/5881 [==============================] - 1s 162us/step - loss: 8.6226e-07 - acc: 1.0000 - val_loss: 0.0902 - val_acc: 0.9878\n",
            "Epoch 64/100\n",
            "5881/5881 [==============================] - 1s 164us/step - loss: 8.5069e-07 - acc: 1.0000 - val_loss: 0.0902 - val_acc: 0.9878\n",
            "Epoch 65/100\n",
            "5881/5881 [==============================] - 1s 159us/step - loss: 8.3888e-07 - acc: 1.0000 - val_loss: 0.0902 - val_acc: 0.9878\n",
            "Epoch 66/100\n",
            "5881/5881 [==============================] - 1s 163us/step - loss: 8.2692e-07 - acc: 1.0000 - val_loss: 0.0904 - val_acc: 0.9878\n",
            "Epoch 67/100\n",
            "5881/5881 [==============================] - 1s 168us/step - loss: 8.1608e-07 - acc: 1.0000 - val_loss: 0.0904 - val_acc: 0.9878\n",
            "Epoch 68/100\n",
            "5881/5881 [==============================] - 1s 163us/step - loss: 8.0510e-07 - acc: 1.0000 - val_loss: 0.0905 - val_acc: 0.9878\n",
            "Epoch 69/100\n",
            "5881/5881 [==============================] - 1s 165us/step - loss: 7.9391e-07 - acc: 1.0000 - val_loss: 0.0905 - val_acc: 0.9878\n",
            "Epoch 70/100\n",
            "5881/5881 [==============================] - 1s 163us/step - loss: 7.8330e-07 - acc: 1.0000 - val_loss: 0.0905 - val_acc: 0.9878\n",
            "Epoch 71/100\n",
            "5881/5881 [==============================] - 1s 158us/step - loss: 7.7298e-07 - acc: 1.0000 - val_loss: 0.0906 - val_acc: 0.9878\n",
            "Epoch 72/100\n",
            "5881/5881 [==============================] - 1s 159us/step - loss: 7.6244e-07 - acc: 1.0000 - val_loss: 0.0907 - val_acc: 0.9878\n",
            "Epoch 73/100\n",
            "5881/5881 [==============================] - 1s 159us/step - loss: 7.5247e-07 - acc: 1.0000 - val_loss: 0.0907 - val_acc: 0.9878\n",
            "Epoch 74/100\n",
            "5881/5881 [==============================] - 1s 158us/step - loss: 7.4247e-07 - acc: 1.0000 - val_loss: 0.0908 - val_acc: 0.9878\n",
            "Epoch 75/100\n",
            "5881/5881 [==============================] - 1s 154us/step - loss: 7.3323e-07 - acc: 1.0000 - val_loss: 0.0908 - val_acc: 0.9878\n",
            "Epoch 76/100\n",
            "5881/5881 [==============================] - 1s 167us/step - loss: 7.2334e-07 - acc: 1.0000 - val_loss: 0.0909 - val_acc: 0.9878\n",
            "Epoch 77/100\n",
            "5881/5881 [==============================] - 1s 160us/step - loss: 7.1440e-07 - acc: 1.0000 - val_loss: 0.0909 - val_acc: 0.9878\n",
            "Epoch 78/100\n",
            "5881/5881 [==============================] - 1s 158us/step - loss: 7.0507e-07 - acc: 1.0000 - val_loss: 0.0910 - val_acc: 0.9878\n",
            "Epoch 79/100\n",
            "5881/5881 [==============================] - 1s 161us/step - loss: 6.9626e-07 - acc: 1.0000 - val_loss: 0.0910 - val_acc: 0.9878\n",
            "Epoch 80/100\n",
            "5881/5881 [==============================] - 1s 157us/step - loss: 6.8767e-07 - acc: 1.0000 - val_loss: 0.0911 - val_acc: 0.9878\n",
            "Epoch 81/100\n",
            "5881/5881 [==============================] - 1s 154us/step - loss: 6.7875e-07 - acc: 1.0000 - val_loss: 0.0911 - val_acc: 0.9878\n",
            "Epoch 82/100\n",
            "5881/5881 [==============================] - 1s 155us/step - loss: 6.7013e-07 - acc: 1.0000 - val_loss: 0.0911 - val_acc: 0.9878\n",
            "Epoch 83/100\n",
            "5881/5881 [==============================] - 1s 155us/step - loss: 6.6146e-07 - acc: 1.0000 - val_loss: 0.0912 - val_acc: 0.9878\n",
            "Epoch 84/100\n",
            "5881/5881 [==============================] - 1s 166us/step - loss: 6.5335e-07 - acc: 1.0000 - val_loss: 0.0913 - val_acc: 0.9878\n",
            "Epoch 85/100\n",
            "5881/5881 [==============================] - 1s 162us/step - loss: 6.4546e-07 - acc: 1.0000 - val_loss: 0.0913 - val_acc: 0.9878\n",
            "Epoch 86/100\n",
            "5881/5881 [==============================] - 1s 158us/step - loss: 6.3730e-07 - acc: 1.0000 - val_loss: 0.0913 - val_acc: 0.9878\n",
            "Epoch 87/100\n",
            "5881/5881 [==============================] - 1s 157us/step - loss: 6.2945e-07 - acc: 1.0000 - val_loss: 0.0914 - val_acc: 0.9878\n",
            "Epoch 88/100\n",
            "5881/5881 [==============================] - 1s 161us/step - loss: 6.2184e-07 - acc: 1.0000 - val_loss: 0.0915 - val_acc: 0.9878\n",
            "Epoch 89/100\n",
            "5881/5881 [==============================] - 1s 160us/step - loss: 6.1450e-07 - acc: 1.0000 - val_loss: 0.0915 - val_acc: 0.9878\n",
            "Epoch 90/100\n",
            "5881/5881 [==============================] - 1s 162us/step - loss: 6.0710e-07 - acc: 1.0000 - val_loss: 0.0915 - val_acc: 0.9878\n",
            "Epoch 91/100\n",
            "5881/5881 [==============================] - 1s 157us/step - loss: 5.9965e-07 - acc: 1.0000 - val_loss: 0.0916 - val_acc: 0.9878\n",
            "Epoch 92/100\n",
            "5881/5881 [==============================] - 1s 159us/step - loss: 5.9247e-07 - acc: 1.0000 - val_loss: 0.0917 - val_acc: 0.9878\n",
            "Epoch 93/100\n",
            "5881/5881 [==============================] - 1s 160us/step - loss: 5.8571e-07 - acc: 1.0000 - val_loss: 0.0917 - val_acc: 0.9878\n",
            "Epoch 94/100\n",
            "5881/5881 [==============================] - 1s 154us/step - loss: 5.7892e-07 - acc: 1.0000 - val_loss: 0.0918 - val_acc: 0.9878\n",
            "Epoch 95/100\n",
            "5881/5881 [==============================] - 1s 159us/step - loss: 5.7203e-07 - acc: 1.0000 - val_loss: 0.0918 - val_acc: 0.9878\n",
            "Epoch 96/100\n",
            "5881/5881 [==============================] - 1s 163us/step - loss: 5.6536e-07 - acc: 1.0000 - val_loss: 0.0918 - val_acc: 0.9878\n",
            "Epoch 97/100\n",
            "5881/5881 [==============================] - 1s 138us/step - loss: 5.5880e-07 - acc: 1.0000 - val_loss: 0.0919 - val_acc: 0.9878\n",
            "Epoch 98/100\n",
            "5881/5881 [==============================] - 1s 154us/step - loss: 5.5253e-07 - acc: 1.0000 - val_loss: 0.0919 - val_acc: 0.9878\n",
            "Epoch 99/100\n",
            "5881/5881 [==============================] - 1s 163us/step - loss: 5.4622e-07 - acc: 1.0000 - val_loss: 0.0919 - val_acc: 0.9878\n",
            "Epoch 100/100\n",
            "5881/5881 [==============================] - 1s 161us/step - loss: 5.3979e-07 - acc: 1.0000 - val_loss: 0.0920 - val_acc: 0.9878\n"
          ],
          "name": "stdout"
        }
      ]
    },
    {
      "cell_type": "code",
      "metadata": {
        "id": "m6dB_d6-Dc1U",
        "colab_type": "code",
        "colab": {}
      },
      "source": [
        ""
      ],
      "execution_count": 0,
      "outputs": []
    },
    {
      "cell_type": "code",
      "metadata": {
        "id": "d3_B2hIt1CxL",
        "colab_type": "code",
        "outputId": "b1d75774-6e7a-4904-dffa-c5ac5dbc9d69",
        "colab": {
          "base_uri": "https://localhost:8080/",
          "height": 357
        }
      },
      "source": [
        "y_pred = classifier.predict(X_test)\n",
        "print(y_pred)\n",
        "y_pred = (y_pred > 0.5)\n",
        "print(y_pred)"
      ],
      "execution_count": 0,
      "outputs": [
        {
          "output_type": "stream",
          "text": [
            "[[1.0000000e+00 3.0967694e-08 9.7651249e-13 1.2122913e-12 9.5176211e-12\n",
            "  3.0261033e-10]\n",
            " [1.3846604e-07 2.7526381e-19 2.4761207e-10 7.0859074e-13 5.9008792e-10\n",
            "  9.9999988e-01]\n",
            " [1.0000000e+00 9.5441068e-12 5.4887484e-14 2.3371692e-14 2.3767958e-15\n",
            "  7.1614471e-11]\n",
            " ...\n",
            " [1.0000000e+00 2.9175848e-13 5.0225484e-15 3.0431588e-15 1.9093573e-15\n",
            "  2.9105609e-08]\n",
            " [4.1011829e-12 2.3442859e-10 2.5027208e-13 9.9999988e-01 3.5152433e-11\n",
            "  1.2411921e-07]\n",
            " [4.8526829e-17 6.1840034e-12 2.0278351e-18 1.0000000e+00 3.2135327e-13\n",
            "  2.6248686e-11]]\n",
            "[[ True False False False False False]\n",
            " [False False False False False  True]\n",
            " [ True False False False False False]\n",
            " ...\n",
            " [ True False False False False False]\n",
            " [False False False  True False False]\n",
            " [False False False  True False False]]\n"
          ],
          "name": "stdout"
        }
      ]
    },
    {
      "cell_type": "code",
      "metadata": {
        "id": "zo2FYzCF1HEb",
        "colab_type": "code",
        "outputId": "c9ace916-7a22-4edc-9c5a-ccf2a2fb4771",
        "colab": {
          "base_uri": "https://localhost:8080/",
          "height": 119
        }
      },
      "source": [
        "from sklearn.metrics import classification_report, confusion_matrix\n",
        "cm=confusion_matrix(Y_test.argmax(axis=1), y_pred.argmax(axis=1))\n",
        "print(cm)\n"
      ],
      "execution_count": 0,
      "outputs": [
        {
          "output_type": "stream",
          "text": [
            "[[262   0   0   0   0   0]\n",
            " [  0 280   4   0   0   0]\n",
            " [  0  10 265   0   0   1]\n",
            " [  0   0   0 239   0   1]\n",
            " [  0   0   1   1 176   0]\n",
            " [  0   0   0   0   0 231]]\n"
          ],
          "name": "stdout"
        }
      ]
    },
    {
      "cell_type": "code",
      "metadata": {
        "id": "4TPAfx_v1Jv7",
        "colab_type": "code",
        "outputId": "d773de28-4903-4857-f4ce-5da5a7e23914",
        "colab": {
          "base_uri": "https://localhost:8080/",
          "height": 272
        }
      },
      "source": [
        "from sklearn.metrics import accuracy_score \n",
        "print(accuracy_score(Y_test, y_pred)*100,'%')\n",
        "#print (((cm[0][0]+cm[1][1])*100)/(cm[0][0]+cm[1][1]+cm[0][1]+cm[1][0]), '% of testing data was classified correctly')\n",
        "print(classification_report(Y_test,y_pred))"
      ],
      "execution_count": 0,
      "outputs": [
        {
          "output_type": "stream",
          "text": [
            "98.77634262406526 %\n",
            "              precision    recall  f1-score   support\n",
            "\n",
            "           0       1.00      1.00      1.00       262\n",
            "           1       0.97      0.99      0.98       284\n",
            "           2       0.98      0.96      0.97       276\n",
            "           3       1.00      1.00      1.00       240\n",
            "           4       1.00      0.99      0.99       178\n",
            "           5       0.99      1.00      1.00       231\n",
            "\n",
            "   micro avg       0.99      0.99      0.99      1471\n",
            "   macro avg       0.99      0.99      0.99      1471\n",
            "weighted avg       0.99      0.99      0.99      1471\n",
            " samples avg       0.99      0.99      0.99      1471\n",
            "\n"
          ],
          "name": "stdout"
        }
      ]
    },
    {
      "cell_type": "code",
      "metadata": {
        "id": "qGJlrrrC1M3s",
        "colab_type": "code",
        "outputId": "00c545ff-9a0e-4309-8f2a-88f3c63b5f51",
        "colab": {
          "base_uri": "https://localhost:8080/",
          "height": 295
        }
      },
      "source": [
        "plt.plot(hist.history['loss'])\n",
        "plt.plot(hist.history['val_loss'])\n",
        "plt.title('Model loss')\n",
        "plt.ylabel('Loss')\n",
        "plt.xlabel('Epoch')\n",
        "plt.legend(['Train', 'Val'], loc='upper right')\n",
        "plt.show()\n",
        "\n"
      ],
      "execution_count": 0,
      "outputs": [
        {
          "output_type": "display_data",
          "data": {
            "image/png": "[encoded data removed]",
            "text/plain": [
              "<Figure size 432x288 with 1 Axes>"
            ]
          },
          "metadata": {
            "tags": []
          }
        }
      ]
    },
    {
      "cell_type": "code",
      "metadata": {
        "id": "JbiYnkCi1Ri9",
        "colab_type": "code",
        "outputId": "00875138-c464-456a-8f7e-4de36270f833",
        "colab": {
          "base_uri": "https://localhost:8080/",
          "height": 295
        }
      },
      "source": [
        "plt.plot(hist.history['acc'])\n",
        "plt.plot(hist.history['val_acc'])\n",
        "plt.title('Model accuracy')\n",
        "plt.ylabel('Accuracy')\n",
        "plt.xlabel('Epoch')\n",
        "plt.legend(['Train', 'Val'], loc='lower right')\n",
        "plt.show()\n",
        "\n"
      ],
      "execution_count": 0,
      "outputs": [
        {
          "output_type": "display_data",
          "data": {
            "image/png": "[encoded data removed]",
            "text/plain": [
              "<Figure size 432x288 with 1 Axes>"
            ]
          },
          "metadata": {
            "tags": []
          }
        }
      ]
    },
    {
      "cell_type": "code",
      "metadata": {
        "id": "xX-dXCsxCDlp",
        "colab_type": "code",
        "colab": {}
      },
      "source": [
        ""
      ],
      "execution_count": 0,
      "outputs": []
    },
    {
      "cell_type": "code",
      "metadata": {
        "id": "tFI7Aza_CEKE",
        "colab_type": "code",
        "outputId": "9702bfbd-0670-4ee0-fedd-4c35503a6624",
        "colab": {
          "base_uri": "https://localhost:8080/",
          "height": 34
        }
      },
      "source": [
        "X_train.shape"
      ],
      "execution_count": 0,
      "outputs": [
        {
          "output_type": "execute_result",
          "data": {
            "text/plain": [
              "(5881, 150)"
            ]
          },
          "metadata": {
            "tags": []
          },
          "execution_count": 30
        }
      ]
    },
    {
      "cell_type": "code",
      "metadata": {
        "id": "CCXy3_KSCENj",
        "colab_type": "code",
        "colab": {}
      },
      "source": [
        "def get_compiled_model():\n",
        "    model = tf.keras.Sequential([\n",
        "    tf.keras.layers.Dense(10, activation='relu'),\n",
        "    tf.keras.layers.Dense(10, activation='relu'),\n",
        "    tf.keras.layers.Dense(1, activation='sigmoid'),\n",
        "    \n",
        "  ])\n",
        "\n",
        "    model.compile(optimizer='adam',\n",
        "                loss='binary_crossentropy',\n",
        "                metrics=['accuracy'])\n",
        "    return model"
      ],
      "execution_count": 0,
      "outputs": []
    },
    {
      "cell_type": "code",
      "metadata": {
        "id": "UsoIrSqtCEPz",
        "colab_type": "code",
        "outputId": "5184f550-3061-4330-e6f7-be3e9d9809bd",
        "colab": {
          "base_uri": "https://localhost:8080/",
          "height": 391
        }
      },
      "source": [
        "model = get_compiled_model()\n",
        "model.fit(X_train, epochs=10)"
      ],
      "execution_count": 0,
      "outputs": [
        {
          "output_type": "stream",
          "text": [
            "Train on 5881 samples\n",
            "Epoch 1/10\n",
            "5881/5881 [==============================] - 0s 71us/sample - loss: 1.8482 - acc: 0.0010\n",
            "Epoch 2/10\n",
            "5881/5881 [==============================] - 0s 49us/sample - loss: 1.7990 - acc: 0.0000e+00\n",
            "Epoch 3/10\n",
            "5881/5881 [==============================] - 0s 55us/sample - loss: 1.7941 - acc: 0.0000e+00\n",
            "Epoch 4/10\n",
            "5881/5881 [==============================] - 0s 54us/sample - loss: 1.7927 - acc: 0.0000e+00\n",
            "Epoch 5/10\n",
            "5881/5881 [==============================] - 0s 60us/sample - loss: 1.7922 - acc: 0.0000e+00\n",
            "Epoch 6/10\n",
            "5881/5881 [==============================] - 0s 58us/sample - loss: 1.7920 - acc: 0.0000e+00\n",
            "Epoch 7/10\n",
            "5881/5881 [==============================] - 0s 54us/sample - loss: 1.7919 - acc: 0.0000e+00\n",
            "Epoch 8/10\n",
            "5881/5881 [==============================] - 0s 56us/sample - loss: 1.7919 - acc: 0.0000e+00\n",
            "Epoch 9/10\n",
            "5881/5881 [==============================] - 0s 56us/sample - loss: 1.7918 - acc: 0.0000e+00\n",
            "Epoch 10/10\n",
            "5881/5881 [==============================] - 0s 63us/sample - loss: 1.7918 - acc: 0.0000e+00\n"
          ],
          "name": "stdout"
        },
        {
          "output_type": "execute_result",
          "data": {
            "text/plain": [
              "<tensorflow.python.keras.callbacks.History at 0x7fc669ea81d0>"
            ]
          },
          "metadata": {
            "tags": []
          },
          "execution_count": 61
        }
      ]
    },
    {
      "cell_type": "code",
      "metadata": {
        "id": "Jx835Aj5CESj",
        "colab_type": "code",
        "colab": {}
      },
      "source": [
        ""
      ],
      "execution_count": 0,
      "outputs": []
    },
    {
      "cell_type": "code",
      "metadata": {
        "id": "L1zAVfpSCEUz",
        "colab_type": "code",
        "colab": {}
      },
      "source": [
        ""
      ],
      "execution_count": 0,
      "outputs": []
    },
    {
      "cell_type": "code",
      "metadata": {
        "id": "9gJ2KeXZCEXT",
        "colab_type": "code",
        "colab": {}
      },
      "source": [
        ""
      ],
      "execution_count": 0,
      "outputs": []
    }
  ]
}