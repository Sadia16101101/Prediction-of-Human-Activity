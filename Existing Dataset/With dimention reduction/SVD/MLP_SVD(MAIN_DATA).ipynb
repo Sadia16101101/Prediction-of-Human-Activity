{
  "nbformat": 4,
  "nbformat_minor": 0,
  "metadata": {
    "colab": {
      "name": "MLP-SVD(MAIN DATA).ipynb",
      "provenance": [],
      "collapsed_sections": []
    },
    "kernelspec": {
      "name": "python3",
      "display_name": "Python 3"
    }
  },
  "cells": [
    {
      "cell_type": "code",
      "metadata": {
        "id": "yL9_GD3105V3",
        "colab_type": "code",
        "outputId": "f8d7cbcb-1d1d-4238-f49b-2b8f6f384622",
        "colab": {
          "base_uri": "https://localhost:8080/",
          "height": 272
        }
      },
      "source": [
        "!pip install scikit-plot"
      ],
      "execution_count": 0,
      "outputs": [
        {
          "output_type": "stream",
          "text": [
            "Collecting scikit-plot\n",
            "  Downloading https://files.pythonhosted.org/packages/7c/47/32520e259340c140a4ad27c1b97050dd3254fdc517b1d59974d47037510e/scikit_plot-0.3.7-py3-none-any.whl\n",
            "Requirement already satisfied: matplotlib>=1.4.0 in /usr/local/lib/python3.6/dist-packages (from scikit-plot) (3.1.1)\n",
            "Requirement already satisfied: scipy>=0.9 in /usr/local/lib/python3.6/dist-packages (from scikit-plot) (1.3.2)\n",
            "Requirement already satisfied: joblib>=0.10 in /usr/local/lib/python3.6/dist-packages (from scikit-plot) (0.14.0)\n",
            "Requirement already satisfied: scikit-learn>=0.18 in /usr/local/lib/python3.6/dist-packages (from scikit-plot) (0.21.3)\n",
            "Requirement already satisfied: cycler>=0.10 in /usr/local/lib/python3.6/dist-packages (from matplotlib>=1.4.0->scikit-plot) (0.10.0)\n",
            "Requirement already satisfied: numpy>=1.11 in /usr/local/lib/python3.6/dist-packages (from matplotlib>=1.4.0->scikit-plot) (1.17.4)\n",
            "Requirement already satisfied: pyparsing!=2.0.4,!=2.1.2,!=2.1.6,>=2.0.1 in /usr/local/lib/python3.6/dist-packages (from matplotlib>=1.4.0->scikit-plot) (2.4.5)\n",
            "Requirement already satisfied: python-dateutil>=2.1 in /usr/local/lib/python3.6/dist-packages (from matplotlib>=1.4.0->scikit-plot) (2.6.1)\n",
            "Requirement already satisfied: kiwisolver>=1.0.1 in /usr/local/lib/python3.6/dist-packages (from matplotlib>=1.4.0->scikit-plot) (1.1.0)\n",
            "Requirement already satisfied: six in /usr/local/lib/python3.6/dist-packages (from cycler>=0.10->matplotlib>=1.4.0->scikit-plot) (1.12.0)\n",
            "Requirement already satisfied: setuptools in /usr/local/lib/python3.6/dist-packages (from kiwisolver>=1.0.1->matplotlib>=1.4.0->scikit-plot) (41.4.0)\n",
            "Installing collected packages: scikit-plot\n",
            "Successfully installed scikit-plot-0.3.7\n"
          ],
          "name": "stdout"
        }
      ]
    },
    {
      "cell_type": "code",
      "metadata": {
        "id": "91n-pWVs0_3I",
        "colab_type": "code",
        "colab": {}
      },
      "source": [
        "#!/usr/bin/env python\n",
        "# coding: utf-8"
      ],
      "execution_count": 0,
      "outputs": []
    },
    {
      "cell_type": "code",
      "metadata": {
        "id": "KDRRXal81DZI",
        "colab_type": "code",
        "outputId": "f624e833-5697-4f3c-e531-2934cfb9bf0e",
        "colab": {
          "base_uri": "https://localhost:8080/",
          "height": 80
        }
      },
      "source": [
        "import numpy as np\n",
        "import pandas as pd\n",
        "import matplotlib.pyplot as plt\n",
        "import tensorflow as tf\n",
        "from keras.models import Sequential\n",
        "from keras.layers import Dense\n",
        "from keras.utils import np_utils"
      ],
      "execution_count": 0,
      "outputs": [
        {
          "output_type": "display_data",
          "data": {
            "text/html": [
              "<p style=\"color: red;\">\n",
              "The default version of TensorFlow in Colab will soon switch to TensorFlow 2.x.<br>\n",
              "We recommend you <a href=\"https://www.tensorflow.org/guide/migrate\" target=\"_blank\">upgrade</a> now \n",
              "or ensure your notebook will continue to use TensorFlow 1.x via the <code>%tensorflow_version 1.x</code> magic:\n",
              "<a href=\"https://colab.research.google.com/notebooks/tensorflow_version.ipynb\" target=\"_blank\">more info</a>.</p>\n"
            ],
            "text/plain": [
              "<IPython.core.display.HTML object>"
            ]
          },
          "metadata": {
            "tags": []
          }
        },
        {
          "output_type": "stream",
          "text": [
            "Using TensorFlow backend.\n"
          ],
          "name": "stderr"
        }
      ]
    },
    {
      "cell_type": "code",
      "metadata": {
        "id": "1jDPT85H1L-I",
        "colab_type": "code",
        "outputId": "e5477e9b-5b12-47a8-8958-13334cddd5dc",
        "colab": {
          "resources": {
            "http://localhost:8080/nbextensions/google.colab/files.js": {
              "data": "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",
              "ok": true,
              "headers": [
                [
                  "content-type",
                  "application/javascript"
                ]
              ],
              "status": 200,
              "status_text": ""
            }
          },
          "base_uri": "https://localhost:8080/",
          "height": 74
        }
      },
      "source": [
        "from google.colab import files\n",
        "uploaded = files.upload()"
      ],
      "execution_count": 0,
      "outputs": [
        {
          "output_type": "display_data",
          "data": {
            "text/html": [
              "\n",
              "     <input type=\"file\" id=\"files-8495f5e6-8238-431e-a51a-3ed87ea11da4\" name=\"files[]\" multiple disabled />\n",
              "     <output id=\"result-8495f5e6-8238-431e-a51a-3ed87ea11da4\">\n",
              "      Upload widget is only available when the cell has been executed in the\n",
              "      current browser session. Please rerun this cell to enable.\n",
              "      </output>\n",
              "      <script src=\"/nbextensions/google.colab/files.js\"></script> "
            ],
            "text/plain": [
              "<IPython.core.display.HTML object>"
            ]
          },
          "metadata": {
            "tags": []
          }
        },
        {
          "output_type": "stream",
          "text": [
            "Saving train.csv to train.csv\n"
          ],
          "name": "stdout"
        }
      ]
    },
    {
      "cell_type": "code",
      "metadata": {
        "id": "NTk4PPO764oB",
        "colab_type": "code",
        "colab": {}
      },
      "source": [
        "#from sklearn.preprocessing import OneHotEncoder\n",
        "#ohe = OneHotEncoder(sparse=False)\n",
        "#y_train_ohe = ohe.fit_transform(y_train)\n",
        "# Encoding training dataset"
      ],
      "execution_count": 0,
      "outputs": []
    },
    {
      "cell_type": "code",
      "metadata": {
        "id": "nBatqCFHv0Jm",
        "colab_type": "code",
        "colab": {}
      },
      "source": [
        "df= pd.read_csv(\"train.csv\")"
      ],
      "execution_count": 0,
      "outputs": []
    },
    {
      "cell_type": "code",
      "metadata": {
        "id": "xm0Ys82Jv1-N",
        "colab_type": "code",
        "colab": {}
      },
      "source": [
        "dx = pd.DataFrame(df.drop(['Activity','subject'],axis=1))\n",
        "dy_label = df.Activity.values.astype(object)"
      ],
      "execution_count": 0,
      "outputs": []
    },
    {
      "cell_type": "code",
      "metadata": {
        "id": "F-NB10ABv67F",
        "colab_type": "code",
        "colab": {}
      },
      "source": [
        "from sklearn import linear_model\n",
        "# Transforming non numerical labels into numerical labels\n",
        "from sklearn import preprocessing\n",
        "encoder = preprocessing.LabelEncoder()"
      ],
      "execution_count": 0,
      "outputs": []
    },
    {
      "cell_type": "code",
      "metadata": {
        "id": "b81BlPgnv_he",
        "colab_type": "code",
        "colab": {}
      },
      "source": [
        "# encoding train labels \n",
        "encoder.fit(dy_label)\n",
        "dy = encoder.transform(dy_label)"
      ],
      "execution_count": 0,
      "outputs": []
    },
    {
      "cell_type": "code",
      "metadata": {
        "id": "7JkZU3sny60p",
        "colab_type": "code",
        "colab": {}
      },
      "source": [
        "#SVD APPLY\n",
        "from sklearn.decomposition import PCA,TruncatedSVD\n",
        "svd= TruncatedSVD(n_components = 150)\n",
        "x=svd.fit(dx).transform(dx)"
      ],
      "execution_count": 0,
      "outputs": []
    },
    {
      "cell_type": "code",
      "metadata": {
        "id": "Jc9zSl1kwC1F",
        "colab_type": "code",
        "colab": {}
      },
      "source": [
        "from sklearn.model_selection import train_test_split\n",
        "X_train, X_test, Y_train, Y_test = train_test_split(x,dy,test_size=0.2, random_state=4)"
      ],
      "execution_count": 0,
      "outputs": []
    },
    {
      "cell_type": "code",
      "metadata": {
        "id": "Z3wfvaFswZAs",
        "colab_type": "code",
        "colab": {}
      },
      "source": [
        "from sklearn import preprocessing\n",
        "from sklearn.preprocessing import StandardScaler\n",
        "sc=StandardScaler()\n",
        "X_train = sc.fit_transform(X_train)\n",
        "X_test = sc.transform(X_test)\n"
      ],
      "execution_count": 0,
      "outputs": []
    },
    {
      "cell_type": "code",
      "metadata": {
        "id": "qS0DSGzoweuM",
        "colab_type": "code",
        "colab": {}
      },
      "source": [
        "classifier = Sequential() # Initialising the ANN\n",
        "\n",
        "classifier.add(Dense(units = 512, activation = 'relu', input_dim = 150))\n",
        "classifier.add(Dense(units = 512, activation = 'relu'))\n",
        "classifier.add(Dense(units = 512, activation = 'relu'))\n",
        "classifier.add(Dense(units = 512, activation = 'relu'))\n",
        "#classifier.add(Dense(units = 256, activation = 'relu'))\n",
        "classifier.add(Dense(units = 6, activation = 'softmax'))\n"
      ],
      "execution_count": 0,
      "outputs": []
    },
    {
      "cell_type": "code",
      "metadata": {
        "id": "cTp_ldYFwjIt",
        "colab_type": "code",
        "colab": {}
      },
      "source": [
        "classifier.compile(optimizer = 'adam', loss = 'categorical_crossentropy', metrics = ['accuracy'])\n"
      ],
      "execution_count": 0,
      "outputs": []
    },
    {
      "cell_type": "code",
      "metadata": {
        "id": "QL2cucwCx-4w",
        "colab_type": "code",
        "colab": {}
      },
      "source": [
        "from keras.utils import to_categorical\n",
        "Y_test = to_categorical(Y_test)\n",
        "\n",
        "Y_train = to_categorical(Y_train)"
      ],
      "execution_count": 0,
      "outputs": []
    },
    {
      "cell_type": "code",
      "metadata": {
        "id": "phLVoMkOwpEN",
        "colab_type": "code",
        "outputId": "4f785c9b-d279-41b3-af0b-f81d44a3f59c",
        "colab": {
          "base_uri": "https://localhost:8080/",
          "height": 1000
        }
      },
      "source": [
        "hist=classifier.fit(X_train, Y_train, batch_size=350, epochs = 100, validation_data=(X_test,Y_test))\n"
      ],
      "execution_count": 0,
      "outputs": [
        {
          "output_type": "stream",
          "text": [
            "WARNING:tensorflow:From /usr/local/lib/python3.6/dist-packages/tensorflow_core/python/ops/math_grad.py:1424: where (from tensorflow.python.ops.array_ops) is deprecated and will be removed in a future version.\n",
            "Instructions for updating:\n",
            "Use tf.where in 2.0, which has the same broadcast rule as np.where\n",
            "WARNING:tensorflow:From /usr/local/lib/python3.6/dist-packages/keras/backend/tensorflow_backend.py:1033: The name tf.assign_add is deprecated. Please use tf.compat.v1.assign_add instead.\n",
            "\n",
            "WARNING:tensorflow:From /usr/local/lib/python3.6/dist-packages/keras/backend/tensorflow_backend.py:1020: The name tf.assign is deprecated. Please use tf.compat.v1.assign instead.\n",
            "\n",
            "WARNING:tensorflow:From /usr/local/lib/python3.6/dist-packages/keras/backend/tensorflow_backend.py:3005: The name tf.Session is deprecated. Please use tf.compat.v1.Session instead.\n",
            "\n",
            "Train on 5881 samples, validate on 1471 samples\n",
            "Epoch 1/100\n",
            "WARNING:tensorflow:From /usr/local/lib/python3.6/dist-packages/keras/backend/tensorflow_backend.py:190: The name tf.get_default_session is deprecated. Please use tf.compat.v1.get_default_session instead.\n",
            "\n",
            "WARNING:tensorflow:From /usr/local/lib/python3.6/dist-packages/keras/backend/tensorflow_backend.py:197: The name tf.ConfigProto is deprecated. Please use tf.compat.v1.ConfigProto instead.\n",
            "\n",
            "WARNING:tensorflow:From /usr/local/lib/python3.6/dist-packages/keras/backend/tensorflow_backend.py:207: The name tf.global_variables is deprecated. Please use tf.compat.v1.global_variables instead.\n",
            "\n",
            "WARNING:tensorflow:From /usr/local/lib/python3.6/dist-packages/keras/backend/tensorflow_backend.py:216: The name tf.is_variable_initialized is deprecated. Please use tf.compat.v1.is_variable_initialized instead.\n",
            "\n",
            "WARNING:tensorflow:From /usr/local/lib/python3.6/dist-packages/keras/backend/tensorflow_backend.py:223: The name tf.variables_initializer is deprecated. Please use tf.compat.v1.variables_initializer instead.\n",
            "\n",
            "5881/5881 [==============================] - 2s 339us/step - loss: 0.9018 - acc: 0.6934 - val_loss: 0.1278 - val_acc: 0.9565\n",
            "Epoch 2/100\n",
            "5881/5881 [==============================] - 1s 145us/step - loss: 0.0607 - acc: 0.9787 - val_loss: 0.0849 - val_acc: 0.9708\n",
            "Epoch 3/100\n",
            "5881/5881 [==============================] - 1s 141us/step - loss: 0.0365 - acc: 0.9878 - val_loss: 0.0800 - val_acc: 0.9714\n",
            "Epoch 4/100\n",
            "5881/5881 [==============================] - 1s 141us/step - loss: 0.0209 - acc: 0.9939 - val_loss: 0.0700 - val_acc: 0.9816\n",
            "Epoch 5/100\n",
            "5881/5881 [==============================] - 1s 141us/step - loss: 0.0058 - acc: 0.9981 - val_loss: 0.0627 - val_acc: 0.9823\n",
            "Epoch 6/100\n",
            "5881/5881 [==============================] - 1s 153us/step - loss: 0.0016 - acc: 1.0000 - val_loss: 0.0649 - val_acc: 0.9823\n",
            "Epoch 7/100\n",
            "5881/5881 [==============================] - 1s 158us/step - loss: 5.6513e-04 - acc: 1.0000 - val_loss: 0.0665 - val_acc: 0.9810\n",
            "Epoch 8/100\n",
            "5881/5881 [==============================] - 1s 140us/step - loss: 2.4805e-04 - acc: 1.0000 - val_loss: 0.0631 - val_acc: 0.9830\n",
            "Epoch 9/100\n",
            "5881/5881 [==============================] - 1s 147us/step - loss: 1.4202e-04 - acc: 1.0000 - val_loss: 0.0598 - val_acc: 0.9850\n",
            "Epoch 10/100\n",
            "5881/5881 [==============================] - 1s 138us/step - loss: 1.0946e-04 - acc: 1.0000 - val_loss: 0.0594 - val_acc: 0.9864\n",
            "Epoch 11/100\n",
            "5881/5881 [==============================] - 1s 140us/step - loss: 9.0631e-05 - acc: 1.0000 - val_loss: 0.0596 - val_acc: 0.9857\n",
            "Epoch 12/100\n",
            "5881/5881 [==============================] - 1s 141us/step - loss: 7.7841e-05 - acc: 1.0000 - val_loss: 0.0600 - val_acc: 0.9864\n",
            "Epoch 13/100\n",
            "5881/5881 [==============================] - 1s 140us/step - loss: 6.8652e-05 - acc: 1.0000 - val_loss: 0.0601 - val_acc: 0.9864\n",
            "Epoch 14/100\n",
            "5881/5881 [==============================] - 1s 141us/step - loss: 6.1250e-05 - acc: 1.0000 - val_loss: 0.0603 - val_acc: 0.9871\n",
            "Epoch 15/100\n",
            "5881/5881 [==============================] - 1s 142us/step - loss: 5.5073e-05 - acc: 1.0000 - val_loss: 0.0605 - val_acc: 0.9864\n",
            "Epoch 16/100\n",
            "5881/5881 [==============================] - 1s 139us/step - loss: 4.9667e-05 - acc: 1.0000 - val_loss: 0.0606 - val_acc: 0.9871\n",
            "Epoch 17/100\n",
            "5881/5881 [==============================] - 1s 141us/step - loss: 4.5595e-05 - acc: 1.0000 - val_loss: 0.0607 - val_acc: 0.9871\n",
            "Epoch 18/100\n",
            "5881/5881 [==============================] - 1s 140us/step - loss: 4.1538e-05 - acc: 1.0000 - val_loss: 0.0608 - val_acc: 0.9864\n",
            "Epoch 19/100\n",
            "5881/5881 [==============================] - 1s 146us/step - loss: 3.8129e-05 - acc: 1.0000 - val_loss: 0.0610 - val_acc: 0.9871\n",
            "Epoch 20/100\n",
            "5881/5881 [==============================] - 1s 145us/step - loss: 3.5250e-05 - acc: 1.0000 - val_loss: 0.0612 - val_acc: 0.9871\n",
            "Epoch 21/100\n",
            "5881/5881 [==============================] - 1s 147us/step - loss: 3.2937e-05 - acc: 1.0000 - val_loss: 0.0613 - val_acc: 0.9864\n",
            "Epoch 22/100\n",
            "5881/5881 [==============================] - 1s 143us/step - loss: 3.0495e-05 - acc: 1.0000 - val_loss: 0.0615 - val_acc: 0.9871\n",
            "Epoch 23/100\n",
            "5881/5881 [==============================] - 1s 143us/step - loss: 2.8361e-05 - acc: 1.0000 - val_loss: 0.0615 - val_acc: 0.9864\n",
            "Epoch 24/100\n",
            "5881/5881 [==============================] - 1s 163us/step - loss: 2.6496e-05 - acc: 1.0000 - val_loss: 0.0617 - val_acc: 0.9864\n",
            "Epoch 25/100\n",
            "5881/5881 [==============================] - 1s 155us/step - loss: 2.4831e-05 - acc: 1.0000 - val_loss: 0.0618 - val_acc: 0.9864\n",
            "Epoch 26/100\n",
            "5881/5881 [==============================] - 1s 144us/step - loss: 2.3379e-05 - acc: 1.0000 - val_loss: 0.0619 - val_acc: 0.9864\n",
            "Epoch 27/100\n",
            "5881/5881 [==============================] - 1s 142us/step - loss: 2.2001e-05 - acc: 1.0000 - val_loss: 0.0620 - val_acc: 0.9864\n",
            "Epoch 28/100\n",
            "5881/5881 [==============================] - 1s 144us/step - loss: 2.0762e-05 - acc: 1.0000 - val_loss: 0.0622 - val_acc: 0.9864\n",
            "Epoch 29/100\n",
            "5881/5881 [==============================] - 1s 142us/step - loss: 1.9628e-05 - acc: 1.0000 - val_loss: 0.0623 - val_acc: 0.9864\n",
            "Epoch 30/100\n",
            "5881/5881 [==============================] - 1s 143us/step - loss: 1.8596e-05 - acc: 1.0000 - val_loss: 0.0624 - val_acc: 0.9864\n",
            "Epoch 31/100\n",
            "5881/5881 [==============================] - 1s 140us/step - loss: 1.7608e-05 - acc: 1.0000 - val_loss: 0.0626 - val_acc: 0.9864\n",
            "Epoch 32/100\n",
            "5881/5881 [==============================] - 1s 140us/step - loss: 1.6763e-05 - acc: 1.0000 - val_loss: 0.0627 - val_acc: 0.9864\n",
            "Epoch 33/100\n",
            "5881/5881 [==============================] - 1s 137us/step - loss: 1.5913e-05 - acc: 1.0000 - val_loss: 0.0628 - val_acc: 0.9864\n",
            "Epoch 34/100\n",
            "5881/5881 [==============================] - 1s 139us/step - loss: 1.5190e-05 - acc: 1.0000 - val_loss: 0.0629 - val_acc: 0.9864\n",
            "Epoch 35/100\n",
            "5881/5881 [==============================] - 1s 139us/step - loss: 1.4471e-05 - acc: 1.0000 - val_loss: 0.0631 - val_acc: 0.9864\n",
            "Epoch 36/100\n",
            "5881/5881 [==============================] - 1s 138us/step - loss: 1.3814e-05 - acc: 1.0000 - val_loss: 0.0632 - val_acc: 0.9864\n",
            "Epoch 37/100\n",
            "5881/5881 [==============================] - 1s 140us/step - loss: 1.3199e-05 - acc: 1.0000 - val_loss: 0.0633 - val_acc: 0.9864\n",
            "Epoch 38/100\n",
            "5881/5881 [==============================] - 1s 139us/step - loss: 1.2647e-05 - acc: 1.0000 - val_loss: 0.0634 - val_acc: 0.9864\n",
            "Epoch 39/100\n",
            "5881/5881 [==============================] - 1s 140us/step - loss: 1.2105e-05 - acc: 1.0000 - val_loss: 0.0635 - val_acc: 0.9864\n",
            "Epoch 40/100\n",
            "5881/5881 [==============================] - 1s 142us/step - loss: 1.1614e-05 - acc: 1.0000 - val_loss: 0.0636 - val_acc: 0.9864\n",
            "Epoch 41/100\n",
            "5881/5881 [==============================] - 1s 140us/step - loss: 1.1150e-05 - acc: 1.0000 - val_loss: 0.0638 - val_acc: 0.9864\n",
            "Epoch 42/100\n",
            "5881/5881 [==============================] - 1s 140us/step - loss: 1.0700e-05 - acc: 1.0000 - val_loss: 0.0639 - val_acc: 0.9864\n",
            "Epoch 43/100\n",
            "5881/5881 [==============================] - 1s 140us/step - loss: 1.0295e-05 - acc: 1.0000 - val_loss: 0.0640 - val_acc: 0.9864\n",
            "Epoch 44/100\n",
            "5881/5881 [==============================] - 1s 139us/step - loss: 9.9131e-06 - acc: 1.0000 - val_loss: 0.0641 - val_acc: 0.9864\n",
            "Epoch 45/100\n",
            "5881/5881 [==============================] - 1s 141us/step - loss: 9.5287e-06 - acc: 1.0000 - val_loss: 0.0642 - val_acc: 0.9864\n",
            "Epoch 46/100\n",
            "5881/5881 [==============================] - 1s 140us/step - loss: 9.1843e-06 - acc: 1.0000 - val_loss: 0.0643 - val_acc: 0.9864\n",
            "Epoch 47/100\n",
            "5881/5881 [==============================] - 1s 141us/step - loss: 8.8478e-06 - acc: 1.0000 - val_loss: 0.0644 - val_acc: 0.9864\n",
            "Epoch 48/100\n",
            "5881/5881 [==============================] - 1s 143us/step - loss: 8.5416e-06 - acc: 1.0000 - val_loss: 0.0645 - val_acc: 0.9864\n",
            "Epoch 49/100\n",
            "5881/5881 [==============================] - 1s 140us/step - loss: 8.2468e-06 - acc: 1.0000 - val_loss: 0.0646 - val_acc: 0.9864\n",
            "Epoch 50/100\n",
            "5881/5881 [==============================] - 1s 141us/step - loss: 7.9494e-06 - acc: 1.0000 - val_loss: 0.0647 - val_acc: 0.9864\n",
            "Epoch 51/100\n",
            "5881/5881 [==============================] - 1s 140us/step - loss: 7.6915e-06 - acc: 1.0000 - val_loss: 0.0647 - val_acc: 0.9864\n",
            "Epoch 52/100\n",
            "5881/5881 [==============================] - 1s 143us/step - loss: 7.4363e-06 - acc: 1.0000 - val_loss: 0.0648 - val_acc: 0.9864\n",
            "Epoch 53/100\n",
            "5881/5881 [==============================] - 1s 139us/step - loss: 7.1840e-06 - acc: 1.0000 - val_loss: 0.0650 - val_acc: 0.9864\n",
            "Epoch 54/100\n",
            "5881/5881 [==============================] - 1s 141us/step - loss: 6.9582e-06 - acc: 1.0000 - val_loss: 0.0651 - val_acc: 0.9864\n",
            "Epoch 55/100\n",
            "5881/5881 [==============================] - 1s 141us/step - loss: 6.7318e-06 - acc: 1.0000 - val_loss: 0.0651 - val_acc: 0.9864\n",
            "Epoch 56/100\n",
            "5881/5881 [==============================] - 1s 141us/step - loss: 6.5308e-06 - acc: 1.0000 - val_loss: 0.0653 - val_acc: 0.9864\n",
            "Epoch 57/100\n",
            "5881/5881 [==============================] - 1s 146us/step - loss: 6.3295e-06 - acc: 1.0000 - val_loss: 0.0654 - val_acc: 0.9864\n",
            "Epoch 58/100\n",
            "5881/5881 [==============================] - 1s 139us/step - loss: 6.1359e-06 - acc: 1.0000 - val_loss: 0.0654 - val_acc: 0.9864\n",
            "Epoch 59/100\n",
            "5881/5881 [==============================] - 1s 140us/step - loss: 5.9525e-06 - acc: 1.0000 - val_loss: 0.0655 - val_acc: 0.9864\n",
            "Epoch 60/100\n",
            "5881/5881 [==============================] - 1s 142us/step - loss: 5.7766e-06 - acc: 1.0000 - val_loss: 0.0656 - val_acc: 0.9864\n",
            "Epoch 61/100\n",
            "5881/5881 [==============================] - 1s 139us/step - loss: 5.6098e-06 - acc: 1.0000 - val_loss: 0.0657 - val_acc: 0.9864\n",
            "Epoch 62/100\n",
            "5881/5881 [==============================] - 1s 139us/step - loss: 5.4511e-06 - acc: 1.0000 - val_loss: 0.0658 - val_acc: 0.9864\n",
            "Epoch 63/100\n",
            "5881/5881 [==============================] - 1s 141us/step - loss: 5.2989e-06 - acc: 1.0000 - val_loss: 0.0659 - val_acc: 0.9864\n",
            "Epoch 64/100\n",
            "5881/5881 [==============================] - 1s 140us/step - loss: 5.1528e-06 - acc: 1.0000 - val_loss: 0.0660 - val_acc: 0.9864\n",
            "Epoch 65/100\n",
            "5881/5881 [==============================] - 1s 144us/step - loss: 5.0070e-06 - acc: 1.0000 - val_loss: 0.0661 - val_acc: 0.9864\n",
            "Epoch 66/100\n",
            "5881/5881 [==============================] - 1s 141us/step - loss: 4.8734e-06 - acc: 1.0000 - val_loss: 0.0662 - val_acc: 0.9864\n",
            "Epoch 67/100\n",
            "5881/5881 [==============================] - 1s 141us/step - loss: 4.7420e-06 - acc: 1.0000 - val_loss: 0.0663 - val_acc: 0.9864\n",
            "Epoch 68/100\n",
            "5881/5881 [==============================] - 1s 140us/step - loss: 4.6167e-06 - acc: 1.0000 - val_loss: 0.0663 - val_acc: 0.9864\n",
            "Epoch 69/100\n",
            "5881/5881 [==============================] - 1s 141us/step - loss: 4.4964e-06 - acc: 1.0000 - val_loss: 0.0664 - val_acc: 0.9864\n",
            "Epoch 70/100\n",
            "5881/5881 [==============================] - 1s 141us/step - loss: 4.3799e-06 - acc: 1.0000 - val_loss: 0.0665 - val_acc: 0.9864\n",
            "Epoch 71/100\n",
            "5881/5881 [==============================] - 1s 139us/step - loss: 4.2713e-06 - acc: 1.0000 - val_loss: 0.0666 - val_acc: 0.9864\n",
            "Epoch 72/100\n",
            "5881/5881 [==============================] - 1s 139us/step - loss: 4.1654e-06 - acc: 1.0000 - val_loss: 0.0667 - val_acc: 0.9864\n",
            "Epoch 73/100\n",
            "5881/5881 [==============================] - 1s 140us/step - loss: 4.0575e-06 - acc: 1.0000 - val_loss: 0.0668 - val_acc: 0.9864\n",
            "Epoch 74/100\n",
            "5881/5881 [==============================] - 1s 138us/step - loss: 3.9560e-06 - acc: 1.0000 - val_loss: 0.0669 - val_acc: 0.9864\n",
            "Epoch 75/100\n",
            "5881/5881 [==============================] - 1s 140us/step - loss: 3.8618e-06 - acc: 1.0000 - val_loss: 0.0670 - val_acc: 0.9864\n",
            "Epoch 76/100\n",
            "5881/5881 [==============================] - 1s 140us/step - loss: 3.7679e-06 - acc: 1.0000 - val_loss: 0.0670 - val_acc: 0.9864\n",
            "Epoch 77/100\n",
            "5881/5881 [==============================] - 1s 140us/step - loss: 3.6797e-06 - acc: 1.0000 - val_loss: 0.0671 - val_acc: 0.9864\n",
            "Epoch 78/100\n",
            "5881/5881 [==============================] - 1s 154us/step - loss: 3.5946e-06 - acc: 1.0000 - val_loss: 0.0672 - val_acc: 0.9864\n",
            "Epoch 79/100\n",
            "5881/5881 [==============================] - 1s 154us/step - loss: 3.5079e-06 - acc: 1.0000 - val_loss: 0.0673 - val_acc: 0.9864\n",
            "Epoch 80/100\n",
            "5881/5881 [==============================] - 1s 140us/step - loss: 3.4265e-06 - acc: 1.0000 - val_loss: 0.0674 - val_acc: 0.9864\n",
            "Epoch 81/100\n",
            "5881/5881 [==============================] - 1s 141us/step - loss: 3.3499e-06 - acc: 1.0000 - val_loss: 0.0674 - val_acc: 0.9864\n",
            "Epoch 82/100\n",
            "5881/5881 [==============================] - 1s 138us/step - loss: 3.2730e-06 - acc: 1.0000 - val_loss: 0.0675 - val_acc: 0.9864\n",
            "Epoch 83/100\n",
            "5881/5881 [==============================] - 1s 141us/step - loss: 3.2005e-06 - acc: 1.0000 - val_loss: 0.0676 - val_acc: 0.9864\n",
            "Epoch 84/100\n",
            "5881/5881 [==============================] - 1s 138us/step - loss: 3.1278e-06 - acc: 1.0000 - val_loss: 0.0677 - val_acc: 0.9864\n",
            "Epoch 85/100\n",
            "5881/5881 [==============================] - 1s 140us/step - loss: 3.0582e-06 - acc: 1.0000 - val_loss: 0.0678 - val_acc: 0.9864\n",
            "Epoch 86/100\n",
            "5881/5881 [==============================] - 1s 140us/step - loss: 2.9934e-06 - acc: 1.0000 - val_loss: 0.0678 - val_acc: 0.9864\n",
            "Epoch 87/100\n",
            "5881/5881 [==============================] - 1s 140us/step - loss: 2.9295e-06 - acc: 1.0000 - val_loss: 0.0679 - val_acc: 0.9864\n",
            "Epoch 88/100\n",
            "5881/5881 [==============================] - 1s 140us/step - loss: 2.8657e-06 - acc: 1.0000 - val_loss: 0.0680 - val_acc: 0.9864\n",
            "Epoch 89/100\n",
            "5881/5881 [==============================] - 1s 140us/step - loss: 2.8057e-06 - acc: 1.0000 - val_loss: 0.0681 - val_acc: 0.9864\n",
            "Epoch 90/100\n",
            "5881/5881 [==============================] - 1s 137us/step - loss: 2.7468e-06 - acc: 1.0000 - val_loss: 0.0681 - val_acc: 0.9864\n",
            "Epoch 91/100\n",
            "5881/5881 [==============================] - 1s 142us/step - loss: 2.6894e-06 - acc: 1.0000 - val_loss: 0.0682 - val_acc: 0.9864\n",
            "Epoch 92/100\n",
            "5881/5881 [==============================] - 1s 140us/step - loss: 2.6334e-06 - acc: 1.0000 - val_loss: 0.0683 - val_acc: 0.9864\n",
            "Epoch 93/100\n",
            "5881/5881 [==============================] - 1s 141us/step - loss: 2.5812e-06 - acc: 1.0000 - val_loss: 0.0684 - val_acc: 0.9864\n",
            "Epoch 94/100\n",
            "5881/5881 [==============================] - 1s 141us/step - loss: 2.5270e-06 - acc: 1.0000 - val_loss: 0.0684 - val_acc: 0.9864\n",
            "Epoch 95/100\n",
            "5881/5881 [==============================] - 1s 138us/step - loss: 2.4803e-06 - acc: 1.0000 - val_loss: 0.0685 - val_acc: 0.9864\n",
            "Epoch 96/100\n",
            "5881/5881 [==============================] - 1s 146us/step - loss: 2.4281e-06 - acc: 1.0000 - val_loss: 0.0686 - val_acc: 0.9864\n",
            "Epoch 97/100\n",
            "5881/5881 [==============================] - 1s 139us/step - loss: 2.3827e-06 - acc: 1.0000 - val_loss: 0.0687 - val_acc: 0.9864\n",
            "Epoch 98/100\n",
            "5881/5881 [==============================] - 1s 138us/step - loss: 2.3338e-06 - acc: 1.0000 - val_loss: 0.0688 - val_acc: 0.9864\n",
            "Epoch 99/100\n",
            "5881/5881 [==============================] - 1s 141us/step - loss: 2.2889e-06 - acc: 1.0000 - val_loss: 0.0688 - val_acc: 0.9864\n",
            "Epoch 100/100\n",
            "5881/5881 [==============================] - 1s 139us/step - loss: 2.2442e-06 - acc: 1.0000 - val_loss: 0.0689 - val_acc: 0.9864\n"
          ],
          "name": "stdout"
        }
      ]
    },
    {
      "cell_type": "code",
      "metadata": {
        "id": "d3_B2hIt1CxL",
        "colab_type": "code",
        "outputId": "9e67e0c9-e474-4885-880c-dd33954dc232",
        "colab": {
          "base_uri": "https://localhost:8080/",
          "height": 357
        }
      },
      "source": [
        "y_pred = classifier.predict(X_test)\n",
        "print(y_pred)\n",
        "y_pred = (y_pred > 0.5)\n",
        "print(y_pred)"
      ],
      "execution_count": 0,
      "outputs": [
        {
          "output_type": "stream",
          "text": [
            "[[1.0000000e+00 2.8567503e-11 4.8009116e-15 1.4505298e-12 2.1828715e-12\n",
            "  1.9580275e-12]\n",
            " [5.8202859e-10 1.5692830e-15 7.2069470e-09 2.2834123e-10 3.8886130e-09\n",
            "  1.0000000e+00]\n",
            " [1.0000000e+00 6.1648542e-12 1.0294004e-15 1.3511150e-15 3.0565599e-16\n",
            "  6.4375619e-12]\n",
            " ...\n",
            " [9.9999976e-01 3.6648892e-10 3.7746854e-12 3.8290564e-12 1.2582713e-10\n",
            "  2.7543376e-07]\n",
            " [2.8382233e-10 1.6003679e-10 4.0417895e-11 9.9998939e-01 1.3959131e-07\n",
            "  1.0489882e-05]\n",
            " [1.1962045e-11 2.0515080e-14 2.3194888e-15 1.0000000e+00 2.0844070e-10\n",
            "  2.9985220e-08]]\n",
            "[[ True False False False False False]\n",
            " [False False False False False  True]\n",
            " [ True False False False False False]\n",
            " ...\n",
            " [ True False False False False False]\n",
            " [False False False  True False False]\n",
            " [False False False  True False False]]\n"
          ],
          "name": "stdout"
        }
      ]
    },
    {
      "cell_type": "code",
      "metadata": {
        "id": "zo2FYzCF1HEb",
        "colab_type": "code",
        "outputId": "778842e1-4731-465a-c3c0-584b22960835",
        "colab": {
          "base_uri": "https://localhost:8080/",
          "height": 119
        }
      },
      "source": [
        "from sklearn.metrics import classification_report, confusion_matrix\n",
        "cm=confusion_matrix(Y_test.argmax(axis=1), y_pred.argmax(axis=1))\n",
        "print(cm)\n"
      ],
      "execution_count": 0,
      "outputs": [
        {
          "output_type": "stream",
          "text": [
            "[[262   0   0   0   0   0]\n",
            " [  0 278   6   0   0   0]\n",
            " [  0   9 267   0   0   0]\n",
            " [  1   0   0 238   0   1]\n",
            " [  0   0   0   1 177   0]\n",
            " [  0   0   0   1   1 229]]\n"
          ],
          "name": "stdout"
        }
      ]
    },
    {
      "cell_type": "code",
      "metadata": {
        "id": "4TPAfx_v1Jv7",
        "colab_type": "code",
        "outputId": "b425887a-c972-4da7-ae82-705d55fa08ca",
        "colab": {
          "base_uri": "https://localhost:8080/",
          "height": 306
        }
      },
      "source": [
        "from sklearn.metrics import accuracy_score \n",
        "print(accuracy_score(Y_test, y_pred)*100,'%')\n",
        "#print (((cm[0][0]+cm[1][1])*100)/(cm[0][0]+cm[1][1]+cm[0][1]+cm[1][0]), '% of testing data was classified correctly')\n",
        "print(classification_report(Y_test,y_pred))"
      ],
      "execution_count": 0,
      "outputs": [
        {
          "output_type": "stream",
          "text": [
            "98.64038069340585 %\n",
            "              precision    recall  f1-score   support\n",
            "\n",
            "           0       1.00      1.00      1.00       262\n",
            "           1       0.97      0.98      0.97       284\n",
            "           2       0.98      0.97      0.97       276\n",
            "           3       0.99      0.99      0.99       240\n",
            "           4       0.99      0.99      0.99       178\n",
            "           5       1.00      0.99      0.99       231\n",
            "\n",
            "   micro avg       0.99      0.99      0.99      1471\n",
            "   macro avg       0.99      0.99      0.99      1471\n",
            "weighted avg       0.99      0.99      0.99      1471\n",
            " samples avg       0.99      0.99      0.99      1471\n",
            "\n"
          ],
          "name": "stdout"
        },
        {
          "output_type": "stream",
          "text": [
            "/usr/local/lib/python3.6/dist-packages/sklearn/metrics/classification.py:1437: UndefinedMetricWarning: Precision and F-score are ill-defined and being set to 0.0 in samples with no predicted labels.\n",
            "  'precision', 'predicted', average, warn_for)\n"
          ],
          "name": "stderr"
        }
      ]
    },
    {
      "cell_type": "code",
      "metadata": {
        "id": "qGJlrrrC1M3s",
        "colab_type": "code",
        "outputId": "46a13fcf-3faf-47ed-c7c8-6614104e0f24",
        "colab": {
          "base_uri": "https://localhost:8080/",
          "height": 295
        }
      },
      "source": [
        "plt.plot(hist.history['loss'])\n",
        "plt.plot(hist.history['val_loss'])\n",
        "plt.title('Model loss')\n",
        "plt.ylabel('Loss')\n",
        "plt.xlabel('Epoch')\n",
        "plt.legend(['Train', 'Val'], loc='upper right')\n",
        "plt.show()\n",
        "\n"
      ],
      "execution_count": 0,
      "outputs": [
        {
          "output_type": "display_data",
          "data": {
            "image/png": "[encoded data removed]",
            "text/plain": [
              "<Figure size 432x288 with 1 Axes>"
            ]
          },
          "metadata": {
            "tags": []
          }
        }
      ]
    },
    {
      "cell_type": "code",
      "metadata": {
        "id": "JbiYnkCi1Ri9",
        "colab_type": "code",
        "outputId": "d9a20e75-9ce0-4531-bdd3-c06a93f8c076",
        "colab": {
          "base_uri": "https://localhost:8080/",
          "height": 295
        }
      },
      "source": [
        "plt.plot(hist.history['acc'])\n",
        "plt.plot(hist.history['val_acc'])\n",
        "plt.title('Model accuracy')\n",
        "plt.ylabel('Accuracy')\n",
        "plt.xlabel('Epoch')\n",
        "plt.legend(['Train', 'Val'], loc='lower right')\n",
        "plt.show()\n",
        "\n"
      ],
      "execution_count": 0,
      "outputs": [
        {
          "output_type": "display_data",
          "data": {
            "image/png": "[encoded data removed]",
            "text/plain": [
              "<Figure size 432x288 with 1 Axes>"
            ]
          },
          "metadata": {
            "tags": []
          }
        }
      ]
    }
  ]
}