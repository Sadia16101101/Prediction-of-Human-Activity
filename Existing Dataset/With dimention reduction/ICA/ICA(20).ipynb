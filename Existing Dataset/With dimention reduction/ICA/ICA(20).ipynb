{
  "nbformat": 4,
  "nbformat_minor": 0,
  "metadata": {
    "colab": {
      "name": "ICA(20).ipynb",
      "provenance": [],
      "collapsed_sections": []
    },
    "kernelspec": {
      "name": "python3",
      "display_name": "Python 3"
    }
  },
  "cells": [
    {
      "cell_type": "code",
      "metadata": {
        "id": "MyWXghiNATl3",
        "colab_type": "code",
        "outputId": "ab70f2c7-c58c-470e-c1a6-ec805f7e58e2",
        "colab": {
          "base_uri": "https://localhost:8080/",
          "height": 272
        }
      },
      "source": [
        "!pip install scikit-plot\n"
      ],
      "execution_count": 0,
      "outputs": [
        {
          "output_type": "stream",
          "text": [
            "Collecting scikit-plot\n",
            "  Downloading https://files.pythonhosted.org/packages/7c/47/32520e259340c140a4ad27c1b97050dd3254fdc517b1d59974d47037510e/scikit_plot-0.3.7-py3-none-any.whl\n",
            "Requirement already satisfied: matplotlib>=1.4.0 in /usr/local/lib/python3.6/dist-packages (from scikit-plot) (3.1.1)\n",
            "Requirement already satisfied: scipy>=0.9 in /usr/local/lib/python3.6/dist-packages (from scikit-plot) (1.3.2)\n",
            "Requirement already satisfied: scikit-learn>=0.18 in /usr/local/lib/python3.6/dist-packages (from scikit-plot) (0.21.3)\n",
            "Requirement already satisfied: joblib>=0.10 in /usr/local/lib/python3.6/dist-packages (from scikit-plot) (0.14.0)\n",
            "Requirement already satisfied: cycler>=0.10 in /usr/local/lib/python3.6/dist-packages (from matplotlib>=1.4.0->scikit-plot) (0.10.0)\n",
            "Requirement already satisfied: python-dateutil>=2.1 in /usr/local/lib/python3.6/dist-packages (from matplotlib>=1.4.0->scikit-plot) (2.6.1)\n",
            "Requirement already satisfied: numpy>=1.11 in /usr/local/lib/python3.6/dist-packages (from matplotlib>=1.4.0->scikit-plot) (1.17.4)\n",
            "Requirement already satisfied: pyparsing!=2.0.4,!=2.1.2,!=2.1.6,>=2.0.1 in /usr/local/lib/python3.6/dist-packages (from matplotlib>=1.4.0->scikit-plot) (2.4.5)\n",
            "Requirement already satisfied: kiwisolver>=1.0.1 in /usr/local/lib/python3.6/dist-packages (from matplotlib>=1.4.0->scikit-plot) (1.1.0)\n",
            "Requirement already satisfied: six in /usr/local/lib/python3.6/dist-packages (from cycler>=0.10->matplotlib>=1.4.0->scikit-plot) (1.12.0)\n",
            "Requirement already satisfied: setuptools in /usr/local/lib/python3.6/dist-packages (from kiwisolver>=1.0.1->matplotlib>=1.4.0->scikit-plot) (41.6.0)\n",
            "Installing collected packages: scikit-plot\n",
            "Successfully installed scikit-plot-0.3.7\n"
          ],
          "name": "stdout"
        }
      ]
    },
    {
      "cell_type": "code",
      "metadata": {
        "id": "usQ4QXZ1Aam6",
        "colab_type": "code",
        "outputId": "0a2741b0-a562-435c-ee79-97bedcf81bb4",
        "colab": {
          "resources": {
            "http://localhost:8080/nbextensions/google.colab/files.js": {
              "data": "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",
              "ok": true,
              "headers": [
                [
                  "content-type",
                  "application/javascript"
                ]
              ],
              "status": 200,
              "status_text": ""
            }
          },
          "base_uri": "https://localhost:8080/",
          "height": 74
        }
      },
      "source": [
        "from google.colab import files\n",
        "uploaded = files.upload()"
      ],
      "execution_count": 0,
      "outputs": [
        {
          "output_type": "display_data",
          "data": {
            "text/html": [
              "\n",
              "     <input type=\"file\" id=\"files-55602b2d-938d-41bf-aae2-0352bfc5f067\" name=\"files[]\" multiple disabled />\n",
              "     <output id=\"result-55602b2d-938d-41bf-aae2-0352bfc5f067\">\n",
              "      Upload widget is only available when the cell has been executed in the\n",
              "      current browser session. Please rerun this cell to enable.\n",
              "      </output>\n",
              "      <script src=\"/nbextensions/google.colab/files.js\"></script> "
            ],
            "text/plain": [
              "<IPython.core.display.HTML object>"
            ]
          },
          "metadata": {
            "tags": []
          }
        },
        {
          "output_type": "stream",
          "text": [
            "Saving train.csv to train.csv\n"
          ],
          "name": "stdout"
        }
      ]
    },
    {
      "cell_type": "code",
      "metadata": {
        "id": "o86QdyV-AjIu",
        "colab_type": "code",
        "colab": {}
      },
      "source": [
        "import math \n",
        "\n",
        "import pandas as pd\n",
        "import io\n",
        "import scikitplot as skplt\n",
        "import numpy as np\n",
        "from sklearn.model_selection import train_test_split\n"
      ],
      "execution_count": 0,
      "outputs": []
    },
    {
      "cell_type": "code",
      "metadata": {
        "id": "MsWcOS_kDj6j",
        "colab_type": "code",
        "colab": {}
      },
      "source": [
        "df = pd.read_csv(io.BytesIO(uploaded['train.csv']))\n",
        "dx = pd.DataFrame(df.drop(['Activity','subject'],axis=1))\n",
        "dy_label = df.Activity.values.astype(object)\n",
        "from sklearn import linear_model\n",
        "# Transforming non numerical labels into numerical labels\n",
        "from sklearn import preprocessing\n",
        "encoder = preprocessing.LabelEncoder()\n",
        "# encoding train labels \n",
        "encoder.fit(dy_label)\n",
        "dy = encoder.transform(dy_label)\n",
        "X_train_s, X_test_s, Y_train, Y_test = train_test_split(dx,dy,test_size=0.2, random_state=4)\n"
      ],
      "execution_count": 0,
      "outputs": []
    },
    {
      "cell_type": "code",
      "metadata": {
        "id": "x2ErBxI2DuuS",
        "colab_type": "code",
        "outputId": "ad5ad460-1cc0-4989-9861-745d14bd74cc",
        "colab": {
          "base_uri": "https://localhost:8080/",
          "height": 287
        }
      },
      "source": [
        "df.head()\n"
      ],
      "execution_count": 0,
      "outputs": [
        {
          "output_type": "execute_result",
          "data": {
            "text/html": [
              "<div>\n",
              "<style scoped>\n",
              "    .dataframe tbody tr th:only-of-type {\n",
              "        vertical-align: middle;\n",
              "    }\n",
              "\n",
              "    .dataframe tbody tr th {\n",
              "        vertical-align: top;\n",
              "    }\n",
              "\n",
              "    .dataframe thead th {\n",
              "        text-align: right;\n",
              "    }\n",
              "</style>\n",
              "<table border=\"1\" class=\"dataframe\">\n",
              "  <thead>\n",
              "    <tr style=\"text-align: right;\">\n",
              "      <th></th>\n",
              "      <th>tBodyAcc-mean()-X</th>\n",
              "      <th>tBodyAcc-mean()-Y</th>\n",
              "      <th>tBodyAcc-mean()-Z</th>\n",
              "      <th>tBodyAcc-std()-X</th>\n",
              "      <th>tBodyAcc-std()-Y</th>\n",
              "      <th>tBodyAcc-std()-Z</th>\n",
              "      <th>tBodyAcc-mad()-X</th>\n",
              "      <th>tBodyAcc-mad()-Y</th>\n",
              "      <th>tBodyAcc-mad()-Z</th>\n",
              "      <th>tBodyAcc-max()-X</th>\n",
              "      <th>tBodyAcc-max()-Y</th>\n",
              "      <th>tBodyAcc-max()-Z</th>\n",
              "      <th>tBodyAcc-min()-X</th>\n",
              "      <th>tBodyAcc-min()-Y</th>\n",
              "      <th>tBodyAcc-min()-Z</th>\n",
              "      <th>tBodyAcc-sma()</th>\n",
              "      <th>tBodyAcc-energy()-X</th>\n",
              "      <th>tBodyAcc-energy()-Y</th>\n",
              "      <th>tBodyAcc-energy()-Z</th>\n",
              "      <th>tBodyAcc-iqr()-X</th>\n",
              "      <th>tBodyAcc-iqr()-Y</th>\n",
              "      <th>tBodyAcc-iqr()-Z</th>\n",
              "      <th>tBodyAcc-entropy()-X</th>\n",
              "      <th>tBodyAcc-entropy()-Y</th>\n",
              "      <th>tBodyAcc-entropy()-Z</th>\n",
              "      <th>tBodyAcc-arCoeff()-X,1</th>\n",
              "      <th>tBodyAcc-arCoeff()-X,2</th>\n",
              "      <th>tBodyAcc-arCoeff()-X,3</th>\n",
              "      <th>tBodyAcc-arCoeff()-X,4</th>\n",
              "      <th>tBodyAcc-arCoeff()-Y,1</th>\n",
              "      <th>tBodyAcc-arCoeff()-Y,2</th>\n",
              "      <th>tBodyAcc-arCoeff()-Y,3</th>\n",
              "      <th>tBodyAcc-arCoeff()-Y,4</th>\n",
              "      <th>tBodyAcc-arCoeff()-Z,1</th>\n",
              "      <th>tBodyAcc-arCoeff()-Z,2</th>\n",
              "      <th>tBodyAcc-arCoeff()-Z,3</th>\n",
              "      <th>tBodyAcc-arCoeff()-Z,4</th>\n",
              "      <th>tBodyAcc-correlation()-X,Y</th>\n",
              "      <th>tBodyAcc-correlation()-X,Z</th>\n",
              "      <th>tBodyAcc-correlation()-Y,Z</th>\n",
              "      <th>...</th>\n",
              "      <th>fBodyBodyAccJerkMag-entropy()</th>\n",
              "      <th>fBodyBodyAccJerkMag-maxInds</th>\n",
              "      <th>fBodyBodyAccJerkMag-meanFreq()</th>\n",
              "      <th>fBodyBodyAccJerkMag-skewness()</th>\n",
              "      <th>fBodyBodyAccJerkMag-kurtosis()</th>\n",
              "      <th>fBodyBodyGyroMag-mean()</th>\n",
              "      <th>fBodyBodyGyroMag-std()</th>\n",
              "      <th>fBodyBodyGyroMag-mad()</th>\n",
              "      <th>fBodyBodyGyroMag-max()</th>\n",
              "      <th>fBodyBodyGyroMag-min()</th>\n",
              "      <th>fBodyBodyGyroMag-sma()</th>\n",
              "      <th>fBodyBodyGyroMag-energy()</th>\n",
              "      <th>fBodyBodyGyroMag-iqr()</th>\n",
              "      <th>fBodyBodyGyroMag-entropy()</th>\n",
              "      <th>fBodyBodyGyroMag-maxInds</th>\n",
              "      <th>fBodyBodyGyroMag-meanFreq()</th>\n",
              "      <th>fBodyBodyGyroMag-skewness()</th>\n",
              "      <th>fBodyBodyGyroMag-kurtosis()</th>\n",
              "      <th>fBodyBodyGyroJerkMag-mean()</th>\n",
              "      <th>fBodyBodyGyroJerkMag-std()</th>\n",
              "      <th>fBodyBodyGyroJerkMag-mad()</th>\n",
              "      <th>fBodyBodyGyroJerkMag-max()</th>\n",
              "      <th>fBodyBodyGyroJerkMag-min()</th>\n",
              "      <th>fBodyBodyGyroJerkMag-sma()</th>\n",
              "      <th>fBodyBodyGyroJerkMag-energy()</th>\n",
              "      <th>fBodyBodyGyroJerkMag-iqr()</th>\n",
              "      <th>fBodyBodyGyroJerkMag-entropy()</th>\n",
              "      <th>fBodyBodyGyroJerkMag-maxInds</th>\n",
              "      <th>fBodyBodyGyroJerkMag-meanFreq()</th>\n",
              "      <th>fBodyBodyGyroJerkMag-skewness()</th>\n",
              "      <th>fBodyBodyGyroJerkMag-kurtosis()</th>\n",
              "      <th>angle(tBodyAccMean,gravity)</th>\n",
              "      <th>angle(tBodyAccJerkMean),gravityMean)</th>\n",
              "      <th>angle(tBodyGyroMean,gravityMean)</th>\n",
              "      <th>angle(tBodyGyroJerkMean,gravityMean)</th>\n",
              "      <th>angle(X,gravityMean)</th>\n",
              "      <th>angle(Y,gravityMean)</th>\n",
              "      <th>angle(Z,gravityMean)</th>\n",
              "      <th>subject</th>\n",
              "      <th>Activity</th>\n",
              "    </tr>\n",
              "  </thead>\n",
              "  <tbody>\n",
              "    <tr>\n",
              "      <th>0</th>\n",
              "      <td>0.288585</td>\n",
              "      <td>-0.020294</td>\n",
              "      <td>-0.132905</td>\n",
              "      <td>-0.995279</td>\n",
              "      <td>-0.983111</td>\n",
              "      <td>-0.913526</td>\n",
              "      <td>-0.995112</td>\n",
              "      <td>-0.983185</td>\n",
              "      <td>-0.923527</td>\n",
              "      <td>-0.934724</td>\n",
              "      <td>-0.567378</td>\n",
              "      <td>-0.744413</td>\n",
              "      <td>0.852947</td>\n",
              "      <td>0.685845</td>\n",
              "      <td>0.814263</td>\n",
              "      <td>-0.965523</td>\n",
              "      <td>-0.999945</td>\n",
              "      <td>-0.999863</td>\n",
              "      <td>-0.994612</td>\n",
              "      <td>-0.994231</td>\n",
              "      <td>-0.987614</td>\n",
              "      <td>-0.943220</td>\n",
              "      <td>-0.407747</td>\n",
              "      <td>-0.679338</td>\n",
              "      <td>-0.602122</td>\n",
              "      <td>0.929294</td>\n",
              "      <td>-0.853011</td>\n",
              "      <td>0.359910</td>\n",
              "      <td>-0.058526</td>\n",
              "      <td>0.256892</td>\n",
              "      <td>-0.224848</td>\n",
              "      <td>0.264106</td>\n",
              "      <td>-0.095246</td>\n",
              "      <td>0.278851</td>\n",
              "      <td>-0.465085</td>\n",
              "      <td>0.491936</td>\n",
              "      <td>-0.190884</td>\n",
              "      <td>0.376314</td>\n",
              "      <td>0.435129</td>\n",
              "      <td>0.660790</td>\n",
              "      <td>...</td>\n",
              "      <td>-1.0</td>\n",
              "      <td>-0.936508</td>\n",
              "      <td>0.346989</td>\n",
              "      <td>-0.516080</td>\n",
              "      <td>-0.802760</td>\n",
              "      <td>-0.980135</td>\n",
              "      <td>-0.961309</td>\n",
              "      <td>-0.973653</td>\n",
              "      <td>-0.952264</td>\n",
              "      <td>-0.989498</td>\n",
              "      <td>-0.980135</td>\n",
              "      <td>-0.999240</td>\n",
              "      <td>-0.992656</td>\n",
              "      <td>-0.701291</td>\n",
              "      <td>-1.000000</td>\n",
              "      <td>-0.128989</td>\n",
              "      <td>0.586156</td>\n",
              "      <td>0.374605</td>\n",
              "      <td>-0.991990</td>\n",
              "      <td>-0.990697</td>\n",
              "      <td>-0.989941</td>\n",
              "      <td>-0.992448</td>\n",
              "      <td>-0.991048</td>\n",
              "      <td>-0.991990</td>\n",
              "      <td>-0.999937</td>\n",
              "      <td>-0.990458</td>\n",
              "      <td>-0.871306</td>\n",
              "      <td>-1.000000</td>\n",
              "      <td>-0.074323</td>\n",
              "      <td>-0.298676</td>\n",
              "      <td>-0.710304</td>\n",
              "      <td>-0.112754</td>\n",
              "      <td>0.030400</td>\n",
              "      <td>-0.464761</td>\n",
              "      <td>-0.018446</td>\n",
              "      <td>-0.841247</td>\n",
              "      <td>0.179941</td>\n",
              "      <td>-0.058627</td>\n",
              "      <td>1</td>\n",
              "      <td>STANDING</td>\n",
              "    </tr>\n",
              "    <tr>\n",
              "      <th>1</th>\n",
              "      <td>0.278419</td>\n",
              "      <td>-0.016411</td>\n",
              "      <td>-0.123520</td>\n",
              "      <td>-0.998245</td>\n",
              "      <td>-0.975300</td>\n",
              "      <td>-0.960322</td>\n",
              "      <td>-0.998807</td>\n",
              "      <td>-0.974914</td>\n",
              "      <td>-0.957686</td>\n",
              "      <td>-0.943068</td>\n",
              "      <td>-0.557851</td>\n",
              "      <td>-0.818409</td>\n",
              "      <td>0.849308</td>\n",
              "      <td>0.685845</td>\n",
              "      <td>0.822637</td>\n",
              "      <td>-0.981930</td>\n",
              "      <td>-0.999991</td>\n",
              "      <td>-0.999788</td>\n",
              "      <td>-0.998405</td>\n",
              "      <td>-0.999150</td>\n",
              "      <td>-0.977866</td>\n",
              "      <td>-0.948225</td>\n",
              "      <td>-0.714892</td>\n",
              "      <td>-0.500930</td>\n",
              "      <td>-0.570979</td>\n",
              "      <td>0.611627</td>\n",
              "      <td>-0.329549</td>\n",
              "      <td>0.284213</td>\n",
              "      <td>0.284595</td>\n",
              "      <td>0.115705</td>\n",
              "      <td>-0.090963</td>\n",
              "      <td>0.294310</td>\n",
              "      <td>-0.281211</td>\n",
              "      <td>0.085988</td>\n",
              "      <td>-0.022153</td>\n",
              "      <td>-0.016657</td>\n",
              "      <td>-0.220643</td>\n",
              "      <td>-0.013429</td>\n",
              "      <td>-0.072692</td>\n",
              "      <td>0.579382</td>\n",
              "      <td>...</td>\n",
              "      <td>-1.0</td>\n",
              "      <td>-0.841270</td>\n",
              "      <td>0.532061</td>\n",
              "      <td>-0.624871</td>\n",
              "      <td>-0.900160</td>\n",
              "      <td>-0.988296</td>\n",
              "      <td>-0.983322</td>\n",
              "      <td>-0.982659</td>\n",
              "      <td>-0.986321</td>\n",
              "      <td>-0.991829</td>\n",
              "      <td>-0.988296</td>\n",
              "      <td>-0.999811</td>\n",
              "      <td>-0.993979</td>\n",
              "      <td>-0.720683</td>\n",
              "      <td>-0.948718</td>\n",
              "      <td>-0.271958</td>\n",
              "      <td>-0.336310</td>\n",
              "      <td>-0.720015</td>\n",
              "      <td>-0.995854</td>\n",
              "      <td>-0.996399</td>\n",
              "      <td>-0.995442</td>\n",
              "      <td>-0.996866</td>\n",
              "      <td>-0.994440</td>\n",
              "      <td>-0.995854</td>\n",
              "      <td>-0.999981</td>\n",
              "      <td>-0.994544</td>\n",
              "      <td>-1.000000</td>\n",
              "      <td>-1.000000</td>\n",
              "      <td>0.158075</td>\n",
              "      <td>-0.595051</td>\n",
              "      <td>-0.861499</td>\n",
              "      <td>0.053477</td>\n",
              "      <td>-0.007435</td>\n",
              "      <td>-0.732626</td>\n",
              "      <td>0.703511</td>\n",
              "      <td>-0.844788</td>\n",
              "      <td>0.180289</td>\n",
              "      <td>-0.054317</td>\n",
              "      <td>1</td>\n",
              "      <td>STANDING</td>\n",
              "    </tr>\n",
              "    <tr>\n",
              "      <th>2</th>\n",
              "      <td>0.279653</td>\n",
              "      <td>-0.019467</td>\n",
              "      <td>-0.113462</td>\n",
              "      <td>-0.995380</td>\n",
              "      <td>-0.967187</td>\n",
              "      <td>-0.978944</td>\n",
              "      <td>-0.996520</td>\n",
              "      <td>-0.963668</td>\n",
              "      <td>-0.977469</td>\n",
              "      <td>-0.938692</td>\n",
              "      <td>-0.557851</td>\n",
              "      <td>-0.818409</td>\n",
              "      <td>0.843609</td>\n",
              "      <td>0.682401</td>\n",
              "      <td>0.839344</td>\n",
              "      <td>-0.983478</td>\n",
              "      <td>-0.999969</td>\n",
              "      <td>-0.999660</td>\n",
              "      <td>-0.999470</td>\n",
              "      <td>-0.997130</td>\n",
              "      <td>-0.964810</td>\n",
              "      <td>-0.974675</td>\n",
              "      <td>-0.592235</td>\n",
              "      <td>-0.485821</td>\n",
              "      <td>-0.570979</td>\n",
              "      <td>0.273025</td>\n",
              "      <td>-0.086309</td>\n",
              "      <td>0.337202</td>\n",
              "      <td>-0.164739</td>\n",
              "      <td>0.017150</td>\n",
              "      <td>-0.074507</td>\n",
              "      <td>0.342256</td>\n",
              "      <td>-0.332564</td>\n",
              "      <td>0.239281</td>\n",
              "      <td>-0.136204</td>\n",
              "      <td>0.173863</td>\n",
              "      <td>-0.299493</td>\n",
              "      <td>-0.124698</td>\n",
              "      <td>-0.181105</td>\n",
              "      <td>0.608900</td>\n",
              "      <td>...</td>\n",
              "      <td>-1.0</td>\n",
              "      <td>-0.904762</td>\n",
              "      <td>0.660795</td>\n",
              "      <td>-0.724697</td>\n",
              "      <td>-0.928539</td>\n",
              "      <td>-0.989255</td>\n",
              "      <td>-0.986028</td>\n",
              "      <td>-0.984274</td>\n",
              "      <td>-0.990979</td>\n",
              "      <td>-0.995703</td>\n",
              "      <td>-0.989255</td>\n",
              "      <td>-0.999854</td>\n",
              "      <td>-0.993238</td>\n",
              "      <td>-0.736521</td>\n",
              "      <td>-0.794872</td>\n",
              "      <td>-0.212728</td>\n",
              "      <td>-0.535352</td>\n",
              "      <td>-0.871914</td>\n",
              "      <td>-0.995031</td>\n",
              "      <td>-0.995127</td>\n",
              "      <td>-0.994640</td>\n",
              "      <td>-0.996060</td>\n",
              "      <td>-0.995866</td>\n",
              "      <td>-0.995031</td>\n",
              "      <td>-0.999973</td>\n",
              "      <td>-0.993755</td>\n",
              "      <td>-1.000000</td>\n",
              "      <td>-0.555556</td>\n",
              "      <td>0.414503</td>\n",
              "      <td>-0.390748</td>\n",
              "      <td>-0.760104</td>\n",
              "      <td>-0.118559</td>\n",
              "      <td>0.177899</td>\n",
              "      <td>0.100699</td>\n",
              "      <td>0.808529</td>\n",
              "      <td>-0.848933</td>\n",
              "      <td>0.180637</td>\n",
              "      <td>-0.049118</td>\n",
              "      <td>1</td>\n",
              "      <td>STANDING</td>\n",
              "    </tr>\n",
              "    <tr>\n",
              "      <th>3</th>\n",
              "      <td>0.279174</td>\n",
              "      <td>-0.026201</td>\n",
              "      <td>-0.123283</td>\n",
              "      <td>-0.996091</td>\n",
              "      <td>-0.983403</td>\n",
              "      <td>-0.990675</td>\n",
              "      <td>-0.997099</td>\n",
              "      <td>-0.982750</td>\n",
              "      <td>-0.989302</td>\n",
              "      <td>-0.938692</td>\n",
              "      <td>-0.576159</td>\n",
              "      <td>-0.829711</td>\n",
              "      <td>0.843609</td>\n",
              "      <td>0.682401</td>\n",
              "      <td>0.837869</td>\n",
              "      <td>-0.986093</td>\n",
              "      <td>-0.999976</td>\n",
              "      <td>-0.999736</td>\n",
              "      <td>-0.999504</td>\n",
              "      <td>-0.997180</td>\n",
              "      <td>-0.983799</td>\n",
              "      <td>-0.986007</td>\n",
              "      <td>-0.627446</td>\n",
              "      <td>-0.850930</td>\n",
              "      <td>-0.911872</td>\n",
              "      <td>0.061436</td>\n",
              "      <td>0.074840</td>\n",
              "      <td>0.198204</td>\n",
              "      <td>-0.264307</td>\n",
              "      <td>0.072545</td>\n",
              "      <td>-0.155320</td>\n",
              "      <td>0.323154</td>\n",
              "      <td>-0.170813</td>\n",
              "      <td>0.294938</td>\n",
              "      <td>-0.306081</td>\n",
              "      <td>0.482148</td>\n",
              "      <td>-0.470129</td>\n",
              "      <td>-0.305693</td>\n",
              "      <td>-0.362654</td>\n",
              "      <td>0.507459</td>\n",
              "      <td>...</td>\n",
              "      <td>-1.0</td>\n",
              "      <td>1.000000</td>\n",
              "      <td>0.678921</td>\n",
              "      <td>-0.701131</td>\n",
              "      <td>-0.909639</td>\n",
              "      <td>-0.989413</td>\n",
              "      <td>-0.987836</td>\n",
              "      <td>-0.986850</td>\n",
              "      <td>-0.986749</td>\n",
              "      <td>-0.996199</td>\n",
              "      <td>-0.989413</td>\n",
              "      <td>-0.999876</td>\n",
              "      <td>-0.989136</td>\n",
              "      <td>-0.720891</td>\n",
              "      <td>-1.000000</td>\n",
              "      <td>-0.035684</td>\n",
              "      <td>-0.230091</td>\n",
              "      <td>-0.511217</td>\n",
              "      <td>-0.995221</td>\n",
              "      <td>-0.995237</td>\n",
              "      <td>-0.995722</td>\n",
              "      <td>-0.995273</td>\n",
              "      <td>-0.995732</td>\n",
              "      <td>-0.995221</td>\n",
              "      <td>-0.999974</td>\n",
              "      <td>-0.995226</td>\n",
              "      <td>-0.955696</td>\n",
              "      <td>-0.936508</td>\n",
              "      <td>0.404573</td>\n",
              "      <td>-0.117290</td>\n",
              "      <td>-0.482845</td>\n",
              "      <td>-0.036788</td>\n",
              "      <td>-0.012892</td>\n",
              "      <td>0.640011</td>\n",
              "      <td>-0.485366</td>\n",
              "      <td>-0.848649</td>\n",
              "      <td>0.181935</td>\n",
              "      <td>-0.047663</td>\n",
              "      <td>1</td>\n",
              "      <td>STANDING</td>\n",
              "    </tr>\n",
              "    <tr>\n",
              "      <th>4</th>\n",
              "      <td>0.276629</td>\n",
              "      <td>-0.016570</td>\n",
              "      <td>-0.115362</td>\n",
              "      <td>-0.998139</td>\n",
              "      <td>-0.980817</td>\n",
              "      <td>-0.990482</td>\n",
              "      <td>-0.998321</td>\n",
              "      <td>-0.979672</td>\n",
              "      <td>-0.990441</td>\n",
              "      <td>-0.942469</td>\n",
              "      <td>-0.569174</td>\n",
              "      <td>-0.824705</td>\n",
              "      <td>0.849095</td>\n",
              "      <td>0.683250</td>\n",
              "      <td>0.837869</td>\n",
              "      <td>-0.992653</td>\n",
              "      <td>-0.999991</td>\n",
              "      <td>-0.999856</td>\n",
              "      <td>-0.999757</td>\n",
              "      <td>-0.998004</td>\n",
              "      <td>-0.981232</td>\n",
              "      <td>-0.991325</td>\n",
              "      <td>-0.786553</td>\n",
              "      <td>-0.559477</td>\n",
              "      <td>-0.761434</td>\n",
              "      <td>0.313276</td>\n",
              "      <td>-0.131208</td>\n",
              "      <td>0.191161</td>\n",
              "      <td>0.086904</td>\n",
              "      <td>0.257615</td>\n",
              "      <td>-0.272505</td>\n",
              "      <td>0.434728</td>\n",
              "      <td>-0.315375</td>\n",
              "      <td>0.439744</td>\n",
              "      <td>-0.269069</td>\n",
              "      <td>0.179414</td>\n",
              "      <td>-0.088952</td>\n",
              "      <td>-0.155804</td>\n",
              "      <td>-0.189763</td>\n",
              "      <td>0.599213</td>\n",
              "      <td>...</td>\n",
              "      <td>-1.0</td>\n",
              "      <td>-1.000000</td>\n",
              "      <td>0.559058</td>\n",
              "      <td>-0.528901</td>\n",
              "      <td>-0.858933</td>\n",
              "      <td>-0.991433</td>\n",
              "      <td>-0.989059</td>\n",
              "      <td>-0.987744</td>\n",
              "      <td>-0.991462</td>\n",
              "      <td>-0.998353</td>\n",
              "      <td>-0.991433</td>\n",
              "      <td>-0.999902</td>\n",
              "      <td>-0.989321</td>\n",
              "      <td>-0.763372</td>\n",
              "      <td>-0.897436</td>\n",
              "      <td>-0.273582</td>\n",
              "      <td>-0.510282</td>\n",
              "      <td>-0.830702</td>\n",
              "      <td>-0.995093</td>\n",
              "      <td>-0.995465</td>\n",
              "      <td>-0.995279</td>\n",
              "      <td>-0.995609</td>\n",
              "      <td>-0.997418</td>\n",
              "      <td>-0.995093</td>\n",
              "      <td>-0.999974</td>\n",
              "      <td>-0.995487</td>\n",
              "      <td>-1.000000</td>\n",
              "      <td>-0.936508</td>\n",
              "      <td>0.087753</td>\n",
              "      <td>-0.351471</td>\n",
              "      <td>-0.699205</td>\n",
              "      <td>0.123320</td>\n",
              "      <td>0.122542</td>\n",
              "      <td>0.693578</td>\n",
              "      <td>-0.615971</td>\n",
              "      <td>-0.847865</td>\n",
              "      <td>0.185151</td>\n",
              "      <td>-0.043892</td>\n",
              "      <td>1</td>\n",
              "      <td>STANDING</td>\n",
              "    </tr>\n",
              "  </tbody>\n",
              "</table>\n",
              "<p>5 rows × 563 columns</p>\n",
              "</div>"
            ],
            "text/plain": [
              "   tBodyAcc-mean()-X  tBodyAcc-mean()-Y  ...  subject  Activity\n",
              "0           0.288585          -0.020294  ...        1  STANDING\n",
              "1           0.278419          -0.016411  ...        1  STANDING\n",
              "2           0.279653          -0.019467  ...        1  STANDING\n",
              "3           0.279174          -0.026201  ...        1  STANDING\n",
              "4           0.276629          -0.016570  ...        1  STANDING\n",
              "\n",
              "[5 rows x 563 columns]"
            ]
          },
          "metadata": {
            "tags": []
          },
          "execution_count": 9
        }
      ]
    },
    {
      "cell_type": "code",
      "metadata": {
        "id": "EXsw7ILXEQ8J",
        "colab_type": "code",
        "outputId": "b55b59d3-55c3-4c0b-a058-1b923f696094",
        "colab": {
          "base_uri": "https://localhost:8080/",
          "height": 473
        }
      },
      "source": [
        "df=df.drop('subject', 1) \n",
        "df.corr()"
      ],
      "execution_count": 0,
      "outputs": [
        {
          "output_type": "execute_result",
          "data": {
            "text/html": [
              "<div>\n",
              "<style scoped>\n",
              "    .dataframe tbody tr th:only-of-type {\n",
              "        vertical-align: middle;\n",
              "    }\n",
              "\n",
              "    .dataframe tbody tr th {\n",
              "        vertical-align: top;\n",
              "    }\n",
              "\n",
              "    .dataframe thead th {\n",
              "        text-align: right;\n",
              "    }\n",
              "</style>\n",
              "<table border=\"1\" class=\"dataframe\">\n",
              "  <thead>\n",
              "    <tr style=\"text-align: right;\">\n",
              "      <th></th>\n",
              "      <th>tBodyAcc-mean()-X</th>\n",
              "      <th>tBodyAcc-mean()-Y</th>\n",
              "      <th>tBodyAcc-mean()-Z</th>\n",
              "      <th>tBodyAcc-std()-X</th>\n",
              "      <th>tBodyAcc-std()-Y</th>\n",
              "      <th>tBodyAcc-std()-Z</th>\n",
              "      <th>tBodyAcc-mad()-X</th>\n",
              "      <th>tBodyAcc-mad()-Y</th>\n",
              "      <th>tBodyAcc-mad()-Z</th>\n",
              "      <th>tBodyAcc-max()-X</th>\n",
              "      <th>tBodyAcc-max()-Y</th>\n",
              "      <th>tBodyAcc-max()-Z</th>\n",
              "      <th>tBodyAcc-min()-X</th>\n",
              "      <th>tBodyAcc-min()-Y</th>\n",
              "      <th>tBodyAcc-min()-Z</th>\n",
              "      <th>tBodyAcc-sma()</th>\n",
              "      <th>tBodyAcc-energy()-X</th>\n",
              "      <th>tBodyAcc-energy()-Y</th>\n",
              "      <th>tBodyAcc-energy()-Z</th>\n",
              "      <th>tBodyAcc-iqr()-X</th>\n",
              "      <th>tBodyAcc-iqr()-Y</th>\n",
              "      <th>tBodyAcc-iqr()-Z</th>\n",
              "      <th>tBodyAcc-entropy()-X</th>\n",
              "      <th>tBodyAcc-entropy()-Y</th>\n",
              "      <th>tBodyAcc-entropy()-Z</th>\n",
              "      <th>tBodyAcc-arCoeff()-X,1</th>\n",
              "      <th>tBodyAcc-arCoeff()-X,2</th>\n",
              "      <th>tBodyAcc-arCoeff()-X,3</th>\n",
              "      <th>tBodyAcc-arCoeff()-X,4</th>\n",
              "      <th>tBodyAcc-arCoeff()-Y,1</th>\n",
              "      <th>tBodyAcc-arCoeff()-Y,2</th>\n",
              "      <th>tBodyAcc-arCoeff()-Y,3</th>\n",
              "      <th>tBodyAcc-arCoeff()-Y,4</th>\n",
              "      <th>tBodyAcc-arCoeff()-Z,1</th>\n",
              "      <th>tBodyAcc-arCoeff()-Z,2</th>\n",
              "      <th>tBodyAcc-arCoeff()-Z,3</th>\n",
              "      <th>tBodyAcc-arCoeff()-Z,4</th>\n",
              "      <th>tBodyAcc-correlation()-X,Y</th>\n",
              "      <th>tBodyAcc-correlation()-X,Z</th>\n",
              "      <th>tBodyAcc-correlation()-Y,Z</th>\n",
              "      <th>...</th>\n",
              "      <th>fBodyBodyAccJerkMag-energy()</th>\n",
              "      <th>fBodyBodyAccJerkMag-iqr()</th>\n",
              "      <th>fBodyBodyAccJerkMag-entropy()</th>\n",
              "      <th>fBodyBodyAccJerkMag-maxInds</th>\n",
              "      <th>fBodyBodyAccJerkMag-meanFreq()</th>\n",
              "      <th>fBodyBodyAccJerkMag-skewness()</th>\n",
              "      <th>fBodyBodyAccJerkMag-kurtosis()</th>\n",
              "      <th>fBodyBodyGyroMag-mean()</th>\n",
              "      <th>fBodyBodyGyroMag-std()</th>\n",
              "      <th>fBodyBodyGyroMag-mad()</th>\n",
              "      <th>fBodyBodyGyroMag-max()</th>\n",
              "      <th>fBodyBodyGyroMag-min()</th>\n",
              "      <th>fBodyBodyGyroMag-sma()</th>\n",
              "      <th>fBodyBodyGyroMag-energy()</th>\n",
              "      <th>fBodyBodyGyroMag-iqr()</th>\n",
              "      <th>fBodyBodyGyroMag-entropy()</th>\n",
              "      <th>fBodyBodyGyroMag-maxInds</th>\n",
              "      <th>fBodyBodyGyroMag-meanFreq()</th>\n",
              "      <th>fBodyBodyGyroMag-skewness()</th>\n",
              "      <th>fBodyBodyGyroMag-kurtosis()</th>\n",
              "      <th>fBodyBodyGyroJerkMag-mean()</th>\n",
              "      <th>fBodyBodyGyroJerkMag-std()</th>\n",
              "      <th>fBodyBodyGyroJerkMag-mad()</th>\n",
              "      <th>fBodyBodyGyroJerkMag-max()</th>\n",
              "      <th>fBodyBodyGyroJerkMag-min()</th>\n",
              "      <th>fBodyBodyGyroJerkMag-sma()</th>\n",
              "      <th>fBodyBodyGyroJerkMag-energy()</th>\n",
              "      <th>fBodyBodyGyroJerkMag-iqr()</th>\n",
              "      <th>fBodyBodyGyroJerkMag-entropy()</th>\n",
              "      <th>fBodyBodyGyroJerkMag-maxInds</th>\n",
              "      <th>fBodyBodyGyroJerkMag-meanFreq()</th>\n",
              "      <th>fBodyBodyGyroJerkMag-skewness()</th>\n",
              "      <th>fBodyBodyGyroJerkMag-kurtosis()</th>\n",
              "      <th>angle(tBodyAccMean,gravity)</th>\n",
              "      <th>angle(tBodyAccJerkMean),gravityMean)</th>\n",
              "      <th>angle(tBodyGyroMean,gravityMean)</th>\n",
              "      <th>angle(tBodyGyroJerkMean,gravityMean)</th>\n",
              "      <th>angle(X,gravityMean)</th>\n",
              "      <th>angle(Y,gravityMean)</th>\n",
              "      <th>angle(Z,gravityMean)</th>\n",
              "    </tr>\n",
              "  </thead>\n",
              "  <tbody>\n",
              "    <tr>\n",
              "      <th>tBodyAcc-mean()-X</th>\n",
              "      <td>1.000000</td>\n",
              "      <td>0.148061</td>\n",
              "      <td>-0.256952</td>\n",
              "      <td>0.000619</td>\n",
              "      <td>-0.021903</td>\n",
              "      <td>-0.044617</td>\n",
              "      <td>0.006290</td>\n",
              "      <td>-0.022754</td>\n",
              "      <td>-0.047558</td>\n",
              "      <td>0.044062</td>\n",
              "      <td>-0.007875</td>\n",
              "      <td>-0.075881</td>\n",
              "      <td>0.078354</td>\n",
              "      <td>0.021214</td>\n",
              "      <td>-0.003283</td>\n",
              "      <td>-0.029204</td>\n",
              "      <td>0.016582</td>\n",
              "      <td>-0.040811</td>\n",
              "      <td>-0.085116</td>\n",
              "      <td>0.020762</td>\n",
              "      <td>-0.024179</td>\n",
              "      <td>-0.054570</td>\n",
              "      <td>0.148508</td>\n",
              "      <td>0.006747</td>\n",
              "      <td>-0.084416</td>\n",
              "      <td>0.019447</td>\n",
              "      <td>0.012241</td>\n",
              "      <td>-0.041704</td>\n",
              "      <td>0.049486</td>\n",
              "      <td>0.023920</td>\n",
              "      <td>0.011185</td>\n",
              "      <td>-0.045147</td>\n",
              "      <td>0.056905</td>\n",
              "      <td>0.036627</td>\n",
              "      <td>0.008888</td>\n",
              "      <td>-0.019158</td>\n",
              "      <td>0.001150</td>\n",
              "      <td>0.027287</td>\n",
              "      <td>0.089583</td>\n",
              "      <td>-0.010590</td>\n",
              "      <td>...</td>\n",
              "      <td>0.032546</td>\n",
              "      <td>0.020264</td>\n",
              "      <td>-0.007249</td>\n",
              "      <td>0.017466</td>\n",
              "      <td>0.055514</td>\n",
              "      <td>-0.032586</td>\n",
              "      <td>-0.027283</td>\n",
              "      <td>-0.005990</td>\n",
              "      <td>-0.025629</td>\n",
              "      <td>-0.021627</td>\n",
              "      <td>-0.028736</td>\n",
              "      <td>0.002004</td>\n",
              "      <td>-0.005990</td>\n",
              "      <td>-0.012038</td>\n",
              "      <td>-0.003913</td>\n",
              "      <td>-0.017451</td>\n",
              "      <td>0.034239</td>\n",
              "      <td>0.050053</td>\n",
              "      <td>-0.017158</td>\n",
              "      <td>-0.012325</td>\n",
              "      <td>0.008362</td>\n",
              "      <td>0.006094</td>\n",
              "      <td>0.006916</td>\n",
              "      <td>0.006751</td>\n",
              "      <td>0.007878</td>\n",
              "      <td>0.008362</td>\n",
              "      <td>0.017109</td>\n",
              "      <td>0.011356</td>\n",
              "      <td>-0.015953</td>\n",
              "      <td>0.008751</td>\n",
              "      <td>0.030681</td>\n",
              "      <td>-0.017557</td>\n",
              "      <td>-0.015613</td>\n",
              "      <td>-0.544320</td>\n",
              "      <td>0.012173</td>\n",
              "      <td>0.037444</td>\n",
              "      <td>0.028844</td>\n",
              "      <td>-0.035257</td>\n",
              "      <td>0.034371</td>\n",
              "      <td>0.028242</td>\n",
              "    </tr>\n",
              "    <tr>\n",
              "      <th>tBodyAcc-mean()-Y</th>\n",
              "      <td>0.148061</td>\n",
              "      <td>1.000000</td>\n",
              "      <td>-0.078769</td>\n",
              "      <td>-0.045160</td>\n",
              "      <td>-0.044920</td>\n",
              "      <td>-0.049746</td>\n",
              "      <td>-0.044180</td>\n",
              "      <td>-0.045049</td>\n",
              "      <td>-0.050402</td>\n",
              "      <td>-0.038108</td>\n",
              "      <td>0.090189</td>\n",
              "      <td>-0.057029</td>\n",
              "      <td>0.058568</td>\n",
              "      <td>0.132042</td>\n",
              "      <td>0.037539</td>\n",
              "      <td>-0.046390</td>\n",
              "      <td>-0.030475</td>\n",
              "      <td>-0.061759</td>\n",
              "      <td>-0.061180</td>\n",
              "      <td>-0.043231</td>\n",
              "      <td>-0.046717</td>\n",
              "      <td>-0.054820</td>\n",
              "      <td>-0.003331</td>\n",
              "      <td>0.195152</td>\n",
              "      <td>-0.023682</td>\n",
              "      <td>0.033899</td>\n",
              "      <td>-0.043617</td>\n",
              "      <td>0.041133</td>\n",
              "      <td>-0.039958</td>\n",
              "      <td>0.021360</td>\n",
              "      <td>-0.028782</td>\n",
              "      <td>0.018448</td>\n",
              "      <td>-0.005915</td>\n",
              "      <td>0.019412</td>\n",
              "      <td>-0.020604</td>\n",
              "      <td>0.023630</td>\n",
              "      <td>-0.024073</td>\n",
              "      <td>-0.002270</td>\n",
              "      <td>0.009803</td>\n",
              "      <td>0.047280</td>\n",
              "      <td>...</td>\n",
              "      <td>-0.031961</td>\n",
              "      <td>-0.045111</td>\n",
              "      <td>-0.048655</td>\n",
              "      <td>-0.000976</td>\n",
              "      <td>-0.012220</td>\n",
              "      <td>-0.004139</td>\n",
              "      <td>-0.004726</td>\n",
              "      <td>-0.047916</td>\n",
              "      <td>-0.055582</td>\n",
              "      <td>-0.056716</td>\n",
              "      <td>-0.053106</td>\n",
              "      <td>-0.015493</td>\n",
              "      <td>-0.047916</td>\n",
              "      <td>-0.046806</td>\n",
              "      <td>-0.052700</td>\n",
              "      <td>-0.042685</td>\n",
              "      <td>0.002729</td>\n",
              "      <td>0.004438</td>\n",
              "      <td>0.001864</td>\n",
              "      <td>0.000621</td>\n",
              "      <td>-0.034307</td>\n",
              "      <td>-0.032599</td>\n",
              "      <td>-0.033867</td>\n",
              "      <td>-0.030778</td>\n",
              "      <td>-0.030126</td>\n",
              "      <td>-0.034307</td>\n",
              "      <td>-0.018531</td>\n",
              "      <td>-0.037269</td>\n",
              "      <td>-0.040870</td>\n",
              "      <td>-0.008536</td>\n",
              "      <td>-0.022395</td>\n",
              "      <td>-0.001587</td>\n",
              "      <td>-0.004459</td>\n",
              "      <td>0.070559</td>\n",
              "      <td>-0.013541</td>\n",
              "      <td>0.017967</td>\n",
              "      <td>0.075679</td>\n",
              "      <td>-0.005309</td>\n",
              "      <td>0.001053</td>\n",
              "      <td>-0.013903</td>\n",
              "    </tr>\n",
              "    <tr>\n",
              "      <th>tBodyAcc-mean()-Z</th>\n",
              "      <td>-0.256952</td>\n",
              "      <td>-0.078769</td>\n",
              "      <td>1.000000</td>\n",
              "      <td>-0.020217</td>\n",
              "      <td>-0.016641</td>\n",
              "      <td>-0.008410</td>\n",
              "      <td>-0.018747</td>\n",
              "      <td>-0.015203</td>\n",
              "      <td>-0.001988</td>\n",
              "      <td>-0.037197</td>\n",
              "      <td>-0.027803</td>\n",
              "      <td>0.110455</td>\n",
              "      <td>0.006544</td>\n",
              "      <td>0.013678</td>\n",
              "      <td>0.119078</td>\n",
              "      <td>-0.008180</td>\n",
              "      <td>-0.012748</td>\n",
              "      <td>-0.000758</td>\n",
              "      <td>0.024404</td>\n",
              "      <td>-0.016711</td>\n",
              "      <td>-0.014024</td>\n",
              "      <td>0.011974</td>\n",
              "      <td>-0.088150</td>\n",
              "      <td>-0.006791</td>\n",
              "      <td>0.293465</td>\n",
              "      <td>0.007290</td>\n",
              "      <td>-0.005728</td>\n",
              "      <td>-0.002225</td>\n",
              "      <td>-0.004501</td>\n",
              "      <td>0.008761</td>\n",
              "      <td>-0.018650</td>\n",
              "      <td>0.014740</td>\n",
              "      <td>0.002206</td>\n",
              "      <td>0.013838</td>\n",
              "      <td>-0.021596</td>\n",
              "      <td>0.012926</td>\n",
              "      <td>0.000378</td>\n",
              "      <td>0.018856</td>\n",
              "      <td>-0.021641</td>\n",
              "      <td>0.024154</td>\n",
              "      <td>...</td>\n",
              "      <td>-0.019560</td>\n",
              "      <td>-0.029434</td>\n",
              "      <td>-0.024013</td>\n",
              "      <td>-0.017871</td>\n",
              "      <td>-0.027895</td>\n",
              "      <td>0.031832</td>\n",
              "      <td>0.029326</td>\n",
              "      <td>-0.037371</td>\n",
              "      <td>-0.047118</td>\n",
              "      <td>-0.041880</td>\n",
              "      <td>-0.051980</td>\n",
              "      <td>-0.019347</td>\n",
              "      <td>-0.037371</td>\n",
              "      <td>-0.055971</td>\n",
              "      <td>-0.034111</td>\n",
              "      <td>-0.022350</td>\n",
              "      <td>0.017991</td>\n",
              "      <td>0.005830</td>\n",
              "      <td>-0.019986</td>\n",
              "      <td>-0.022204</td>\n",
              "      <td>-0.028841</td>\n",
              "      <td>-0.024438</td>\n",
              "      <td>-0.026039</td>\n",
              "      <td>-0.021565</td>\n",
              "      <td>-0.013753</td>\n",
              "      <td>-0.028841</td>\n",
              "      <td>-0.022744</td>\n",
              "      <td>-0.027220</td>\n",
              "      <td>-0.024494</td>\n",
              "      <td>-0.005461</td>\n",
              "      <td>-0.020481</td>\n",
              "      <td>0.020091</td>\n",
              "      <td>0.019127</td>\n",
              "      <td>0.052841</td>\n",
              "      <td>-0.039836</td>\n",
              "      <td>-0.063609</td>\n",
              "      <td>-0.034037</td>\n",
              "      <td>0.008587</td>\n",
              "      <td>-0.015288</td>\n",
              "      <td>-0.022643</td>\n",
              "    </tr>\n",
              "    <tr>\n",
              "      <th>tBodyAcc-std()-X</th>\n",
              "      <td>0.000619</td>\n",
              "      <td>-0.045160</td>\n",
              "      <td>-0.020217</td>\n",
              "      <td>1.000000</td>\n",
              "      <td>0.927461</td>\n",
              "      <td>0.851668</td>\n",
              "      <td>0.998632</td>\n",
              "      <td>0.920888</td>\n",
              "      <td>0.846392</td>\n",
              "      <td>0.980844</td>\n",
              "      <td>0.895217</td>\n",
              "      <td>0.844993</td>\n",
              "      <td>-0.966500</td>\n",
              "      <td>-0.904539</td>\n",
              "      <td>-0.828170</td>\n",
              "      <td>0.973155</td>\n",
              "      <td>0.948324</td>\n",
              "      <td>0.828584</td>\n",
              "      <td>0.685223</td>\n",
              "      <td>0.981220</td>\n",
              "      <td>0.892791</td>\n",
              "      <td>0.824057</td>\n",
              "      <td>0.789943</td>\n",
              "      <td>0.824226</td>\n",
              "      <td>0.771745</td>\n",
              "      <td>-0.691916</td>\n",
              "      <td>0.539342</td>\n",
              "      <td>-0.351496</td>\n",
              "      <td>0.326309</td>\n",
              "      <td>-0.526660</td>\n",
              "      <td>0.522488</td>\n",
              "      <td>-0.163848</td>\n",
              "      <td>0.009696</td>\n",
              "      <td>-0.484364</td>\n",
              "      <td>0.508785</td>\n",
              "      <td>-0.242196</td>\n",
              "      <td>0.141817</td>\n",
              "      <td>-0.423444</td>\n",
              "      <td>-0.037242</td>\n",
              "      <td>0.140811</td>\n",
              "      <td>...</td>\n",
              "      <td>0.868377</td>\n",
              "      <td>0.947366</td>\n",
              "      <td>0.949729</td>\n",
              "      <td>-0.034578</td>\n",
              "      <td>-0.414593</td>\n",
              "      <td>0.464117</td>\n",
              "      <td>0.419951</td>\n",
              "      <td>0.880551</td>\n",
              "      <td>0.838934</td>\n",
              "      <td>0.865370</td>\n",
              "      <td>0.792071</td>\n",
              "      <td>0.583319</td>\n",
              "      <td>0.880551</td>\n",
              "      <td>0.715234</td>\n",
              "      <td>0.857843</td>\n",
              "      <td>0.889188</td>\n",
              "      <td>0.326934</td>\n",
              "      <td>0.208269</td>\n",
              "      <td>-0.246488</td>\n",
              "      <td>-0.244528</td>\n",
              "      <td>0.832774</td>\n",
              "      <td>0.788650</td>\n",
              "      <td>0.806262</td>\n",
              "      <td>0.760560</td>\n",
              "      <td>0.692226</td>\n",
              "      <td>0.832774</td>\n",
              "      <td>0.556664</td>\n",
              "      <td>0.819759</td>\n",
              "      <td>0.907663</td>\n",
              "      <td>0.110503</td>\n",
              "      <td>-0.065987</td>\n",
              "      <td>0.148034</td>\n",
              "      <td>0.115565</td>\n",
              "      <td>-0.035011</td>\n",
              "      <td>-0.021633</td>\n",
              "      <td>0.018985</td>\n",
              "      <td>-0.024810</td>\n",
              "      <td>-0.371653</td>\n",
              "      <td>0.471065</td>\n",
              "      <td>0.394825</td>\n",
              "    </tr>\n",
              "    <tr>\n",
              "      <th>tBodyAcc-std()-Y</th>\n",
              "      <td>-0.021903</td>\n",
              "      <td>-0.044920</td>\n",
              "      <td>-0.016641</td>\n",
              "      <td>0.927461</td>\n",
              "      <td>1.000000</td>\n",
              "      <td>0.895510</td>\n",
              "      <td>0.922803</td>\n",
              "      <td>0.997347</td>\n",
              "      <td>0.894509</td>\n",
              "      <td>0.917366</td>\n",
              "      <td>0.953573</td>\n",
              "      <td>0.884490</td>\n",
              "      <td>-0.937918</td>\n",
              "      <td>-0.957736</td>\n",
              "      <td>-0.838818</td>\n",
              "      <td>0.971500</td>\n",
              "      <td>0.806380</td>\n",
              "      <td>0.922659</td>\n",
              "      <td>0.737765</td>\n",
              "      <td>0.905882</td>\n",
              "      <td>0.973206</td>\n",
              "      <td>0.880695</td>\n",
              "      <td>0.845322</td>\n",
              "      <td>0.878742</td>\n",
              "      <td>0.803019</td>\n",
              "      <td>-0.725729</td>\n",
              "      <td>0.586190</td>\n",
              "      <td>-0.351732</td>\n",
              "      <td>0.262917</td>\n",
              "      <td>-0.604030</td>\n",
              "      <td>0.561637</td>\n",
              "      <td>-0.160481</td>\n",
              "      <td>-0.015655</td>\n",
              "      <td>-0.559075</td>\n",
              "      <td>0.544627</td>\n",
              "      <td>-0.253644</td>\n",
              "      <td>0.133924</td>\n",
              "      <td>-0.388141</td>\n",
              "      <td>-0.044250</td>\n",
              "      <td>0.168176</td>\n",
              "      <td>...</td>\n",
              "      <td>0.817908</td>\n",
              "      <td>0.921093</td>\n",
              "      <td>0.959826</td>\n",
              "      <td>-0.055054</td>\n",
              "      <td>-0.445356</td>\n",
              "      <td>0.500828</td>\n",
              "      <td>0.453496</td>\n",
              "      <td>0.913172</td>\n",
              "      <td>0.886289</td>\n",
              "      <td>0.910737</td>\n",
              "      <td>0.843624</td>\n",
              "      <td>0.591406</td>\n",
              "      <td>0.913172</td>\n",
              "      <td>0.753055</td>\n",
              "      <td>0.900684</td>\n",
              "      <td>0.930074</td>\n",
              "      <td>0.349507</td>\n",
              "      <td>0.173938</td>\n",
              "      <td>-0.222345</td>\n",
              "      <td>-0.223777</td>\n",
              "      <td>0.848042</td>\n",
              "      <td>0.810266</td>\n",
              "      <td>0.824312</td>\n",
              "      <td>0.789438</td>\n",
              "      <td>0.695171</td>\n",
              "      <td>0.848042</td>\n",
              "      <td>0.561602</td>\n",
              "      <td>0.839970</td>\n",
              "      <td>0.941676</td>\n",
              "      <td>0.085848</td>\n",
              "      <td>-0.105621</td>\n",
              "      <td>0.206227</td>\n",
              "      <td>0.176946</td>\n",
              "      <td>-0.020379</td>\n",
              "      <td>-0.012505</td>\n",
              "      <td>-0.008507</td>\n",
              "      <td>-0.014592</td>\n",
              "      <td>-0.380531</td>\n",
              "      <td>0.523600</td>\n",
              "      <td>0.433169</td>\n",
              "    </tr>\n",
              "    <tr>\n",
              "      <th>...</th>\n",
              "      <td>...</td>\n",
              "      <td>...</td>\n",
              "      <td>...</td>\n",
              "      <td>...</td>\n",
              "      <td>...</td>\n",
              "      <td>...</td>\n",
              "      <td>...</td>\n",
              "      <td>...</td>\n",
              "      <td>...</td>\n",
              "      <td>...</td>\n",
              "      <td>...</td>\n",
              "      <td>...</td>\n",
              "      <td>...</td>\n",
              "      <td>...</td>\n",
              "      <td>...</td>\n",
              "      <td>...</td>\n",
              "      <td>...</td>\n",
              "      <td>...</td>\n",
              "      <td>...</td>\n",
              "      <td>...</td>\n",
              "      <td>...</td>\n",
              "      <td>...</td>\n",
              "      <td>...</td>\n",
              "      <td>...</td>\n",
              "      <td>...</td>\n",
              "      <td>...</td>\n",
              "      <td>...</td>\n",
              "      <td>...</td>\n",
              "      <td>...</td>\n",
              "      <td>...</td>\n",
              "      <td>...</td>\n",
              "      <td>...</td>\n",
              "      <td>...</td>\n",
              "      <td>...</td>\n",
              "      <td>...</td>\n",
              "      <td>...</td>\n",
              "      <td>...</td>\n",
              "      <td>...</td>\n",
              "      <td>...</td>\n",
              "      <td>...</td>\n",
              "      <td>...</td>\n",
              "      <td>...</td>\n",
              "      <td>...</td>\n",
              "      <td>...</td>\n",
              "      <td>...</td>\n",
              "      <td>...</td>\n",
              "      <td>...</td>\n",
              "      <td>...</td>\n",
              "      <td>...</td>\n",
              "      <td>...</td>\n",
              "      <td>...</td>\n",
              "      <td>...</td>\n",
              "      <td>...</td>\n",
              "      <td>...</td>\n",
              "      <td>...</td>\n",
              "      <td>...</td>\n",
              "      <td>...</td>\n",
              "      <td>...</td>\n",
              "      <td>...</td>\n",
              "      <td>...</td>\n",
              "      <td>...</td>\n",
              "      <td>...</td>\n",
              "      <td>...</td>\n",
              "      <td>...</td>\n",
              "      <td>...</td>\n",
              "      <td>...</td>\n",
              "      <td>...</td>\n",
              "      <td>...</td>\n",
              "      <td>...</td>\n",
              "      <td>...</td>\n",
              "      <td>...</td>\n",
              "      <td>...</td>\n",
              "      <td>...</td>\n",
              "      <td>...</td>\n",
              "      <td>...</td>\n",
              "      <td>...</td>\n",
              "      <td>...</td>\n",
              "      <td>...</td>\n",
              "      <td>...</td>\n",
              "      <td>...</td>\n",
              "      <td>...</td>\n",
              "    </tr>\n",
              "    <tr>\n",
              "      <th>angle(tBodyGyroMean,gravityMean)</th>\n",
              "      <td>0.037444</td>\n",
              "      <td>0.017967</td>\n",
              "      <td>-0.063609</td>\n",
              "      <td>0.018985</td>\n",
              "      <td>-0.008507</td>\n",
              "      <td>-0.018429</td>\n",
              "      <td>0.019389</td>\n",
              "      <td>-0.012546</td>\n",
              "      <td>-0.023525</td>\n",
              "      <td>0.025066</td>\n",
              "      <td>-0.007806</td>\n",
              "      <td>-0.028210</td>\n",
              "      <td>-0.002334</td>\n",
              "      <td>-0.010098</td>\n",
              "      <td>-0.022894</td>\n",
              "      <td>-0.001252</td>\n",
              "      <td>0.038898</td>\n",
              "      <td>-0.010330</td>\n",
              "      <td>-0.023726</td>\n",
              "      <td>0.015409</td>\n",
              "      <td>-0.019400</td>\n",
              "      <td>-0.028276</td>\n",
              "      <td>-0.020965</td>\n",
              "      <td>0.006699</td>\n",
              "      <td>-0.020580</td>\n",
              "      <td>0.013850</td>\n",
              "      <td>-0.017072</td>\n",
              "      <td>0.010346</td>\n",
              "      <td>0.000182</td>\n",
              "      <td>0.023494</td>\n",
              "      <td>-0.017503</td>\n",
              "      <td>0.035559</td>\n",
              "      <td>-0.027351</td>\n",
              "      <td>0.022856</td>\n",
              "      <td>0.003323</td>\n",
              "      <td>0.009751</td>\n",
              "      <td>-0.015777</td>\n",
              "      <td>-0.030672</td>\n",
              "      <td>-0.025180</td>\n",
              "      <td>0.019807</td>\n",
              "      <td>...</td>\n",
              "      <td>0.059854</td>\n",
              "      <td>0.028638</td>\n",
              "      <td>0.007946</td>\n",
              "      <td>-0.001116</td>\n",
              "      <td>-0.019287</td>\n",
              "      <td>0.034786</td>\n",
              "      <td>0.033223</td>\n",
              "      <td>0.014801</td>\n",
              "      <td>-0.001998</td>\n",
              "      <td>-0.001745</td>\n",
              "      <td>0.008449</td>\n",
              "      <td>0.033373</td>\n",
              "      <td>0.014801</td>\n",
              "      <td>0.014147</td>\n",
              "      <td>0.006455</td>\n",
              "      <td>0.002584</td>\n",
              "      <td>-0.029205</td>\n",
              "      <td>0.029915</td>\n",
              "      <td>0.020762</td>\n",
              "      <td>0.027187</td>\n",
              "      <td>0.032075</td>\n",
              "      <td>0.039071</td>\n",
              "      <td>0.035937</td>\n",
              "      <td>0.039419</td>\n",
              "      <td>0.019790</td>\n",
              "      <td>0.032075</td>\n",
              "      <td>0.051252</td>\n",
              "      <td>0.024179</td>\n",
              "      <td>0.006060</td>\n",
              "      <td>-0.010464</td>\n",
              "      <td>-0.026615</td>\n",
              "      <td>0.034514</td>\n",
              "      <td>0.024553</td>\n",
              "      <td>-0.006269</td>\n",
              "      <td>0.009141</td>\n",
              "      <td>1.000000</td>\n",
              "      <td>-0.116001</td>\n",
              "      <td>-0.005853</td>\n",
              "      <td>-0.012313</td>\n",
              "      <td>-0.019903</td>\n",
              "    </tr>\n",
              "    <tr>\n",
              "      <th>angle(tBodyGyroJerkMean,gravityMean)</th>\n",
              "      <td>0.028844</td>\n",
              "      <td>0.075679</td>\n",
              "      <td>-0.034037</td>\n",
              "      <td>-0.024810</td>\n",
              "      <td>-0.014592</td>\n",
              "      <td>-0.006471</td>\n",
              "      <td>-0.024951</td>\n",
              "      <td>-0.012341</td>\n",
              "      <td>-0.007231</td>\n",
              "      <td>-0.028871</td>\n",
              "      <td>-0.000297</td>\n",
              "      <td>-0.001207</td>\n",
              "      <td>0.017876</td>\n",
              "      <td>0.030691</td>\n",
              "      <td>0.023655</td>\n",
              "      <td>-0.017063</td>\n",
              "      <td>-0.035055</td>\n",
              "      <td>-0.018273</td>\n",
              "      <td>-0.004978</td>\n",
              "      <td>-0.023794</td>\n",
              "      <td>-0.007427</td>\n",
              "      <td>-0.014460</td>\n",
              "      <td>0.008744</td>\n",
              "      <td>-0.002266</td>\n",
              "      <td>-0.017999</td>\n",
              "      <td>-0.005259</td>\n",
              "      <td>-0.000868</td>\n",
              "      <td>0.004592</td>\n",
              "      <td>-0.006466</td>\n",
              "      <td>-0.008647</td>\n",
              "      <td>-0.002187</td>\n",
              "      <td>-0.012092</td>\n",
              "      <td>0.009457</td>\n",
              "      <td>-0.013675</td>\n",
              "      <td>-0.001949</td>\n",
              "      <td>0.001447</td>\n",
              "      <td>-0.004644</td>\n",
              "      <td>0.030833</td>\n",
              "      <td>-0.007318</td>\n",
              "      <td>-0.019709</td>\n",
              "      <td>...</td>\n",
              "      <td>-0.052699</td>\n",
              "      <td>-0.035154</td>\n",
              "      <td>-0.018435</td>\n",
              "      <td>0.006180</td>\n",
              "      <td>-0.011084</td>\n",
              "      <td>-0.004767</td>\n",
              "      <td>-0.004687</td>\n",
              "      <td>-0.020783</td>\n",
              "      <td>-0.009318</td>\n",
              "      <td>-0.011400</td>\n",
              "      <td>-0.008895</td>\n",
              "      <td>-0.017281</td>\n",
              "      <td>-0.020783</td>\n",
              "      <td>-0.014116</td>\n",
              "      <td>-0.018858</td>\n",
              "      <td>-0.010280</td>\n",
              "      <td>-0.013065</td>\n",
              "      <td>-0.030216</td>\n",
              "      <td>0.009041</td>\n",
              "      <td>0.006010</td>\n",
              "      <td>-0.032498</td>\n",
              "      <td>-0.037467</td>\n",
              "      <td>-0.035165</td>\n",
              "      <td>-0.037756</td>\n",
              "      <td>-0.027902</td>\n",
              "      <td>-0.032498</td>\n",
              "      <td>-0.040234</td>\n",
              "      <td>-0.032039</td>\n",
              "      <td>-0.013140</td>\n",
              "      <td>-0.001908</td>\n",
              "      <td>0.000102</td>\n",
              "      <td>-0.017937</td>\n",
              "      <td>-0.014865</td>\n",
              "      <td>-0.020823</td>\n",
              "      <td>0.035263</td>\n",
              "      <td>-0.116001</td>\n",
              "      <td>1.000000</td>\n",
              "      <td>0.023995</td>\n",
              "      <td>-0.005869</td>\n",
              "      <td>-0.005656</td>\n",
              "    </tr>\n",
              "    <tr>\n",
              "      <th>angle(X,gravityMean)</th>\n",
              "      <td>-0.035257</td>\n",
              "      <td>-0.005309</td>\n",
              "      <td>0.008587</td>\n",
              "      <td>-0.371653</td>\n",
              "      <td>-0.380531</td>\n",
              "      <td>-0.345011</td>\n",
              "      <td>-0.368191</td>\n",
              "      <td>-0.377025</td>\n",
              "      <td>-0.347389</td>\n",
              "      <td>-0.384192</td>\n",
              "      <td>-0.372172</td>\n",
              "      <td>-0.346824</td>\n",
              "      <td>0.362847</td>\n",
              "      <td>0.367873</td>\n",
              "      <td>0.322009</td>\n",
              "      <td>-0.369237</td>\n",
              "      <td>-0.328143</td>\n",
              "      <td>-0.278821</td>\n",
              "      <td>-0.231070</td>\n",
              "      <td>-0.356899</td>\n",
              "      <td>-0.362021</td>\n",
              "      <td>-0.348926</td>\n",
              "      <td>-0.219338</td>\n",
              "      <td>-0.412082</td>\n",
              "      <td>-0.363931</td>\n",
              "      <td>0.127210</td>\n",
              "      <td>-0.198142</td>\n",
              "      <td>0.054136</td>\n",
              "      <td>-0.133529</td>\n",
              "      <td>0.365153</td>\n",
              "      <td>-0.289951</td>\n",
              "      <td>0.080497</td>\n",
              "      <td>0.071563</td>\n",
              "      <td>0.323757</td>\n",
              "      <td>-0.263040</td>\n",
              "      <td>0.123688</td>\n",
              "      <td>0.018548</td>\n",
              "      <td>0.275024</td>\n",
              "      <td>-0.131069</td>\n",
              "      <td>-0.458656</td>\n",
              "      <td>...</td>\n",
              "      <td>-0.329191</td>\n",
              "      <td>-0.379536</td>\n",
              "      <td>-0.403192</td>\n",
              "      <td>0.039071</td>\n",
              "      <td>0.208887</td>\n",
              "      <td>-0.222708</td>\n",
              "      <td>-0.200018</td>\n",
              "      <td>-0.355797</td>\n",
              "      <td>-0.342845</td>\n",
              "      <td>-0.352777</td>\n",
              "      <td>-0.324772</td>\n",
              "      <td>-0.219413</td>\n",
              "      <td>-0.355797</td>\n",
              "      <td>-0.271573</td>\n",
              "      <td>-0.349244</td>\n",
              "      <td>-0.382903</td>\n",
              "      <td>-0.163026</td>\n",
              "      <td>-0.003285</td>\n",
              "      <td>0.149721</td>\n",
              "      <td>0.169906</td>\n",
              "      <td>-0.337874</td>\n",
              "      <td>-0.333759</td>\n",
              "      <td>-0.334863</td>\n",
              "      <td>-0.329147</td>\n",
              "      <td>-0.275944</td>\n",
              "      <td>-0.337874</td>\n",
              "      <td>-0.221466</td>\n",
              "      <td>-0.333914</td>\n",
              "      <td>-0.381654</td>\n",
              "      <td>-0.022140</td>\n",
              "      <td>0.087332</td>\n",
              "      <td>-0.086006</td>\n",
              "      <td>-0.079751</td>\n",
              "      <td>0.011880</td>\n",
              "      <td>0.023246</td>\n",
              "      <td>-0.005853</td>\n",
              "      <td>0.023995</td>\n",
              "      <td>1.000000</td>\n",
              "      <td>-0.783848</td>\n",
              "      <td>-0.643655</td>\n",
              "    </tr>\n",
              "    <tr>\n",
              "      <th>angle(Y,gravityMean)</th>\n",
              "      <td>0.034371</td>\n",
              "      <td>0.001053</td>\n",
              "      <td>-0.015288</td>\n",
              "      <td>0.471065</td>\n",
              "      <td>0.523600</td>\n",
              "      <td>0.476006</td>\n",
              "      <td>0.466424</td>\n",
              "      <td>0.525081</td>\n",
              "      <td>0.477607</td>\n",
              "      <td>0.480229</td>\n",
              "      <td>0.490324</td>\n",
              "      <td>0.463763</td>\n",
              "      <td>-0.470812</td>\n",
              "      <td>-0.495516</td>\n",
              "      <td>-0.435264</td>\n",
              "      <td>0.497465</td>\n",
              "      <td>0.387451</td>\n",
              "      <td>0.441348</td>\n",
              "      <td>0.354304</td>\n",
              "      <td>0.453287</td>\n",
              "      <td>0.517324</td>\n",
              "      <td>0.475045</td>\n",
              "      <td>0.399623</td>\n",
              "      <td>0.536131</td>\n",
              "      <td>0.459355</td>\n",
              "      <td>-0.291999</td>\n",
              "      <td>0.290587</td>\n",
              "      <td>-0.120631</td>\n",
              "      <td>0.143715</td>\n",
              "      <td>-0.475463</td>\n",
              "      <td>0.342517</td>\n",
              "      <td>-0.124423</td>\n",
              "      <td>-0.062772</td>\n",
              "      <td>-0.397855</td>\n",
              "      <td>0.328067</td>\n",
              "      <td>-0.150986</td>\n",
              "      <td>0.029011</td>\n",
              "      <td>-0.195337</td>\n",
              "      <td>0.072698</td>\n",
              "      <td>0.412221</td>\n",
              "      <td>...</td>\n",
              "      <td>0.389966</td>\n",
              "      <td>0.473054</td>\n",
              "      <td>0.512019</td>\n",
              "      <td>-0.035444</td>\n",
              "      <td>-0.223401</td>\n",
              "      <td>0.258282</td>\n",
              "      <td>0.238492</td>\n",
              "      <td>0.470841</td>\n",
              "      <td>0.471336</td>\n",
              "      <td>0.482295</td>\n",
              "      <td>0.448417</td>\n",
              "      <td>0.282196</td>\n",
              "      <td>0.470841</td>\n",
              "      <td>0.376770</td>\n",
              "      <td>0.466535</td>\n",
              "      <td>0.511678</td>\n",
              "      <td>0.179644</td>\n",
              "      <td>-0.036850</td>\n",
              "      <td>-0.142488</td>\n",
              "      <td>-0.172624</td>\n",
              "      <td>0.424918</td>\n",
              "      <td>0.405123</td>\n",
              "      <td>0.412795</td>\n",
              "      <td>0.395197</td>\n",
              "      <td>0.348492</td>\n",
              "      <td>0.424918</td>\n",
              "      <td>0.256398</td>\n",
              "      <td>0.423054</td>\n",
              "      <td>0.501864</td>\n",
              "      <td>0.031612</td>\n",
              "      <td>-0.100125</td>\n",
              "      <td>0.086993</td>\n",
              "      <td>0.078079</td>\n",
              "      <td>0.001540</td>\n",
              "      <td>-0.012990</td>\n",
              "      <td>-0.012313</td>\n",
              "      <td>-0.005869</td>\n",
              "      <td>-0.783848</td>\n",
              "      <td>1.000000</td>\n",
              "      <td>0.594885</td>\n",
              "    </tr>\n",
              "    <tr>\n",
              "      <th>angle(Z,gravityMean)</th>\n",
              "      <td>0.028242</td>\n",
              "      <td>-0.013903</td>\n",
              "      <td>-0.022643</td>\n",
              "      <td>0.394825</td>\n",
              "      <td>0.433169</td>\n",
              "      <td>0.482828</td>\n",
              "      <td>0.390922</td>\n",
              "      <td>0.431459</td>\n",
              "      <td>0.479751</td>\n",
              "      <td>0.405023</td>\n",
              "      <td>0.427291</td>\n",
              "      <td>0.419728</td>\n",
              "      <td>-0.393206</td>\n",
              "      <td>-0.412024</td>\n",
              "      <td>-0.477637</td>\n",
              "      <td>0.431265</td>\n",
              "      <td>0.323065</td>\n",
              "      <td>0.344350</td>\n",
              "      <td>0.429705</td>\n",
              "      <td>0.380316</td>\n",
              "      <td>0.421035</td>\n",
              "      <td>0.462577</td>\n",
              "      <td>0.288006</td>\n",
              "      <td>0.416276</td>\n",
              "      <td>0.428746</td>\n",
              "      <td>-0.198829</td>\n",
              "      <td>0.224827</td>\n",
              "      <td>-0.082230</td>\n",
              "      <td>0.141427</td>\n",
              "      <td>-0.331567</td>\n",
              "      <td>0.301344</td>\n",
              "      <td>-0.091899</td>\n",
              "      <td>-0.049920</td>\n",
              "      <td>-0.376571</td>\n",
              "      <td>0.307019</td>\n",
              "      <td>-0.157899</td>\n",
              "      <td>0.093174</td>\n",
              "      <td>-0.238017</td>\n",
              "      <td>0.181627</td>\n",
              "      <td>0.402938</td>\n",
              "      <td>...</td>\n",
              "      <td>0.349333</td>\n",
              "      <td>0.416102</td>\n",
              "      <td>0.445266</td>\n",
              "      <td>-0.043084</td>\n",
              "      <td>-0.197197</td>\n",
              "      <td>0.228114</td>\n",
              "      <td>0.204617</td>\n",
              "      <td>0.424220</td>\n",
              "      <td>0.407602</td>\n",
              "      <td>0.420372</td>\n",
              "      <td>0.389785</td>\n",
              "      <td>0.276441</td>\n",
              "      <td>0.424220</td>\n",
              "      <td>0.347327</td>\n",
              "      <td>0.415610</td>\n",
              "      <td>0.437761</td>\n",
              "      <td>0.169496</td>\n",
              "      <td>0.051765</td>\n",
              "      <td>-0.183925</td>\n",
              "      <td>-0.199710</td>\n",
              "      <td>0.404965</td>\n",
              "      <td>0.381481</td>\n",
              "      <td>0.391401</td>\n",
              "      <td>0.367856</td>\n",
              "      <td>0.330625</td>\n",
              "      <td>0.404965</td>\n",
              "      <td>0.265572</td>\n",
              "      <td>0.400885</td>\n",
              "      <td>0.449402</td>\n",
              "      <td>0.021004</td>\n",
              "      <td>-0.057468</td>\n",
              "      <td>0.057831</td>\n",
              "      <td>0.052548</td>\n",
              "      <td>-0.003069</td>\n",
              "      <td>-0.017520</td>\n",
              "      <td>-0.019903</td>\n",
              "      <td>-0.005656</td>\n",
              "      <td>-0.643655</td>\n",
              "      <td>0.594885</td>\n",
              "      <td>1.000000</td>\n",
              "    </tr>\n",
              "  </tbody>\n",
              "</table>\n",
              "<p>561 rows × 561 columns</p>\n",
              "</div>"
            ],
            "text/plain": [
              "                                      tBodyAcc-mean()-X  ...  angle(Z,gravityMean)\n",
              "tBodyAcc-mean()-X                              1.000000  ...              0.028242\n",
              "tBodyAcc-mean()-Y                              0.148061  ...             -0.013903\n",
              "tBodyAcc-mean()-Z                             -0.256952  ...             -0.022643\n",
              "tBodyAcc-std()-X                               0.000619  ...              0.394825\n",
              "tBodyAcc-std()-Y                              -0.021903  ...              0.433169\n",
              "...                                                 ...  ...                   ...\n",
              "angle(tBodyGyroMean,gravityMean)               0.037444  ...             -0.019903\n",
              "angle(tBodyGyroJerkMean,gravityMean)           0.028844  ...             -0.005656\n",
              "angle(X,gravityMean)                          -0.035257  ...             -0.643655\n",
              "angle(Y,gravityMean)                           0.034371  ...              0.594885\n",
              "angle(Z,gravityMean)                           0.028242  ...              1.000000\n",
              "\n",
              "[561 rows x 561 columns]"
            ]
          },
          "metadata": {
            "tags": []
          },
          "execution_count": 10
        }
      ]
    },
    {
      "cell_type": "code",
      "metadata": {
        "id": "VhSvmLtIzYlF",
        "colab_type": "code",
        "outputId": "37670261-93b9-4f86-f0da-b5b103b9690d",
        "colab": {
          "base_uri": "https://localhost:8080/",
          "height": 238
        }
      },
      "source": [
        "#from sklearn.preprocessing import StandardScaler\n",
        "#sc= StandardScaler()\n",
        "#X_train_sc= sc.fit_transform(X_train_s)\n",
        "#X_test_sc= sc.transform(X_test_s)\n",
        "#print(X_train_sc)"
      ],
      "execution_count": 0,
      "outputs": [
        {
          "output_type": "stream",
          "text": [
            "[[ 0.07769284 -0.26200547 -0.20631668 ... -0.69575363  0.40016622\n",
            "  -0.0088682 ]\n",
            " [ 0.06453219 -0.52643766 -0.3656776  ... -0.15097725 -0.31877184\n",
            "   1.26749867]\n",
            " [ 0.79791396 -0.42690931  0.72522626 ... -0.54135442  0.61198397\n",
            "   0.56649954]\n",
            " ...\n",
            " [ 0.71506046 -0.39095188  0.20030806 ...  0.0666238   0.74728081\n",
            "   1.48734749]\n",
            " [-0.61017673 -0.096678   -0.16394831 ... -0.3558322   0.89130993\n",
            "   0.39452619]\n",
            " [-0.31570061  0.98823017  0.0095071  ... -0.38845637  0.85793936\n",
            "   0.34726648]]\n"
          ],
          "name": "stdout"
        }
      ]
    },
    {
      "cell_type": "code",
      "metadata": {
        "id": "NniBqIEMu6js",
        "colab_type": "code",
        "outputId": "f0927a4a-eb01-492f-e7f9-753536cf39f6",
        "colab": {
          "base_uri": "https://localhost:8080/",
          "height": 71
        }
      },
      "source": [
        "from sklearn.decomposition import FastICA \n",
        "ICA = FastICA(n_components=20, random_state=42)\n",
        "X_train=ICA.fit_transform(X_train_s,Y_train)\n",
        "X_test= ICA.transform(X_test_s)\n",
        "#ICA.explained_variance_"
      ],
      "execution_count": 0,
      "outputs": [
        {
          "output_type": "stream",
          "text": [
            "/usr/local/lib/python3.6/dist-packages/sklearn/decomposition/fastica_.py:119: ConvergenceWarning: FastICA did not converge. Consider increasing tolerance or the maximum number of iterations.\n",
            "  ConvergenceWarning)\n"
          ],
          "name": "stderr"
        }
      ]
    },
    {
      "cell_type": "code",
      "metadata": {
        "id": "0ipYmL2oIKbu",
        "colab_type": "code",
        "outputId": "260871e5-38e3-4e1e-c068-205cbcfcfa67",
        "colab": {
          "base_uri": "https://localhost:8080/",
          "height": 68
        }
      },
      "source": [
        "# Dimension of Train and Test set \n",
        "print(\"Dimension of Train set\",X_train.shape)\n",
        "print(\"Dimension of Test set\",X_test.shape,\"\\n\")"
      ],
      "execution_count": 0,
      "outputs": [
        {
          "output_type": "stream",
          "text": [
            "Dimension of Train set (5881, 20)\n",
            "Dimension of Test set (1471, 20) \n",
            "\n"
          ],
          "name": "stdout"
        }
      ]
    },
    {
      "cell_type": "code",
      "metadata": {
        "id": "ojgStzFMv2xD",
        "colab_type": "code",
        "outputId": "dc7f897b-5b69-46f8-9ec9-6367015cd9af",
        "colab": {
          "base_uri": "https://localhost:8080/",
          "height": 516
        }
      },
      "source": [
        "import matplotlib.pyplot as plt\n",
        "plt.figure(figsize=(12,8)) \n",
        "plt.title('ICA Components')\n",
        "plt.scatter(X_train[:,0], X_train[:,1]) \n",
        "plt.scatter(X_train[:,1], X_train[:,2])\n",
        "plt.scatter(X_train[:,2], X_train[:,0])\n",
        "\n"
      ],
      "execution_count": 0,
      "outputs": [
        {
          "output_type": "execute_result",
          "data": {
            "text/plain": [
              "<matplotlib.collections.PathCollection at 0x7f4b197adcc0>"
            ]
          },
          "metadata": {
            "tags": []
          },
          "execution_count": 7
        },
        {
          "output_type": "display_data",
          "data": {
            "image/png": "[encoded data removed]",
            "text/plain": [
              "<Figure size 864x576 with 1 Axes>"
            ]
          },
          "metadata": {
            "tags": []
          }
        }
      ]
    },
    {
      "cell_type": "code",
      "metadata": {
        "id": "1U-7lbpOw5KR",
        "colab_type": "code",
        "outputId": "22668ed0-04fe-433b-a01c-9aaa5c7e645b",
        "colab": {
          "base_uri": "https://localhost:8080/",
          "height": 34
        }
      },
      "source": [
        "#linear Regression\n",
        "from sklearn import linear_model\n",
        "\n",
        "reg= linear_model.LinearRegression()\n",
        "reg.fit(X_test,Y_test)\n",
        "reg.score(X_test,Y_test)"
      ],
      "execution_count": 0,
      "outputs": [
        {
          "output_type": "execute_result",
          "data": {
            "text/plain": [
              "0.9031352540900438"
            ]
          },
          "metadata": {
            "tags": []
          },
          "execution_count": 8
        }
      ]
    },
    {
      "cell_type": "code",
      "metadata": {
        "id": "oQKYX1nnaKk0",
        "colab_type": "code",
        "outputId": "095fc503-e113-4a58-b73f-5a6f1aa89ff7",
        "colab": {
          "base_uri": "https://localhost:8080/",
          "height": 34
        }
      },
      "source": [
        "#train\n",
        "reg.fit(X_train,Y_train)\n",
        "reg.score(X_train,Y_train)"
      ],
      "execution_count": 0,
      "outputs": [
        {
          "output_type": "execute_result",
          "data": {
            "text/plain": [
              "0.9052362996292423"
            ]
          },
          "metadata": {
            "tags": []
          },
          "execution_count": 9
        }
      ]
    },
    {
      "cell_type": "code",
      "metadata": {
        "id": "eUGbCd_NzBNO",
        "colab_type": "code",
        "outputId": "9d1c8756-85fa-44f9-dcae-1f287a8e4955",
        "colab": {
          "base_uri": "https://localhost:8080/",
          "height": 791
        }
      },
      "source": [
        "#LOGISTIC REGRESSION\n",
        "\n",
        "from sklearn.linear_model import LogisticRegression\n",
        "\n",
        "classifier=LogisticRegression(random_state=42)\n",
        "classifier.fit(X_train,Y_train)\n",
        "pred1 = classifier.predict(X_test)\n",
        "from sklearn.metrics import accuracy_score,confusion_matrix,classification_report\n",
        "import scikitplot as skplt\n",
        "print('For Logistic Regression accuracy score is ',accuracy_score(Y_test,pred1))\n",
        "print('For  Logistic Regression confusion_matrix is: \\n\\n',confusion_matrix(Y_test,pred1))\n",
        "print ('For  Logistic Regression Classification Report: \\n\\n',classification_report(Y_test,pred1))\n",
        "skplt.metrics.plot_confusion_matrix(Y_test, pred1, normalize=True)\n",
        "plt.show()"
      ],
      "execution_count": 0,
      "outputs": [
        {
          "output_type": "stream",
          "text": [
            "/usr/local/lib/python3.6/dist-packages/sklearn/linear_model/logistic.py:432: FutureWarning: Default solver will be changed to 'lbfgs' in 0.22. Specify a solver to silence this warning.\n",
            "  FutureWarning)\n",
            "/usr/local/lib/python3.6/dist-packages/sklearn/linear_model/logistic.py:469: FutureWarning: Default multi_class will be changed to 'auto' in 0.22. Specify the multi_class option to silence this warning.\n",
            "  \"this warning.\", FutureWarning)\n"
          ],
          "name": "stderr"
        },
        {
          "output_type": "stream",
          "text": [
            "For Logistic Regression accuracy score is  0.831407205982325\n",
            "For  Logistic Regression confusion_matrix is: \n",
            "\n",
            " [[262   0   0   0   0   0]\n",
            " [ 24 145 113   2   0   0]\n",
            " [  0  31 245   0   0   0]\n",
            " [  0   0   1 235   0   4]\n",
            " [  3   0   2  22 149   2]\n",
            " [  1   0   5  37   1 187]]\n",
            "For  Logistic Regression Classification Report: \n",
            "\n",
            "               precision    recall  f1-score   support\n",
            "\n",
            "           0       0.90      1.00      0.95       262\n",
            "           1       0.82      0.51      0.63       284\n",
            "           2       0.67      0.89      0.76       276\n",
            "           3       0.79      0.98      0.88       240\n",
            "           4       0.99      0.84      0.91       178\n",
            "           5       0.97      0.81      0.88       231\n",
            "\n",
            "    accuracy                           0.83      1471\n",
            "   macro avg       0.86      0.84      0.84      1471\n",
            "weighted avg       0.85      0.83      0.83      1471\n",
            "\n"
          ],
          "name": "stdout"
        },
        {
          "output_type": "display_data",
          "data": {
            "image/png": "[encoded data removed]",
            "text/plain": [
              "<Figure size 432x288 with 2 Axes>"
            ]
          },
          "metadata": {
            "tags": []
          }
        }
      ]
    },
    {
      "cell_type": "code",
      "metadata": {
        "id": "KK5_oXo30kz-",
        "colab_type": "code",
        "outputId": "632ace57-28bf-4222-a719-448356674113",
        "colab": {
          "base_uri": "https://localhost:8080/",
          "height": 723
        }
      },
      "source": [
        "#RANDOM FOREST\n",
        "\n",
        "from sklearn.ensemble import RandomForestClassifier\n",
        "from sklearn.preprocessing import Imputer\n",
        "imp = Imputer(missing_values = 'NaN', strategy = \"most_frequent\", axis = 0)\n",
        "imp = imp.fit(X_train)\n",
        "X_train_imp = imp.transform(X_train)\n",
        "fit_random_forest = RandomForestClassifier(random_state = 42)\n",
        "fit_random_forest.fit(X_train_imp, Y_train);\n",
        "X_test_imp = imp.transform(X_test)\n",
        "y_predicted = fit_random_forest.predict(X_test_imp)\n",
        "accuracy = accuracy_score(Y_test, y_predicted)*100\n",
        "print(round(accuracy, 2), '%')\n",
        "print(confusion_matrix(Y_test, y_predicted))\n",
        "print (classification_report(Y_test,y_predicted))\n",
        "skplt.metrics.plot_confusion_matrix(Y_test,y_predicted, normalize=True)\n",
        "plt.show()"
      ],
      "execution_count": 0,
      "outputs": [
        {
          "output_type": "stream",
          "text": [
            "/usr/local/lib/python3.6/dist-packages/sklearn/utils/deprecation.py:66: DeprecationWarning: Class Imputer is deprecated; Imputer was deprecated in version 0.20 and will be removed in 0.22. Import impute.SimpleImputer from sklearn instead.\n",
            "  warnings.warn(msg, category=DeprecationWarning)\n",
            "/usr/local/lib/python3.6/dist-packages/sklearn/ensemble/forest.py:245: FutureWarning: The default value of n_estimators will change from 10 in version 0.20 to 100 in 0.22.\n",
            "  \"10 in version 0.20 to 100 in 0.22.\", FutureWarning)\n"
          ],
          "name": "stderr"
        },
        {
          "output_type": "stream",
          "text": [
            "89.53 %\n",
            "[[260   0   1   0   1   0]\n",
            " [  7 230  47   0   0   0]\n",
            " [  2  65 209   0   0   0]\n",
            " [  0   0   0 234   1   5]\n",
            " [  0   0   0   3 174   1]\n",
            " [  0   0   0   8  13 210]]\n",
            "              precision    recall  f1-score   support\n",
            "\n",
            "           0       0.97      0.99      0.98       262\n",
            "           1       0.78      0.81      0.79       284\n",
            "           2       0.81      0.76      0.78       276\n",
            "           3       0.96      0.97      0.96       240\n",
            "           4       0.92      0.98      0.95       178\n",
            "           5       0.97      0.91      0.94       231\n",
            "\n",
            "    accuracy                           0.90      1471\n",
            "   macro avg       0.90      0.90      0.90      1471\n",
            "weighted avg       0.90      0.90      0.89      1471\n",
            "\n"
          ],
          "name": "stdout"
        },
        {
          "output_type": "display_data",
          "data": {
            "image/png": "[encoded data removed]",
            "text/plain": [
              "<Figure size 432x288 with 2 Axes>"
            ]
          },
          "metadata": {
            "tags": []
          }
        }
      ]
    },
    {
      "cell_type": "code",
      "metadata": {
        "id": "6yGjCqnd1DEg",
        "colab_type": "code",
        "outputId": "5898b32d-e356-4193-b4d2-d6f1d82ea8f0",
        "colab": {
          "base_uri": "https://localhost:8080/",
          "height": 34
        }
      },
      "source": [
        "#Naive Bayes\n",
        "\n",
        "from sklearn.naive_bayes import GaussianNB\n",
        "gnb = GaussianNB() \n",
        "gnb.fit(X_train, Y_train) \n",
        "  \n",
        "# making predictions on the testing set \n",
        "y_pred_nb = gnb.predict(X_test) \n",
        "  \n",
        "# comparing actual response values (y_test) with predicted response values (y_pred) \n",
        "from sklearn import metrics \n",
        "print(\"Gaussian Naive Bayes model accuracy(in %):\", metrics.accuracy_score(Y_test, y_pred_nb)*100)"
      ],
      "execution_count": 0,
      "outputs": [
        {
          "output_type": "stream",
          "text": [
            "Gaussian Naive Bayes model accuracy(in %): 84.02447314751869\n"
          ],
          "name": "stdout"
        }
      ]
    },
    {
      "cell_type": "code",
      "metadata": {
        "id": "m1-YiPDMPA69",
        "colab_type": "code",
        "outputId": "b729fca3-1e6f-4195-fa6d-d3caca1c4ee1",
        "colab": {
          "base_uri": "https://localhost:8080/",
          "height": 873
        }
      },
      "source": [
        "print(confusion_matrix(Y_test, y_pred_nb))\n",
        "print(\"\\n\")\n",
        "print(classification_report(Y_test, y_pred_nb))\n",
        "print(classification_report(Y_test, y_pred_nb))\n",
        "skplt.metrics.plot_confusion_matrix(Y_test, y_pred_nb, normalize=True)\n",
        "plt.show()"
      ],
      "execution_count": 0,
      "outputs": [
        {
          "output_type": "stream",
          "text": [
            "[[258   2   1   0   1   0]\n",
            " [ 18 191  73   0   2   0]\n",
            " [  9  49 213   0   5   0]\n",
            " [  0   0   0 213   6  21]\n",
            " [  0   0   0  11 160   7]\n",
            " [  0   0   0  18  12 201]]\n",
            "\n",
            "\n",
            "              precision    recall  f1-score   support\n",
            "\n",
            "           0       0.91      0.98      0.94       262\n",
            "           1       0.79      0.67      0.73       284\n",
            "           2       0.74      0.77      0.76       276\n",
            "           3       0.88      0.89      0.88       240\n",
            "           4       0.86      0.90      0.88       178\n",
            "           5       0.88      0.87      0.87       231\n",
            "\n",
            "    accuracy                           0.84      1471\n",
            "   macro avg       0.84      0.85      0.84      1471\n",
            "weighted avg       0.84      0.84      0.84      1471\n",
            "\n",
            "              precision    recall  f1-score   support\n",
            "\n",
            "           0       0.91      0.98      0.94       262\n",
            "           1       0.79      0.67      0.73       284\n",
            "           2       0.74      0.77      0.76       276\n",
            "           3       0.88      0.89      0.88       240\n",
            "           4       0.86      0.90      0.88       178\n",
            "           5       0.88      0.87      0.87       231\n",
            "\n",
            "    accuracy                           0.84      1471\n",
            "   macro avg       0.84      0.85      0.84      1471\n",
            "weighted avg       0.84      0.84      0.84      1471\n",
            "\n"
          ],
          "name": "stdout"
        },
        {
          "output_type": "display_data",
          "data": {
            "image/png": "[encoded data removed]",
            "text/plain": [
              "<Figure size 432x288 with 2 Axes>"
            ]
          },
          "metadata": {
            "tags": []
          }
        }
      ]
    },
    {
      "cell_type": "code",
      "metadata": {
        "id": "Ty0UdGV-8BSU",
        "colab_type": "code",
        "colab": {}
      },
      "source": [
        "#SVM\n",
        "import seaborn as sns\n",
        "from sklearn.utils import shuffle\n",
        "from sklearn.svm import SVC\n",
        "from sklearn.metrics import confusion_matrix,classification_report\n",
        "from sklearn.model_selection import cross_val_score, GridSearchCV\n",
        "import math \n",
        "import io\n",
        "import scikitplot as skplt\n",
        "#Libraries to Build Ensemble Model : Random Forest Classifier \n",
        "# Create the parameter grid based on the results of random search \n",
        "params_grid = [{'kernel': ['rbf'], 'gamma': [1e-3, 1e-4],\n",
        "                     'C': [1, 10, 100, 1000]},\n",
        "                    {'kernel': ['linear'], 'C': [1, 10, 100, 1000]}]\n",
        "                    "
      ],
      "execution_count": 0,
      "outputs": []
    },
    {
      "cell_type": "code",
      "metadata": {
        "id": "VqNO3mCJ8Cau",
        "colab_type": "code",
        "outputId": "ab88b8cb-2ad0-47e0-c7d1-5ed1b6316240",
        "colab": {
          "base_uri": "https://localhost:8080/",
          "height": 153
        }
      },
      "source": [
        "# Performing CV to tune parameters for best SVM fit \n",
        "svm_model = GridSearchCV(SVC(), params_grid, cv=5)\n",
        "svm_model.fit(X_train_s, Y_train)\n",
        "# View the accuracy score\n",
        "print('Best score for training data:', svm_model.best_score_,\"\\n\") \n",
        "# View the best parameters for the model found using grid search\n",
        "print('Best C:',svm_model.best_estimator_.C,\"\\n\") \n",
        "print('Best Kernel:',svm_model.best_estimator_.kernel,\"\\n\")\n",
        "print('Best Gamma:',svm_model.best_estimator_.gamma,\"\\n\")\n",
        "final_model = svm_model.best_estimator_\n",
        "Y_pred = final_model.predict(X_test_s)\n",
        "Y_pred_label = list(encoder.inverse_transform(Y_pred))"
      ],
      "execution_count": 0,
      "outputs": [
        {
          "output_type": "stream",
          "text": [
            "Best score for training data: 0.9887774188063254 \n",
            "\n",
            "Best C: 1000 \n",
            "\n",
            "Best Kernel: rbf \n",
            "\n",
            "Best Gamma: 0.001 \n",
            "\n"
          ],
          "name": "stdout"
        }
      ]
    },
    {
      "cell_type": "code",
      "metadata": {
        "id": "TYuzDNps8GGD",
        "colab_type": "code",
        "outputId": "3004335e-61e0-431b-c8e9-226a33e5c125",
        "colab": {
          "base_uri": "https://localhost:8080/",
          "height": 255
        }
      },
      "source": [
        "print(\"Training set score for SVM: %f\" % final_model.score(X_train_s , Y_train))\n",
        "print(\"Testing  set score for SVM: %f\" % final_model.score(X_test_s  , Y_test ))\n",
        "\n",
        "svm_model.score"
      ],
      "execution_count": 0,
      "outputs": [
        {
          "output_type": "stream",
          "text": [
            "Training set score for SVM: 0.997960\n",
            "Testing  set score for SVM: 0.984364\n"
          ],
          "name": "stdout"
        },
        {
          "output_type": "execute_result",
          "data": {
            "text/plain": [
              "<bound method BaseSearchCV.score of GridSearchCV(cv=5, error_score='raise-deprecating',\n",
              "             estimator=SVC(C=1.0, cache_size=200, class_weight=None, coef0=0.0,\n",
              "                           decision_function_shape='ovr', degree=3,\n",
              "                           gamma='auto_deprecated', kernel='rbf', max_iter=-1,\n",
              "                           probability=False, random_state=None, shrinking=True,\n",
              "                           tol=0.001, verbose=False),\n",
              "             iid='warn', n_jobs=None,\n",
              "             param_grid=[{'C': [1, 10, 100, 1000], 'gamma': [0.001, 0.0001],\n",
              "                          'kernel': ['rbf']},\n",
              "                         {'C': [1, 10, 100, 1000], 'kernel': ['linear']}],\n",
              "             pre_dispatch='2*n_jobs', refit=True, return_train_score=False,\n",
              "             scoring=None, verbose=0)>"
            ]
          },
          "metadata": {
            "tags": []
          },
          "execution_count": 18
        }
      ]
    },
    {
      "cell_type": "code",
      "metadata": {
        "id": "k39QTZajR2RS",
        "colab_type": "code",
        "outputId": "ec673659-d3cb-4ca6-9264-210db0f1bb17",
        "colab": {
          "base_uri": "https://localhost:8080/",
          "height": 873
        }
      },
      "source": [
        "print(confusion_matrix(Y_test,Y_pred))\n",
        "print(\"\\n\")\n",
        "print(classification_report(Y_test,Y_pred))\n",
        "print(classification_report(Y_test, Y_pred))\n",
        "skplt.metrics.plot_confusion_matrix(Y_test, Y_pred, normalize=True)\n",
        "plt.show()"
      ],
      "execution_count": 0,
      "outputs": [
        {
          "output_type": "stream",
          "text": [
            "[[262   0   0   0   0   0]\n",
            " [  0 274  10   0   0   0]\n",
            " [  0  13 263   0   0   0]\n",
            " [  0   0   0 240   0   0]\n",
            " [  0   0   0   0 178   0]\n",
            " [  0   0   0   0   0 231]]\n",
            "\n",
            "\n",
            "              precision    recall  f1-score   support\n",
            "\n",
            "           0       1.00      1.00      1.00       262\n",
            "           1       0.95      0.96      0.96       284\n",
            "           2       0.96      0.95      0.96       276\n",
            "           3       1.00      1.00      1.00       240\n",
            "           4       1.00      1.00      1.00       178\n",
            "           5       1.00      1.00      1.00       231\n",
            "\n",
            "    accuracy                           0.98      1471\n",
            "   macro avg       0.99      0.99      0.99      1471\n",
            "weighted avg       0.98      0.98      0.98      1471\n",
            "\n",
            "              precision    recall  f1-score   support\n",
            "\n",
            "           0       1.00      1.00      1.00       262\n",
            "           1       0.95      0.96      0.96       284\n",
            "           2       0.96      0.95      0.96       276\n",
            "           3       1.00      1.00      1.00       240\n",
            "           4       1.00      1.00      1.00       178\n",
            "           5       1.00      1.00      1.00       231\n",
            "\n",
            "    accuracy                           0.98      1471\n",
            "   macro avg       0.99      0.99      0.99      1471\n",
            "weighted avg       0.98      0.98      0.98      1471\n",
            "\n"
          ],
          "name": "stdout"
        },
        {
          "output_type": "display_data",
          "data": {
            "image/png": "[encoded data removed]",
            "text/plain": [
              "<Figure size 432x288 with 2 Axes>"
            ]
          },
          "metadata": {
            "tags": []
          }
        }
      ]
    },
    {
      "cell_type": "code",
      "metadata": {
        "id": "P5xnls6S8Px0",
        "colab_type": "code",
        "outputId": "123bed99-e246-4341-fbbc-0cfcfbf97502",
        "colab": {
          "base_uri": "https://localhost:8080/",
          "height": 618
        }
      },
      "source": [
        "#kNN\n",
        "\n",
        "# Scaling the Train and Test feature set \n",
        "from sklearn.preprocessing import StandardScaler\n",
        "scaler = StandardScaler()\n",
        "X_train_s = scaler.fit_transform(X_train)\n",
        "X_test_s = scaler.transform(X_test)\n",
        "from sklearn.neighbors import KNeighborsClassifier\n",
        "classifier = KNeighborsClassifier(n_neighbors=1)\n",
        "classifier.fit(X_train_s, Y_train)\n",
        "Y_pred = classifier.predict(X_test_s)\n",
        "from sklearn.metrics import classification_report, confusion_matrix\n",
        "print(confusion_matrix(Y_test, Y_pred))\n",
        "print(classification_report(Y_test, Y_pred))\n",
        "plt.show()\n",
        "skplt.metrics.plot_confusion_matrix(Y_test, Y_pred, normalize=True)\n",
        "plt.show()"
      ],
      "execution_count": 0,
      "outputs": [
        {
          "output_type": "stream",
          "text": [
            "[[260   2   0   0   0   0]\n",
            " [  6 217  61   0   0   0]\n",
            " [  0  53 222   1   0   0]\n",
            " [  0   0   1 234   3   2]\n",
            " [  0   0   1   3 169   5]\n",
            " [  0   0   0   8   3 220]]\n",
            "              precision    recall  f1-score   support\n",
            "\n",
            "           0       0.98      0.99      0.98       262\n",
            "           1       0.80      0.76      0.78       284\n",
            "           2       0.78      0.80      0.79       276\n",
            "           3       0.95      0.97      0.96       240\n",
            "           4       0.97      0.95      0.96       178\n",
            "           5       0.97      0.95      0.96       231\n",
            "\n",
            "    accuracy                           0.90      1471\n",
            "   macro avg       0.91      0.91      0.91      1471\n",
            "weighted avg       0.90      0.90      0.90      1471\n",
            "\n"
          ],
          "name": "stdout"
        },
        {
          "output_type": "display_data",
          "data": {
            "image/png": "[encoded data removed]",
            "text/plain": [
              "<Figure size 432x288 with 2 Axes>"
            ]
          },
          "metadata": {
            "tags": []
          }
        }
      ]
    },
    {
      "cell_type": "code",
      "metadata": {
        "id": "pAssD6gZ8Q-A",
        "colab_type": "code",
        "outputId": "d9c7bc47-61c1-46bc-e3a0-2f340e291c2e",
        "colab": {
          "base_uri": "https://localhost:8080/",
          "height": 255
        }
      },
      "source": [
        "from sklearn.metrics import accuracy_score \n",
        "print(accuracy_score(Y_test, Y_pred)*100,'%')\n",
        "#print (((cm[0][0]+cm[1][1])*100)/(cm[0][0]+cm[1][1]+cm[0][1]+cm[1][0]), '% of testing data was classified correctly')\n",
        "print(classification_report(Y_test,Y_pred))"
      ],
      "execution_count": 0,
      "outputs": [
        {
          "output_type": "stream",
          "text": [
            "89.87083616587356 %\n",
            "              precision    recall  f1-score   support\n",
            "\n",
            "           0       0.98      0.99      0.98       262\n",
            "           1       0.80      0.76      0.78       284\n",
            "           2       0.78      0.80      0.79       276\n",
            "           3       0.95      0.97      0.96       240\n",
            "           4       0.97      0.95      0.96       178\n",
            "           5       0.97      0.95      0.96       231\n",
            "\n",
            "    accuracy                           0.90      1471\n",
            "   macro avg       0.91      0.91      0.91      1471\n",
            "weighted avg       0.90      0.90      0.90      1471\n",
            "\n"
          ],
          "name": "stdout"
        }
      ]
    },
    {
      "cell_type": "code",
      "metadata": {
        "id": "v3XM1jeX8U51",
        "colab_type": "code",
        "outputId": "49acc4b4-df27-4432-fe23-5a911bcb9c86",
        "colab": {
          "base_uri": "https://localhost:8080/",
          "height": 727
        }
      },
      "source": [
        "error = []\n",
        "for i in range(1, 20):\n",
        "    knn = KNeighborsClassifier(n_neighbors=i)\n",
        "    knn.fit(X_train_s, Y_train)\n",
        "    pred_i = knn.predict(X_test_s)\n",
        "    error.append(np.mean(pred_i != Y_test))\n",
        "    plt.figure(figsize=(12, 6))\n",
        "plt.plot(range(1, 20), error, color='red', linestyle='dashed', marker='o',\n",
        "         markerfacecolor='blue', markersize=10)\n",
        "plt.title('Error Rate K Value')\n",
        "plt.xlabel('K Value')\n",
        "plt.ylabel('Mean Error')"
      ],
      "execution_count": 0,
      "outputs": [
        {
          "output_type": "execute_result",
          "data": {
            "text/plain": [
              "Text(0, 0.5, 'Mean Error')"
            ]
          },
          "metadata": {
            "tags": []
          },
          "execution_count": 22
        },
        {
          "output_type": "display_data",
          "data": {
            "text/plain": [
              "<Figure size 864x432 with 0 Axes>"
            ]
          },
          "metadata": {
            "tags": []
          }
        },
        {
          "output_type": "display_data",
          "data": {
            "text/plain": [
              "<Figure size 864x432 with 0 Axes>"
            ]
          },
          "metadata": {
            "tags": []
          }
        },
        {
          "output_type": "display_data",
          "data": {
            "text/plain": [
              "<Figure size 864x432 with 0 Axes>"
            ]
          },
          "metadata": {
            "tags": []
          }
        },
        {
          "output_type": "display_data",
          "data": {
            "text/plain": [
              "<Figure size 864x432 with 0 Axes>"
            ]
          },
          "metadata": {
            "tags": []
          }
        },
        {
          "output_type": "display_data",
          "data": {
            "text/plain": [
              "<Figure size 864x432 with 0 Axes>"
            ]
          },
          "metadata": {
            "tags": []
          }
        },
        {
          "output_type": "display_data",
          "data": {
            "text/plain": [
              "<Figure size 864x432 with 0 Axes>"
            ]
          },
          "metadata": {
            "tags": []
          }
        },
        {
          "output_type": "display_data",
          "data": {
            "text/plain": [
              "<Figure size 864x432 with 0 Axes>"
            ]
          },
          "metadata": {
            "tags": []
          }
        },
        {
          "output_type": "display_data",
          "data": {
            "text/plain": [
              "<Figure size 864x432 with 0 Axes>"
            ]
          },
          "metadata": {
            "tags": []
          }
        },
        {
          "output_type": "display_data",
          "data": {
            "text/plain": [
              "<Figure size 864x432 with 0 Axes>"
            ]
          },
          "metadata": {
            "tags": []
          }
        },
        {
          "output_type": "display_data",
          "data": {
            "text/plain": [
              "<Figure size 864x432 with 0 Axes>"
            ]
          },
          "metadata": {
            "tags": []
          }
        },
        {
          "output_type": "display_data",
          "data": {
            "text/plain": [
              "<Figure size 864x432 with 0 Axes>"
            ]
          },
          "metadata": {
            "tags": []
          }
        },
        {
          "output_type": "display_data",
          "data": {
            "text/plain": [
              "<Figure size 864x432 with 0 Axes>"
            ]
          },
          "metadata": {
            "tags": []
          }
        },
        {
          "output_type": "display_data",
          "data": {
            "text/plain": [
              "<Figure size 864x432 with 0 Axes>"
            ]
          },
          "metadata": {
            "tags": []
          }
        },
        {
          "output_type": "display_data",
          "data": {
            "text/plain": [
              "<Figure size 864x432 with 0 Axes>"
            ]
          },
          "metadata": {
            "tags": []
          }
        },
        {
          "output_type": "display_data",
          "data": {
            "text/plain": [
              "<Figure size 864x432 with 0 Axes>"
            ]
          },
          "metadata": {
            "tags": []
          }
        },
        {
          "output_type": "display_data",
          "data": {
            "text/plain": [
              "<Figure size 864x432 with 0 Axes>"
            ]
          },
          "metadata": {
            "tags": []
          }
        },
        {
          "output_type": "display_data",
          "data": {
            "text/plain": [
              "<Figure size 864x432 with 0 Axes>"
            ]
          },
          "metadata": {
            "tags": []
          }
        },
        {
          "output_type": "display_data",
          "data": {
            "text/plain": [
              "<Figure size 864x432 with 0 Axes>"
            ]
          },
          "metadata": {
            "tags": []
          }
        },
        {
          "output_type": "display_data",
          "data": {
            "image/png": "[encoded data removed]",
            "text/plain": [
              "<Figure size 864x432 with 1 Axes>"
            ]
          },
          "metadata": {
            "tags": []
          }
        }
      ]
    }
  ]
}