{
  "nbformat": 4,
  "nbformat_minor": 0,
  "metadata": {
    "colab": {
      "name": "MLP(MAIN DATA).ipynb",
      "provenance": [],
      "collapsed_sections": []
    },
    "kernelspec": {
      "name": "python3",
      "display_name": "Python 3"
    }
  },
  "cells": [
    {
      "cell_type": "code",
      "metadata": {
        "id": "yL9_GD3105V3",
        "colab_type": "code",
        "outputId": "f4b366eb-6356-406f-c642-1e2e231b0079",
        "colab": {
          "base_uri": "https://localhost:8080/",
          "height": 292
        }
      },
      "source": [
        "!pip install scikit-plot"
      ],
      "execution_count": 0,
      "outputs": [
        {
          "output_type": "stream",
          "text": [
            "Collecting scikit-plot\n",
            "  Downloading https://files.pythonhosted.org/packages/7c/47/32520e259340c140a4ad27c1b97050dd3254fdc517b1d59974d47037510e/scikit_plot-0.3.7-py3-none-any.whl\n",
            "Requirement already satisfied: scipy>=0.9 in /usr/local/lib/python3.6/dist-packages (from scikit-plot) (1.3.2)\n",
            "Requirement already satisfied: joblib>=0.10 in /usr/local/lib/python3.6/dist-packages (from scikit-plot) (0.14.0)\n",
            "Requirement already satisfied: scikit-learn>=0.18 in /usr/local/lib/python3.6/dist-packages (from scikit-plot) (0.21.3)\n",
            "Requirement already satisfied: matplotlib>=1.4.0 in /usr/local/lib/python3.6/dist-packages (from scikit-plot) (3.1.1)\n",
            "Requirement already satisfied: numpy>=1.13.3 in /usr/local/lib/python3.6/dist-packages (from scipy>=0.9->scikit-plot) (1.17.4)\n",
            "Requirement already satisfied: python-dateutil>=2.1 in /usr/local/lib/python3.6/dist-packages (from matplotlib>=1.4.0->scikit-plot) (2.6.1)\n",
            "Requirement already satisfied: cycler>=0.10 in /usr/local/lib/python3.6/dist-packages (from matplotlib>=1.4.0->scikit-plot) (0.10.0)\n",
            "Requirement already satisfied: pyparsing!=2.0.4,!=2.1.2,!=2.1.6,>=2.0.1 in /usr/local/lib/python3.6/dist-packages (from matplotlib>=1.4.0->scikit-plot) (2.4.5)\n",
            "Requirement already satisfied: kiwisolver>=1.0.1 in /usr/local/lib/python3.6/dist-packages (from matplotlib>=1.4.0->scikit-plot) (1.1.0)\n",
            "Requirement already satisfied: six>=1.5 in /usr/local/lib/python3.6/dist-packages (from python-dateutil>=2.1->matplotlib>=1.4.0->scikit-plot) (1.12.0)\n",
            "Requirement already satisfied: setuptools in /usr/local/lib/python3.6/dist-packages (from kiwisolver>=1.0.1->matplotlib>=1.4.0->scikit-plot) (41.4.0)\n",
            "Installing collected packages: scikit-plot\n",
            "Successfully installed scikit-plot-0.3.7\n"
          ],
          "name": "stdout"
        }
      ]
    },
    {
      "cell_type": "code",
      "metadata": {
        "id": "91n-pWVs0_3I",
        "colab_type": "code",
        "colab": {}
      },
      "source": [
        "#!/usr/bin/env python\n",
        "# coding: utf-8"
      ],
      "execution_count": 0,
      "outputs": []
    },
    {
      "cell_type": "code",
      "metadata": {
        "id": "KDRRXal81DZI",
        "colab_type": "code",
        "outputId": "09613ffb-3d64-4afa-ba4f-5f545ca19617",
        "colab": {
          "base_uri": "https://localhost:8080/",
          "height": 97
        }
      },
      "source": [
        "import numpy as np\n",
        "import pandas as pd\n",
        "import matplotlib.pyplot as plt\n",
        "import tensorflow as tf\n",
        "from keras.models import Sequential\n",
        "from keras.layers import Dense\n",
        "from keras.utils import np_utils"
      ],
      "execution_count": 0,
      "outputs": [
        {
          "output_type": "display_data",
          "data": {
            "text/html": [
              "<p style=\"color: red;\">\n",
              "The default version of TensorFlow in Colab will soon switch to TensorFlow 2.x.<br>\n",
              "We recommend you <a href=\"https://www.tensorflow.org/guide/migrate\" target=\"_blank\">upgrade</a> now \n",
              "or ensure your notebook will continue to use TensorFlow 1.x via the <code>%tensorflow_version 1.x</code> magic:\n",
              "<a href=\"https://colab.research.google.com/notebooks/tensorflow_version.ipynb\" target=\"_blank\">more info</a>.</p>\n"
            ],
            "text/plain": [
              "<IPython.core.display.HTML object>"
            ]
          },
          "metadata": {
            "tags": []
          }
        },
        {
          "output_type": "stream",
          "text": [
            "Using TensorFlow backend.\n"
          ],
          "name": "stderr"
        }
      ]
    },
    {
      "cell_type": "code",
      "metadata": {
        "id": "1jDPT85H1L-I",
        "colab_type": "code",
        "outputId": "1c1bbef7-51ad-4f0f-e73d-e18148e9acf5",
        "colab": {
          "resources": {
            "http://localhost:8080/nbextensions/google.colab/files.js": {
              "data": "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",
              "ok": true,
              "headers": [
                [
                  "content-type",
                  "application/javascript"
                ]
              ],
              "status": 200,
              "status_text": ""
            }
          },
          "base_uri": "https://localhost:8080/",
          "height": 74
        }
      },
      "source": [
        "from google.colab import files\n",
        "uploaded = files.upload()"
      ],
      "execution_count": 0,
      "outputs": [
        {
          "output_type": "display_data",
          "data": {
            "text/html": [
              "\n",
              "     <input type=\"file\" id=\"files-34a9105e-0c44-410a-8a41-a4590e9d6bf4\" name=\"files[]\" multiple disabled />\n",
              "     <output id=\"result-34a9105e-0c44-410a-8a41-a4590e9d6bf4\">\n",
              "      Upload widget is only available when the cell has been executed in the\n",
              "      current browser session. Please rerun this cell to enable.\n",
              "      </output>\n",
              "      <script src=\"/nbextensions/google.colab/files.js\"></script> "
            ],
            "text/plain": [
              "<IPython.core.display.HTML object>"
            ]
          },
          "metadata": {
            "tags": []
          }
        },
        {
          "output_type": "stream",
          "text": [
            "Saving train.csv to train.csv\n"
          ],
          "name": "stdout"
        }
      ]
    },
    {
      "cell_type": "code",
      "metadata": {
        "id": "NTk4PPO764oB",
        "colab_type": "code",
        "colab": {}
      },
      "source": [
        "#from sklearn.preprocessing import OneHotEncoder\n",
        "#ohe = OneHotEncoder(sparse=False)\n",
        "#y_train_ohe = ohe.fit_transform(y_train)\n",
        "# Encoding training dataset"
      ],
      "execution_count": 0,
      "outputs": []
    },
    {
      "cell_type": "code",
      "metadata": {
        "id": "nBatqCFHv0Jm",
        "colab_type": "code",
        "colab": {}
      },
      "source": [
        "df= pd.read_csv(\"train.csv\")"
      ],
      "execution_count": 0,
      "outputs": []
    },
    {
      "cell_type": "code",
      "metadata": {
        "id": "xm0Ys82Jv1-N",
        "colab_type": "code",
        "colab": {}
      },
      "source": [
        "dx = pd.DataFrame(df.drop(['Activity','subject'],axis=1))\n",
        "dy_label = df.Activity.values.astype(object)"
      ],
      "execution_count": 0,
      "outputs": []
    },
    {
      "cell_type": "code",
      "metadata": {
        "id": "F-NB10ABv67F",
        "colab_type": "code",
        "colab": {}
      },
      "source": [
        "from sklearn import linear_model\n",
        "# Transforming non numerical labels into numerical labels\n",
        "from sklearn import preprocessing\n",
        "encoder = preprocessing.LabelEncoder()"
      ],
      "execution_count": 0,
      "outputs": []
    },
    {
      "cell_type": "code",
      "metadata": {
        "id": "b81BlPgnv_he",
        "colab_type": "code",
        "colab": {}
      },
      "source": [
        "# encoding train labels \n",
        "encoder.fit(dy_label)\n",
        "dy = encoder.transform(dy_label)"
      ],
      "execution_count": 0,
      "outputs": []
    },
    {
      "cell_type": "code",
      "metadata": {
        "id": "Jc9zSl1kwC1F",
        "colab_type": "code",
        "colab": {}
      },
      "source": [
        "from sklearn.model_selection import train_test_split\n",
        "X_train, X_test, Y_train, Y_test = train_test_split(dx,dy,test_size=0.2, random_state=4)"
      ],
      "execution_count": 0,
      "outputs": []
    },
    {
      "cell_type": "code",
      "metadata": {
        "id": "Z3wfvaFswZAs",
        "colab_type": "code",
        "colab": {}
      },
      "source": [
        "from sklearn import preprocessing\n",
        "from sklearn.preprocessing import StandardScaler\n",
        "sc=StandardScaler()\n",
        "X_train = sc.fit_transform(X_train)\n",
        "X_test = sc.transform(X_test)\n"
      ],
      "execution_count": 0,
      "outputs": []
    },
    {
      "cell_type": "code",
      "metadata": {
        "id": "qS0DSGzoweuM",
        "colab_type": "code",
        "colab": {}
      },
      "source": [
        "classifier = Sequential() # Initialising the ANN\n",
        "\n",
        "classifier.add(Dense(units = 512, activation = 'relu', input_dim = 561))\n",
        "classifier.add(Dense(units = 512, activation = 'relu'))\n",
        "classifier.add(Dense(units = 512, activation = 'relu'))\n",
        "classifier.add(Dense(units = 512, activation = 'relu'))\n",
        "#classifier.add(Dense(units = 256, activation = 'relu'))\n",
        "classifier.add(Dense(units = 6, activation = 'softmax'))\n"
      ],
      "execution_count": 0,
      "outputs": []
    },
    {
      "cell_type": "code",
      "metadata": {
        "id": "cTp_ldYFwjIt",
        "colab_type": "code",
        "outputId": "0de2aa78-d954-4f5a-9c9c-f5bd8d84d4ed",
        "colab": {
          "base_uri": "https://localhost:8080/",
          "height": 105
        }
      },
      "source": [
        "classifier.compile(optimizer = 'adam', loss = 'categorical_crossentropy', metrics = ['accuracy'])\n"
      ],
      "execution_count": 0,
      "outputs": [
        {
          "output_type": "stream",
          "text": [
            "WARNING:tensorflow:From /usr/local/lib/python3.6/dist-packages/keras/optimizers.py:793: The name tf.train.Optimizer is deprecated. Please use tf.compat.v1.train.Optimizer instead.\n",
            "\n",
            "WARNING:tensorflow:From /usr/local/lib/python3.6/dist-packages/keras/backend/tensorflow_backend.py:3576: The name tf.log is deprecated. Please use tf.math.log instead.\n",
            "\n"
          ],
          "name": "stdout"
        }
      ]
    },
    {
      "cell_type": "code",
      "metadata": {
        "id": "QL2cucwCx-4w",
        "colab_type": "code",
        "colab": {}
      },
      "source": [
        "from keras.utils import to_categorical\n",
        "Y_test = to_categorical(Y_test)\n",
        "\n",
        "Y_train = to_categorical(Y_train)"
      ],
      "execution_count": 0,
      "outputs": []
    },
    {
      "cell_type": "code",
      "metadata": {
        "id": "phLVoMkOwpEN",
        "colab_type": "code",
        "outputId": "fc8d36c8-5463-4a5a-826d-8da7a0fa1ab8",
        "colab": {
          "base_uri": "https://localhost:8080/",
          "height": 1000
        }
      },
      "source": [
        "hist=classifier.fit(X_train, Y_train, batch_size=350, epochs = 100, validation_data=(X_test,Y_test))\n"
      ],
      "execution_count": 0,
      "outputs": [
        {
          "output_type": "stream",
          "text": [
            "WARNING:tensorflow:From /usr/local/lib/python3.6/dist-packages/tensorflow_core/python/ops/math_grad.py:1424: where (from tensorflow.python.ops.array_ops) is deprecated and will be removed in a future version.\n",
            "Instructions for updating:\n",
            "Use tf.where in 2.0, which has the same broadcast rule as np.where\n",
            "WARNING:tensorflow:From /usr/local/lib/python3.6/dist-packages/keras/backend/tensorflow_backend.py:1033: The name tf.assign_add is deprecated. Please use tf.compat.v1.assign_add instead.\n",
            "\n",
            "WARNING:tensorflow:From /usr/local/lib/python3.6/dist-packages/keras/backend/tensorflow_backend.py:1020: The name tf.assign is deprecated. Please use tf.compat.v1.assign instead.\n",
            "\n",
            "WARNING:tensorflow:From /usr/local/lib/python3.6/dist-packages/keras/backend/tensorflow_backend.py:3005: The name tf.Session is deprecated. Please use tf.compat.v1.Session instead.\n",
            "\n",
            "Train on 5881 samples, validate on 1471 samples\n",
            "Epoch 1/100\n",
            "WARNING:tensorflow:From /usr/local/lib/python3.6/dist-packages/keras/backend/tensorflow_backend.py:190: The name tf.get_default_session is deprecated. Please use tf.compat.v1.get_default_session instead.\n",
            "\n",
            "WARNING:tensorflow:From /usr/local/lib/python3.6/dist-packages/keras/backend/tensorflow_backend.py:197: The name tf.ConfigProto is deprecated. Please use tf.compat.v1.ConfigProto instead.\n",
            "\n",
            "WARNING:tensorflow:From /usr/local/lib/python3.6/dist-packages/keras/backend/tensorflow_backend.py:207: The name tf.global_variables is deprecated. Please use tf.compat.v1.global_variables instead.\n",
            "\n",
            "WARNING:tensorflow:From /usr/local/lib/python3.6/dist-packages/keras/backend/tensorflow_backend.py:216: The name tf.is_variable_initialized is deprecated. Please use tf.compat.v1.is_variable_initialized instead.\n",
            "\n",
            "WARNING:tensorflow:From /usr/local/lib/python3.6/dist-packages/keras/backend/tensorflow_backend.py:223: The name tf.variables_initializer is deprecated. Please use tf.compat.v1.variables_initializer instead.\n",
            "\n",
            "5881/5881 [==============================] - 2s 342us/step - loss: 0.5855 - acc: 0.7441 - val_loss: 0.2180 - val_acc: 0.9096\n",
            "Epoch 2/100\n",
            "5881/5881 [==============================] - 1s 187us/step - loss: 0.1293 - acc: 0.9449 - val_loss: 0.1417 - val_acc: 0.9449\n",
            "Epoch 3/100\n",
            "5881/5881 [==============================] - 1s 185us/step - loss: 0.0668 - acc: 0.9740 - val_loss: 0.0736 - val_acc: 0.9708\n",
            "Epoch 4/100\n",
            "5881/5881 [==============================] - 1s 182us/step - loss: 0.0428 - acc: 0.9827 - val_loss: 0.0802 - val_acc: 0.9708\n",
            "Epoch 5/100\n",
            "5881/5881 [==============================] - 1s 189us/step - loss: 0.0418 - acc: 0.9832 - val_loss: 0.0866 - val_acc: 0.9694\n",
            "Epoch 6/100\n",
            "5881/5881 [==============================] - 1s 184us/step - loss: 0.0429 - acc: 0.9827 - val_loss: 0.0644 - val_acc: 0.9782\n",
            "Epoch 7/100\n",
            "5881/5881 [==============================] - 1s 180us/step - loss: 0.0202 - acc: 0.9939 - val_loss: 0.0816 - val_acc: 0.9823\n",
            "Epoch 8/100\n",
            "5881/5881 [==============================] - 1s 185us/step - loss: 0.0146 - acc: 0.9961 - val_loss: 0.0759 - val_acc: 0.9810\n",
            "Epoch 9/100\n",
            "5881/5881 [==============================] - 1s 181us/step - loss: 0.0080 - acc: 0.9985 - val_loss: 0.0776 - val_acc: 0.9830\n",
            "Epoch 10/100\n",
            "5881/5881 [==============================] - 1s 178us/step - loss: 0.0064 - acc: 0.9978 - val_loss: 0.1102 - val_acc: 0.9708\n",
            "Epoch 11/100\n",
            "5881/5881 [==============================] - 1s 180us/step - loss: 0.0247 - acc: 0.9930 - val_loss: 0.1787 - val_acc: 0.9531\n",
            "Epoch 12/100\n",
            "5881/5881 [==============================] - 1s 186us/step - loss: 0.0178 - acc: 0.9935 - val_loss: 0.0904 - val_acc: 0.9755\n",
            "Epoch 13/100\n",
            "5881/5881 [==============================] - 1s 188us/step - loss: 0.0073 - acc: 0.9981 - val_loss: 0.1509 - val_acc: 0.9708\n",
            "Epoch 14/100\n",
            "5881/5881 [==============================] - 1s 176us/step - loss: 0.0534 - acc: 0.9825 - val_loss: 0.1013 - val_acc: 0.9728\n",
            "Epoch 15/100\n",
            "5881/5881 [==============================] - 1s 176us/step - loss: 0.0253 - acc: 0.9906 - val_loss: 0.1024 - val_acc: 0.9769\n",
            "Epoch 16/100\n",
            "5881/5881 [==============================] - 1s 187us/step - loss: 0.0076 - acc: 0.9976 - val_loss: 0.0878 - val_acc: 0.9789\n",
            "Epoch 17/100\n",
            "5881/5881 [==============================] - 1s 176us/step - loss: 0.0022 - acc: 0.9991 - val_loss: 0.0869 - val_acc: 0.9830\n",
            "Epoch 18/100\n",
            "5881/5881 [==============================] - 1s 192us/step - loss: 6.5748e-04 - acc: 1.0000 - val_loss: 0.0825 - val_acc: 0.9823\n",
            "Epoch 19/100\n",
            "5881/5881 [==============================] - 1s 187us/step - loss: 3.7321e-04 - acc: 1.0000 - val_loss: 0.0821 - val_acc: 0.9830\n",
            "Epoch 20/100\n",
            "5881/5881 [==============================] - 1s 188us/step - loss: 1.4350e-04 - acc: 1.0000 - val_loss: 0.0860 - val_acc: 0.9850\n",
            "Epoch 21/100\n",
            "5881/5881 [==============================] - 1s 186us/step - loss: 8.9353e-05 - acc: 1.0000 - val_loss: 0.0871 - val_acc: 0.9850\n",
            "Epoch 22/100\n",
            "5881/5881 [==============================] - 1s 185us/step - loss: 6.7343e-05 - acc: 1.0000 - val_loss: 0.0887 - val_acc: 0.9850\n",
            "Epoch 23/100\n",
            "5881/5881 [==============================] - 1s 185us/step - loss: 5.6611e-05 - acc: 1.0000 - val_loss: 0.0904 - val_acc: 0.9850\n",
            "Epoch 24/100\n",
            "5881/5881 [==============================] - 1s 182us/step - loss: 4.8281e-05 - acc: 1.0000 - val_loss: 0.0912 - val_acc: 0.9850\n",
            "Epoch 25/100\n",
            "5881/5881 [==============================] - 1s 192us/step - loss: 4.2527e-05 - acc: 1.0000 - val_loss: 0.0926 - val_acc: 0.9850\n",
            "Epoch 26/100\n",
            "5881/5881 [==============================] - 1s 192us/step - loss: 3.7244e-05 - acc: 1.0000 - val_loss: 0.0934 - val_acc: 0.9850\n",
            "Epoch 27/100\n",
            "5881/5881 [==============================] - 1s 197us/step - loss: 3.3646e-05 - acc: 1.0000 - val_loss: 0.0941 - val_acc: 0.9850\n",
            "Epoch 28/100\n",
            "5881/5881 [==============================] - 1s 188us/step - loss: 3.0461e-05 - acc: 1.0000 - val_loss: 0.0949 - val_acc: 0.9850\n",
            "Epoch 29/100\n",
            "5881/5881 [==============================] - 1s 183us/step - loss: 2.7832e-05 - acc: 1.0000 - val_loss: 0.0959 - val_acc: 0.9850\n",
            "Epoch 30/100\n",
            "5881/5881 [==============================] - 1s 191us/step - loss: 2.5501e-05 - acc: 1.0000 - val_loss: 0.0964 - val_acc: 0.9850\n",
            "Epoch 31/100\n",
            "5881/5881 [==============================] - 1s 190us/step - loss: 2.3525e-05 - acc: 1.0000 - val_loss: 0.0970 - val_acc: 0.9850\n",
            "Epoch 32/100\n",
            "5881/5881 [==============================] - 1s 189us/step - loss: 2.1764e-05 - acc: 1.0000 - val_loss: 0.0978 - val_acc: 0.9857\n",
            "Epoch 33/100\n",
            "5881/5881 [==============================] - 1s 177us/step - loss: 2.0261e-05 - acc: 1.0000 - val_loss: 0.0984 - val_acc: 0.9857\n",
            "Epoch 34/100\n",
            "5881/5881 [==============================] - 1s 187us/step - loss: 1.8786e-05 - acc: 1.0000 - val_loss: 0.0991 - val_acc: 0.9857\n",
            "Epoch 35/100\n",
            "5881/5881 [==============================] - 1s 173us/step - loss: 1.7530e-05 - acc: 1.0000 - val_loss: 0.0996 - val_acc: 0.9857\n",
            "Epoch 36/100\n",
            "5881/5881 [==============================] - 1s 183us/step - loss: 1.6468e-05 - acc: 1.0000 - val_loss: 0.1001 - val_acc: 0.9857\n",
            "Epoch 37/100\n",
            "5881/5881 [==============================] - 1s 195us/step - loss: 1.5470e-05 - acc: 1.0000 - val_loss: 0.1005 - val_acc: 0.9857\n",
            "Epoch 38/100\n",
            "5881/5881 [==============================] - 1s 184us/step - loss: 1.4550e-05 - acc: 1.0000 - val_loss: 0.1012 - val_acc: 0.9857\n",
            "Epoch 39/100\n",
            "5881/5881 [==============================] - 1s 178us/step - loss: 1.3715e-05 - acc: 1.0000 - val_loss: 0.1019 - val_acc: 0.9857\n",
            "Epoch 40/100\n",
            "5881/5881 [==============================] - 1s 186us/step - loss: 1.2915e-05 - acc: 1.0000 - val_loss: 0.1023 - val_acc: 0.9857\n",
            "Epoch 41/100\n",
            "5881/5881 [==============================] - 1s 188us/step - loss: 1.2229e-05 - acc: 1.0000 - val_loss: 0.1027 - val_acc: 0.9857\n",
            "Epoch 42/100\n",
            "5881/5881 [==============================] - 1s 183us/step - loss: 1.1656e-05 - acc: 1.0000 - val_loss: 0.1033 - val_acc: 0.9857\n",
            "Epoch 43/100\n",
            "5881/5881 [==============================] - 1s 180us/step - loss: 1.0989e-05 - acc: 1.0000 - val_loss: 0.1036 - val_acc: 0.9857\n",
            "Epoch 44/100\n",
            "5881/5881 [==============================] - 1s 177us/step - loss: 1.0485e-05 - acc: 1.0000 - val_loss: 0.1042 - val_acc: 0.9857\n",
            "Epoch 45/100\n",
            "5881/5881 [==============================] - 1s 179us/step - loss: 9.9762e-06 - acc: 1.0000 - val_loss: 0.1047 - val_acc: 0.9857\n",
            "Epoch 46/100\n",
            "5881/5881 [==============================] - 1s 186us/step - loss: 9.4771e-06 - acc: 1.0000 - val_loss: 0.1050 - val_acc: 0.9857\n",
            "Epoch 47/100\n",
            "5881/5881 [==============================] - 1s 194us/step - loss: 9.0461e-06 - acc: 1.0000 - val_loss: 0.1055 - val_acc: 0.9857\n",
            "Epoch 48/100\n",
            "5881/5881 [==============================] - 1s 194us/step - loss: 8.6243e-06 - acc: 1.0000 - val_loss: 0.1060 - val_acc: 0.9857\n",
            "Epoch 49/100\n",
            "5881/5881 [==============================] - 1s 186us/step - loss: 8.2485e-06 - acc: 1.0000 - val_loss: 0.1064 - val_acc: 0.9857\n",
            "Epoch 50/100\n",
            "5881/5881 [==============================] - 1s 187us/step - loss: 7.8903e-06 - acc: 1.0000 - val_loss: 0.1067 - val_acc: 0.9857\n",
            "Epoch 51/100\n",
            "5881/5881 [==============================] - 1s 182us/step - loss: 7.5508e-06 - acc: 1.0000 - val_loss: 0.1071 - val_acc: 0.9857\n",
            "Epoch 52/100\n",
            "5881/5881 [==============================] - 1s 183us/step - loss: 7.2355e-06 - acc: 1.0000 - val_loss: 0.1076 - val_acc: 0.9857\n",
            "Epoch 53/100\n",
            "5881/5881 [==============================] - 1s 177us/step - loss: 6.9296e-06 - acc: 1.0000 - val_loss: 0.1080 - val_acc: 0.9857\n",
            "Epoch 54/100\n",
            "5881/5881 [==============================] - 1s 181us/step - loss: 6.6547e-06 - acc: 1.0000 - val_loss: 0.1084 - val_acc: 0.9857\n",
            "Epoch 55/100\n",
            "5881/5881 [==============================] - 1s 185us/step - loss: 6.3927e-06 - acc: 1.0000 - val_loss: 0.1087 - val_acc: 0.9857\n",
            "Epoch 56/100\n",
            "5881/5881 [==============================] - 1s 184us/step - loss: 6.1391e-06 - acc: 1.0000 - val_loss: 0.1090 - val_acc: 0.9857\n",
            "Epoch 57/100\n",
            "5881/5881 [==============================] - 1s 174us/step - loss: 5.9055e-06 - acc: 1.0000 - val_loss: 0.1093 - val_acc: 0.9857\n",
            "Epoch 58/100\n",
            "5881/5881 [==============================] - 1s 187us/step - loss: 5.6888e-06 - acc: 1.0000 - val_loss: 0.1097 - val_acc: 0.9857\n",
            "Epoch 59/100\n",
            "5881/5881 [==============================] - 1s 191us/step - loss: 5.4767e-06 - acc: 1.0000 - val_loss: 0.1102 - val_acc: 0.9857\n",
            "Epoch 60/100\n",
            "5881/5881 [==============================] - 1s 190us/step - loss: 5.2898e-06 - acc: 1.0000 - val_loss: 0.1105 - val_acc: 0.9857\n",
            "Epoch 61/100\n",
            "5881/5881 [==============================] - 1s 179us/step - loss: 5.1007e-06 - acc: 1.0000 - val_loss: 0.1107 - val_acc: 0.9857\n",
            "Epoch 62/100\n",
            "5881/5881 [==============================] - 1s 183us/step - loss: 4.9126e-06 - acc: 1.0000 - val_loss: 0.1110 - val_acc: 0.9857\n",
            "Epoch 63/100\n",
            "5881/5881 [==============================] - 1s 177us/step - loss: 4.7474e-06 - acc: 1.0000 - val_loss: 0.1114 - val_acc: 0.9857\n",
            "Epoch 64/100\n",
            "5881/5881 [==============================] - 1s 188us/step - loss: 4.5789e-06 - acc: 1.0000 - val_loss: 0.1117 - val_acc: 0.9857\n",
            "Epoch 65/100\n",
            "5881/5881 [==============================] - 1s 189us/step - loss: 4.4234e-06 - acc: 1.0000 - val_loss: 0.1119 - val_acc: 0.9857\n",
            "Epoch 66/100\n",
            "5881/5881 [==============================] - 1s 188us/step - loss: 4.2766e-06 - acc: 1.0000 - val_loss: 0.1123 - val_acc: 0.9857\n",
            "Epoch 67/100\n",
            "5881/5881 [==============================] - 1s 184us/step - loss: 4.1406e-06 - acc: 1.0000 - val_loss: 0.1126 - val_acc: 0.9857\n",
            "Epoch 68/100\n",
            "5881/5881 [==============================] - 1s 188us/step - loss: 4.0067e-06 - acc: 1.0000 - val_loss: 0.1128 - val_acc: 0.9857\n",
            "Epoch 69/100\n",
            "5881/5881 [==============================] - 1s 183us/step - loss: 3.8793e-06 - acc: 1.0000 - val_loss: 0.1131 - val_acc: 0.9857\n",
            "Epoch 70/100\n",
            "5881/5881 [==============================] - 1s 186us/step - loss: 3.7555e-06 - acc: 1.0000 - val_loss: 0.1134 - val_acc: 0.9857\n",
            "Epoch 71/100\n",
            "5881/5881 [==============================] - 1s 172us/step - loss: 3.6438e-06 - acc: 1.0000 - val_loss: 0.1136 - val_acc: 0.9857\n",
            "Epoch 72/100\n",
            "5881/5881 [==============================] - 1s 176us/step - loss: 3.5311e-06 - acc: 1.0000 - val_loss: 0.1139 - val_acc: 0.9857\n",
            "Epoch 73/100\n",
            "5881/5881 [==============================] - 1s 190us/step - loss: 3.4263e-06 - acc: 1.0000 - val_loss: 0.1142 - val_acc: 0.9857\n",
            "Epoch 74/100\n",
            "5881/5881 [==============================] - 1s 189us/step - loss: 3.3247e-06 - acc: 1.0000 - val_loss: 0.1143 - val_acc: 0.9857\n",
            "Epoch 75/100\n",
            "5881/5881 [==============================] - 1s 187us/step - loss: 3.2266e-06 - acc: 1.0000 - val_loss: 0.1146 - val_acc: 0.9857\n",
            "Epoch 76/100\n",
            "5881/5881 [==============================] - 1s 186us/step - loss: 3.1349e-06 - acc: 1.0000 - val_loss: 0.1149 - val_acc: 0.9857\n",
            "Epoch 77/100\n",
            "5881/5881 [==============================] - 1s 185us/step - loss: 3.0471e-06 - acc: 1.0000 - val_loss: 0.1151 - val_acc: 0.9857\n",
            "Epoch 78/100\n",
            "5881/5881 [==============================] - 1s 183us/step - loss: 2.9611e-06 - acc: 1.0000 - val_loss: 0.1154 - val_acc: 0.9857\n",
            "Epoch 79/100\n",
            "5881/5881 [==============================] - 1s 178us/step - loss: 2.8833e-06 - acc: 1.0000 - val_loss: 0.1156 - val_acc: 0.9857\n",
            "Epoch 80/100\n",
            "5881/5881 [==============================] - 1s 176us/step - loss: 2.7959e-06 - acc: 1.0000 - val_loss: 0.1159 - val_acc: 0.9857\n",
            "Epoch 81/100\n",
            "5881/5881 [==============================] - 1s 176us/step - loss: 2.7216e-06 - acc: 1.0000 - val_loss: 0.1161 - val_acc: 0.9857\n",
            "Epoch 82/100\n",
            "5881/5881 [==============================] - 1s 188us/step - loss: 2.6474e-06 - acc: 1.0000 - val_loss: 0.1163 - val_acc: 0.9857\n",
            "Epoch 83/100\n",
            "5881/5881 [==============================] - 1s 189us/step - loss: 2.5795e-06 - acc: 1.0000 - val_loss: 0.1166 - val_acc: 0.9857\n",
            "Epoch 84/100\n",
            "5881/5881 [==============================] - 1s 175us/step - loss: 2.5113e-06 - acc: 1.0000 - val_loss: 0.1168 - val_acc: 0.9857\n",
            "Epoch 85/100\n",
            "5881/5881 [==============================] - 1s 187us/step - loss: 2.4475e-06 - acc: 1.0000 - val_loss: 0.1170 - val_acc: 0.9857\n",
            "Epoch 86/100\n",
            "5881/5881 [==============================] - 1s 185us/step - loss: 2.3827e-06 - acc: 1.0000 - val_loss: 0.1173 - val_acc: 0.9857\n",
            "Epoch 87/100\n",
            "5881/5881 [==============================] - 1s 194us/step - loss: 2.3230e-06 - acc: 1.0000 - val_loss: 0.1174 - val_acc: 0.9857\n",
            "Epoch 88/100\n",
            "5881/5881 [==============================] - 1s 185us/step - loss: 2.2656e-06 - acc: 1.0000 - val_loss: 0.1176 - val_acc: 0.9857\n",
            "Epoch 89/100\n",
            "5881/5881 [==============================] - 1s 184us/step - loss: 2.2083e-06 - acc: 1.0000 - val_loss: 0.1178 - val_acc: 0.9857\n",
            "Epoch 90/100\n",
            "5881/5881 [==============================] - 1s 177us/step - loss: 2.1557e-06 - acc: 1.0000 - val_loss: 0.1180 - val_acc: 0.9857\n",
            "Epoch 91/100\n",
            "5881/5881 [==============================] - 1s 177us/step - loss: 2.1035e-06 - acc: 1.0000 - val_loss: 0.1182 - val_acc: 0.9857\n",
            "Epoch 92/100\n",
            "5881/5881 [==============================] - 1s 188us/step - loss: 2.0532e-06 - acc: 1.0000 - val_loss: 0.1184 - val_acc: 0.9857\n",
            "Epoch 93/100\n",
            "5881/5881 [==============================] - 1s 187us/step - loss: 2.0049e-06 - acc: 1.0000 - val_loss: 0.1186 - val_acc: 0.9857\n",
            "Epoch 94/100\n",
            "5881/5881 [==============================] - 1s 185us/step - loss: 1.9572e-06 - acc: 1.0000 - val_loss: 0.1187 - val_acc: 0.9857\n",
            "Epoch 95/100\n",
            "5881/5881 [==============================] - 1s 184us/step - loss: 1.9121e-06 - acc: 1.0000 - val_loss: 0.1189 - val_acc: 0.9857\n",
            "Epoch 96/100\n",
            "5881/5881 [==============================] - 1s 188us/step - loss: 1.8685e-06 - acc: 1.0000 - val_loss: 0.1191 - val_acc: 0.9857\n",
            "Epoch 97/100\n",
            "5881/5881 [==============================] - 1s 172us/step - loss: 1.8288e-06 - acc: 1.0000 - val_loss: 0.1193 - val_acc: 0.9857\n",
            "Epoch 98/100\n",
            "5881/5881 [==============================] - 1s 179us/step - loss: 1.7882e-06 - acc: 1.0000 - val_loss: 0.1194 - val_acc: 0.9857\n",
            "Epoch 99/100\n",
            "5881/5881 [==============================] - 1s 184us/step - loss: 1.7477e-06 - acc: 1.0000 - val_loss: 0.1197 - val_acc: 0.9857\n",
            "Epoch 100/100\n",
            "5881/5881 [==============================] - 1s 177us/step - loss: 1.7086e-06 - acc: 1.0000 - val_loss: 0.1198 - val_acc: 0.9857\n"
          ],
          "name": "stdout"
        }
      ]
    },
    {
      "cell_type": "code",
      "metadata": {
        "id": "d3_B2hIt1CxL",
        "colab_type": "code",
        "outputId": "9b3ffce7-cfbc-46a0-f932-23a6aa599e59",
        "colab": {
          "base_uri": "https://localhost:8080/",
          "height": 357
        }
      },
      "source": [
        "y_pred = classifier.predict(X_test)\n",
        "print(y_pred)\n",
        "y_pred = (y_pred > 0.5)\n",
        "print(y_pred)"
      ],
      "execution_count": 0,
      "outputs": [
        {
          "output_type": "stream",
          "text": [
            "[[1.00000000e+00 1.34997395e-11 5.25155788e-28 9.04650730e-20\n",
            "  3.24353674e-19 7.99219840e-20]\n",
            " [1.93261900e-12 1.52526686e-10 2.32973016e-12 5.89750904e-12\n",
            "  1.06855297e-11 1.00000000e+00]\n",
            " [1.00000000e+00 7.82367504e-10 4.16825614e-23 1.27294917e-16\n",
            "  1.05066450e-16 1.46152147e-16]\n",
            " ...\n",
            " [1.00000000e+00 2.07558482e-09 1.42809825e-20 6.15403656e-15\n",
            "  7.68985383e-15 3.63166774e-15]\n",
            " [1.03457538e-11 4.58764157e-13 1.96119912e-10 1.00000000e+00\n",
            "  1.70205065e-11 4.27671128e-11]\n",
            " [5.25340080e-13 2.80719191e-15 7.50983276e-10 1.00000000e+00\n",
            "  4.72692632e-13 1.78463808e-12]]\n",
            "[[ True False False False False False]\n",
            " [False False False False False  True]\n",
            " [ True False False False False False]\n",
            " ...\n",
            " [ True False False False False False]\n",
            " [False False False  True False False]\n",
            " [False False False  True False False]]\n"
          ],
          "name": "stdout"
        }
      ]
    },
    {
      "cell_type": "code",
      "metadata": {
        "id": "zo2FYzCF1HEb",
        "colab_type": "code",
        "outputId": "eddcfdeb-cfb5-4c05-f397-b0683769ffa7",
        "colab": {
          "base_uri": "https://localhost:8080/",
          "height": 119
        }
      },
      "source": [
        "from sklearn.metrics import classification_report, confusion_matrix\n",
        "cm=confusion_matrix(Y_test.argmax(axis=1), y_pred.argmax(axis=1))\n",
        "print(cm)\n"
      ],
      "execution_count": 0,
      "outputs": [
        {
          "output_type": "stream",
          "text": [
            "[[262   0   0   0   0   0]\n",
            " [  1 277   6   0   0   0]\n",
            " [  0  12 264   0   0   0]\n",
            " [  0   0   0 239   0   1]\n",
            " [  0   0   0   0 177   1]\n",
            " [  0   0   0   0   0 231]]\n"
          ],
          "name": "stdout"
        }
      ]
    },
    {
      "cell_type": "code",
      "metadata": {
        "id": "4TPAfx_v1Jv7",
        "colab_type": "code",
        "outputId": "b3bcbe82-9ef6-4e39-ca90-102ef9d557df",
        "colab": {
          "base_uri": "https://localhost:8080/",
          "height": 272
        }
      },
      "source": [
        "from sklearn.metrics import accuracy_score \n",
        "print(accuracy_score(Y_test, y_pred)*100,'%')\n",
        "#print (((cm[0][0]+cm[1][1])*100)/(cm[0][0]+cm[1][1]+cm[0][1]+cm[1][0]), '% of testing data was classified correctly')\n",
        "print(classification_report(Y_test,y_pred))"
      ],
      "execution_count": 0,
      "outputs": [
        {
          "output_type": "stream",
          "text": [
            "98.57239972807615 %\n",
            "              precision    recall  f1-score   support\n",
            "\n",
            "           0       1.00      1.00      1.00       262\n",
            "           1       0.96      0.98      0.97       284\n",
            "           2       0.98      0.96      0.97       276\n",
            "           3       1.00      1.00      1.00       240\n",
            "           4       1.00      0.99      1.00       178\n",
            "           5       0.99      1.00      1.00       231\n",
            "\n",
            "   micro avg       0.99      0.99      0.99      1471\n",
            "   macro avg       0.99      0.99      0.99      1471\n",
            "weighted avg       0.99      0.99      0.99      1471\n",
            " samples avg       0.99      0.99      0.99      1471\n",
            "\n"
          ],
          "name": "stdout"
        }
      ]
    },
    {
      "cell_type": "code",
      "metadata": {
        "id": "qGJlrrrC1M3s",
        "colab_type": "code",
        "outputId": "e03c3cc1-ef23-4acf-9250-5b64b17c09d0",
        "colab": {
          "base_uri": "https://localhost:8080/",
          "height": 295
        }
      },
      "source": [
        "plt.plot(hist.history['loss'])\n",
        "plt.plot(hist.history['val_loss'])\n",
        "plt.title('Model loss')\n",
        "plt.ylabel('Loss')\n",
        "plt.xlabel('Epoch')\n",
        "plt.legend(['Train', 'Val'], loc='upper right')\n",
        "plt.show()\n",
        "\n"
      ],
      "execution_count": 0,
      "outputs": [
        {
          "output_type": "display_data",
          "data": {
            "image/png": "[encoded data removed]",
            "text/plain": [
              "<Figure size 432x288 with 1 Axes>"
            ]
          },
          "metadata": {
            "tags": []
          }
        }
      ]
    },
    {
      "cell_type": "code",
      "metadata": {
        "id": "JbiYnkCi1Ri9",
        "colab_type": "code",
        "outputId": "8fa3f0d0-30c9-44c3-f5df-8eef3107bdc8",
        "colab": {
          "base_uri": "https://localhost:8080/",
          "height": 295
        }
      },
      "source": [
        "plt.plot(hist.history['acc'])\n",
        "plt.plot(hist.history['val_acc'])\n",
        "plt.title('Model accuracy')\n",
        "plt.ylabel('Accuracy')\n",
        "plt.xlabel('Epoch')\n",
        "plt.legend(['Train', 'Val'], loc='lower right')\n",
        "plt.show()\n",
        "\n"
      ],
      "execution_count": 0,
      "outputs": [
        {
          "output_type": "display_data",
          "data": {
            "image/png": "[encoded data removed]",
            "text/plain": [
              "<Figure size 432x288 with 1 Axes>"
            ]
          },
          "metadata": {
            "tags": []
          }
        }
      ]
    },
    {
      "cell_type": "code",
      "metadata": {
        "id": "y7QVvC9y_zaW",
        "colab_type": "code",
        "outputId": "ce38a3b9-ddd3-43d4-db7f-537dedb61e7f",
        "colab": {
          "base_uri": "https://localhost:8080/",
          "height": 295
        }
      },
      "source": [
        "plt.plot(hist.history['loss'])\n",
        "plt.plot(hist.history['val_loss'])\n",
        "plt.title('Model loss')\n",
        "plt.ylabel('Loss')\n",
        "plt.xlabel('Epoch')\n",
        "plt.legend(['Test', 'Val'], loc='upper right')\n",
        "plt.show()"
      ],
      "execution_count": 0,
      "outputs": [
        {
          "output_type": "display_data",
          "data": {
            "image/png": "[encoded data removed]",
            "text/plain": [
              "<Figure size 432x288 with 1 Axes>"
            ]
          },
          "metadata": {
            "tags": []
          }
        }
      ]
    },
    {
      "cell_type": "code",
      "metadata": {
        "id": "k5M5mEjC_8rF",
        "colab_type": "code",
        "outputId": "d996eb10-2beb-4eb9-f2af-e3611ab3d4d1",
        "colab": {
          "base_uri": "https://localhost:8080/",
          "height": 295
        }
      },
      "source": [
        "plt.plot(hist.history['acc'])\n",
        "plt.plot(hist.history['val_acc'])\n",
        "plt.title('Model accuracy')\n",
        "plt.ylabel('Accuracy')\n",
        "plt.xlabel('Epoch')\n",
        "plt.legend(['Test', 'Val'], loc='lower right')\n",
        "plt.show()\n",
        "\n"
      ],
      "execution_count": 0,
      "outputs": [
        {
          "output_type": "display_data",
          "data": {
            "image/png": "[encoded data removed]",
            "text/plain": [
              "<Figure size 432x288 with 1 Axes>"
            ]
          },
          "metadata": {
            "tags": []
          }
        }
      ]
    },
    {
      "cell_type": "code",
      "metadata": {
        "id": "8bDZa89fBo7Y",
        "colab_type": "code",
        "colab": {}
      },
      "source": [
        "import tensorflow as tf"
      ],
      "execution_count": 0,
      "outputs": []
    },
    {
      "cell_type": "code",
      "metadata": {
        "id": "M_3FXszbBpCT",
        "colab_type": "code",
        "colab": {}
      },
      "source": [
        "def get_compiled_model():\n",
        "    model = tf.keras.Sequential([\n",
        "    tf.keras.layers.Dense(10, activation='relu'),\n",
        "    tf.keras.layers.Dense(10, activation='relu'),\n",
        "    tf.keras.layers.Dense(1, activation='sigmoid')\n",
        "  ])\n",
        "\n",
        "    model.compile(optimizer='adam',\n",
        "                loss='binary_crossentropy',\n",
        "                metrics=['accuracy'])\n",
        "    return model"
      ],
      "execution_count": 0,
      "outputs": []
    },
    {
      "cell_type": "code",
      "metadata": {
        "id": "kvj3fY2kBpFD",
        "colab_type": "code",
        "colab": {}
      },
      "source": [
        "model = get_compiled_model()\n",
        "model.fit(, epochs=10)"
      ],
      "execution_count": 0,
      "outputs": []
    },
    {
      "cell_type": "code",
      "metadata": {
        "id": "tssWdHEfBpIT",
        "colab_type": "code",
        "colab": {}
      },
      "source": [
        ""
      ],
      "execution_count": 0,
      "outputs": []
    },
    {
      "cell_type": "code",
      "metadata": {
        "id": "QWupz-zNBpLD",
        "colab_type": "code",
        "colab": {}
      },
      "source": [
        ""
      ],
      "execution_count": 0,
      "outputs": []
    },
    {
      "cell_type": "code",
      "metadata": {
        "id": "6-LBaPYXBpNj",
        "colab_type": "code",
        "outputId": "411d7af5-b082-4b8a-8954-c1d42826e730",
        "colab": {
          "base_uri": "https://localhost:8080/",
          "height": 34
        }
      },
      "source": [
        ""
      ],
      "execution_count": 0,
      "outputs": [
        {
          "output_type": "execute_result",
          "data": {
            "text/plain": [
              "(5881, 561)"
            ]
          },
          "metadata": {
            "tags": []
          },
          "execution_count": 28
        }
      ]
    },
    {
      "cell_type": "code",
      "metadata": {
        "id": "h1GUr_gfBpQT",
        "colab_type": "code",
        "colab": {}
      },
      "source": [
        ""
      ],
      "execution_count": 0,
      "outputs": []
    },
    {
      "cell_type": "code",
      "metadata": {
        "id": "nlgDXUhSBpTD",
        "colab_type": "code",
        "colab": {}
      },
      "source": [
        ""
      ],
      "execution_count": 0,
      "outputs": []
    },
    {
      "cell_type": "code",
      "metadata": {
        "id": "rbZ-a1NMBpVj",
        "colab_type": "code",
        "colab": {}
      },
      "source": [
        ""
      ],
      "execution_count": 0,
      "outputs": []
    },
    {
      "cell_type": "code",
      "metadata": {
        "id": "Wy5xx_prBpYj",
        "colab_type": "code",
        "colab": {}
      },
      "source": [
        ""
      ],
      "execution_count": 0,
      "outputs": []
    },
    {
      "cell_type": "code",
      "metadata": {
        "id": "L1alQ6D6BpbD",
        "colab_type": "code",
        "colab": {}
      },
      "source": [
        ""
      ],
      "execution_count": 0,
      "outputs": []
    }
  ]
}